{
  "nbformat": 4,
  "nbformat_minor": 0,
  "metadata": {
    "colab": {
      "provenance": [],
      "collapsed_sections": [
        "2pWxV67nh5RN",
        "pqcGle4ncf_4",
        "TEwmNvphBAbx"
      ],
      "toc_visible": true,
      "authorship_tag": "ABX9TyNwVRD5oYQe/2aUJbl10q82",
      "include_colab_link": true
    },
    "kernelspec": {
      "name": "python3",
      "display_name": "Python 3"
    },
    "language_info": {
      "name": "python"
    }
  },
  "cells": [
    {
      "cell_type": "markdown",
      "metadata": {
        "id": "view-in-github",
        "colab_type": "text"
      },
      "source": [
        "<a href=\"https://colab.research.google.com/github/Sogum0503/LikeLion_DataSchool/blob/main/%5B%EB%8D%B0%EC%9D%B4%ED%84%B0%EB%B6%84%EC%84%9D%EC%8A%A4%EC%BF%A8%5D_0427_1.ipynb\" target=\"_parent\"><img src=\"https://colab.research.google.com/assets/colab-badge.svg\" alt=\"Open In Colab\"/></a>"
      ]
    },
    {
      "cell_type": "markdown",
      "source": [
        "# 입력과 출력 "
      ],
      "metadata": {
        "id": "2pWxV67nh5RN"
      }
    },
    {
      "cell_type": "code",
      "source": [
        "x = input() # 입력 받는 값은 문자열입니다. \n",
        "\n",
        "print(x + x)"
      ],
      "metadata": {
        "colab": {
          "base_uri": "https://localhost:8080/"
        },
        "id": "JvxA5C5JiB4x",
        "outputId": "11fb941d-0e81-448c-b972-226bc71bdc3a"
      },
      "execution_count": null,
      "outputs": [
        {
          "output_type": "stream",
          "name": "stdout",
          "text": [
            "1\n",
            "11\n"
          ]
        }
      ]
    },
    {
      "cell_type": "code",
      "source": [
        "print() # built in function : https://docs.python.org/3/library/functions.html"
      ],
      "metadata": {
        "colab": {
          "base_uri": "https://localhost:8080/"
        },
        "id": "ZvbQ32deiP1K",
        "outputId": "584d784a-8fe0-4c5a-8be3-80072eb0a97e"
      },
      "execution_count": null,
      "outputs": [
        {
          "output_type": "stream",
          "name": "stdout",
          "text": [
            "\n"
          ]
        }
      ]
    },
    {
      "cell_type": "code",
      "source": [
        "leehojun = print\n",
        "leehojun('helloid')\n",
        "\n",
        "id(print), id(leehojun)"
      ],
      "metadata": {
        "colab": {
          "base_uri": "https://localhost:8080/"
        },
        "id": "TtxosfTuijha",
        "outputId": "4b3fed5d-e7b4-4c6b-ea53-23a856ca5416"
      },
      "execution_count": null,
      "outputs": [
        {
          "output_type": "stream",
          "name": "stdout",
          "text": [
            "helloid\n"
          ]
        },
        {
          "output_type": "execute_result",
          "data": {
            "text/plain": [
              "(139651217729232, 139651217729232)"
            ]
          },
          "metadata": {},
          "execution_count": 83
        }
      ]
    },
    {
      "cell_type": "code",
      "source": [
        "print('hello world', end = '!')"
      ],
      "metadata": {
        "colab": {
          "base_uri": "https://localhost:8080/"
        },
        "id": "yUcvZXgHi3zp",
        "outputId": "a97e6c68-5237-4594-a1e7-73820912b9bd"
      },
      "execution_count": null,
      "outputs": [
        {
          "output_type": "stream",
          "name": "stdout",
          "text": [
            "hello world!"
          ]
        }
      ]
    },
    {
      "cell_type": "code",
      "source": [
        "# 여러가지 포멧팅 기법 \n",
        "\n",
        "이름 = '김경미'\n",
        "나이 = 10 \n",
        "\n",
        "print('1. 제 이름은 ', 이름, '입니다. 제 나이는 ', 나이, '입니다')\n",
        "print(f'2. 제 이름은 {이름}입니다. 제 나이는 {나이}입니다.')\n",
        "print('3. 제 이름은 {}입니다. 제 나이는 {}입니다.'.format(이름, 나이))\n",
        "print('4. 제 이름은 %s입니다. 제 나이는 %d입니다.'%(이름, 나이))"
      ],
      "metadata": {
        "colab": {
          "base_uri": "https://localhost:8080/"
        },
        "id": "lLIKIjqv516h",
        "outputId": "33532079-8859-433b-dbdf-26a468fa032d"
      },
      "execution_count": null,
      "outputs": [
        {
          "output_type": "stream",
          "name": "stdout",
          "text": [
            "1. 제 이름은  김경미 입니다. 제 나이는  10 입니다\n",
            "2. 제 이름은 김경미입니다. 제 나이는 10입니다.\n",
            "3. 제 이름은 김경미입니다. 제 나이는 10입니다.\n",
            "4. 제 이름은 김경미입니다. 제 나이는 10입니다.\n"
          ]
        }
      ]
    },
    {
      "cell_type": "markdown",
      "source": [
        "# 자료형"
      ],
      "metadata": {
        "id": "zhpuKcty9P7g"
      }
    },
    {
      "cell_type": "markdown",
      "source": [
        "## int(정수) type"
      ],
      "metadata": {
        "id": "pqcGle4ncf_4"
      }
    },
    {
      "cell_type": "code",
      "source": [
        "a = 10\n",
        "\n",
        "type(a)"
      ],
      "metadata": {
        "colab": {
          "base_uri": "https://localhost:8080/"
        },
        "id": "ZRbk1OTActAi",
        "outputId": "c44fdc15-f290-47de-baa5-3626e3b57c50"
      },
      "execution_count": null,
      "outputs": [
        {
          "output_type": "execute_result",
          "data": {
            "text/plain": [
              "int"
            ]
          },
          "metadata": {},
          "execution_count": 18
        }
      ]
    },
    {
      "cell_type": "code",
      "source": [
        "dir(a) # 디렉토리, a가 가지고 있는 모든 속성을 출력한다. "
      ],
      "metadata": {
        "colab": {
          "base_uri": "https://localhost:8080/"
        },
        "id": "FBnEr9kscgKm",
        "outputId": "d80adc53-cb3d-4272-82b2-19f6e2a639d4"
      },
      "execution_count": null,
      "outputs": [
        {
          "output_type": "execute_result",
          "data": {
            "text/plain": [
              "['__abs__',\n",
              " '__add__',\n",
              " '__and__',\n",
              " '__bool__',\n",
              " '__ceil__',\n",
              " '__class__',\n",
              " '__delattr__',\n",
              " '__dir__',\n",
              " '__divmod__',\n",
              " '__doc__',\n",
              " '__eq__',\n",
              " '__float__',\n",
              " '__floor__',\n",
              " '__floordiv__',\n",
              " '__format__',\n",
              " '__ge__',\n",
              " '__getattribute__',\n",
              " '__getnewargs__',\n",
              " '__gt__',\n",
              " '__hash__',\n",
              " '__index__',\n",
              " '__init__',\n",
              " '__init_subclass__',\n",
              " '__int__',\n",
              " '__invert__',\n",
              " '__le__',\n",
              " '__lshift__',\n",
              " '__lt__',\n",
              " '__mod__',\n",
              " '__mul__',\n",
              " '__ne__',\n",
              " '__neg__',\n",
              " '__new__',\n",
              " '__or__',\n",
              " '__pos__',\n",
              " '__pow__',\n",
              " '__radd__',\n",
              " '__rand__',\n",
              " '__rdivmod__',\n",
              " '__reduce__',\n",
              " '__reduce_ex__',\n",
              " '__repr__',\n",
              " '__rfloordiv__',\n",
              " '__rlshift__',\n",
              " '__rmod__',\n",
              " '__rmul__',\n",
              " '__ror__',\n",
              " '__round__',\n",
              " '__rpow__',\n",
              " '__rrshift__',\n",
              " '__rshift__',\n",
              " '__rsub__',\n",
              " '__rtruediv__',\n",
              " '__rxor__',\n",
              " '__setattr__',\n",
              " '__sizeof__',\n",
              " '__str__',\n",
              " '__sub__',\n",
              " '__subclasshook__',\n",
              " '__truediv__',\n",
              " '__trunc__',\n",
              " '__xor__',\n",
              " 'as_integer_ratio',\n",
              " 'bit_length',\n",
              " 'conjugate',\n",
              " 'denominator',\n",
              " 'from_bytes',\n",
              " 'imag',\n",
              " 'numerator',\n",
              " 'real',\n",
              " 'to_bytes']"
            ]
          },
          "metadata": {},
          "execution_count": 19
        }
      ]
    },
    {
      "cell_type": "code",
      "source": [
        "a = 0b110   #int, 2진법 : 0,1 (숫자를 2개만 쓰는 것)\n",
        "b = 0o56    #int, 8진법 : 0, 1, 2, 3, 4, 5, 6, 7 (숫자를 8개만 쓰는 것입니다.)\n",
        "c = 0xAD    #int, 16진법 : 0, 1, 2, 3, 4, 5, 6, 7, 8, 9, a, b, c, d, e, f (숫자를 16개 쓰는 것입니다.)\n",
        "\n",
        "type(a), type(b), type(c)"
      ],
      "metadata": {
        "colab": {
          "base_uri": "https://localhost:8080/"
        },
        "id": "Nqx_yckHfrJF",
        "outputId": "d13b5956-c21d-400e-f979-b819e840ae0d"
      },
      "execution_count": null,
      "outputs": [
        {
          "output_type": "execute_result",
          "data": {
            "text/plain": [
              "(int, int, int)"
            ]
          },
          "metadata": {},
          "execution_count": 20
        }
      ]
    },
    {
      "cell_type": "code",
      "source": [
        "# 287 ==  (10^0) * 2 + (10^0) * 8 + (10^0) * 7 ## 10진법\n",
        "# 110 ==  (2^2) * 1 + (2^1) * 1 + (2^0) * 0 => 4 + 2 + 0  ## 2진법  \n",
        "# AC == (16^1) * A + (16^0) * C => 160 + 12  ## 16진법 "
      ],
      "metadata": {
        "id": "KEJg4GtdhS1z"
      },
      "execution_count": null,
      "outputs": []
    },
    {
      "cell_type": "code",
      "source": [
        "a, b, c"
      ],
      "metadata": {
        "colab": {
          "base_uri": "https://localhost:8080/"
        },
        "id": "KtlIEsbsfrQx",
        "outputId": "06b75b05-ed0a-494d-c227-7f22f4727918"
      },
      "execution_count": null,
      "outputs": [
        {
          "output_type": "execute_result",
          "data": {
            "text/plain": [
              "(6, 46, 172)"
            ]
          },
          "metadata": {},
          "execution_count": 21
        }
      ]
    },
    {
      "cell_type": "code",
      "source": [
        "# 알고리즘 문제에 자주 나와서 외워두기 \n",
        "bin(6), oct(46), hex(172)"
      ],
      "metadata": {
        "colab": {
          "base_uri": "https://localhost:8080/"
        },
        "id": "hAjdlumMidoM",
        "outputId": "9e67851a-8831-4096-fb76-942cfab0d260"
      },
      "execution_count": null,
      "outputs": [
        {
          "output_type": "execute_result",
          "data": {
            "text/plain": [
              "('0b110', '0o56', '0xac')"
            ]
          },
          "metadata": {},
          "execution_count": 25
        }
      ]
    },
    {
      "cell_type": "code",
      "source": [
        "0.1 + 0.2 \n",
        "# 모든 언어 공통(2진법으로 변환했을 때 무한대수가 발생된다) \n",
        "# 부동 소수점 오차 발생! "
      ],
      "metadata": {
        "colab": {
          "base_uri": "https://localhost:8080/"
        },
        "id": "ct-aZO-cfrXh",
        "outputId": "275939ed-0a58-4dfd-f612-e2eafe7e2f91"
      },
      "execution_count": null,
      "outputs": [
        {
          "output_type": "execute_result",
          "data": {
            "text/plain": [
              "0.30000000000000004"
            ]
          },
          "metadata": {},
          "execution_count": 24
        }
      ]
    },
    {
      "cell_type": "code",
      "source": [
        "a = 10 \n",
        "type(a)"
      ],
      "metadata": {
        "colab": {
          "base_uri": "https://localhost:8080/"
        },
        "id": "KBq9lrlElU51",
        "outputId": "5ebbbcfb-b47d-4d9e-ea11-5f3065bfb7a3"
      },
      "execution_count": null,
      "outputs": [
        {
          "output_type": "execute_result",
          "data": {
            "text/plain": [
              "int"
            ]
          },
          "metadata": {},
          "execution_count": 27
        }
      ]
    },
    {
      "cell_type": "code",
      "source": [
        "int('100') + int('100') # 형변환 "
      ],
      "metadata": {
        "colab": {
          "base_uri": "https://localhost:8080/"
        },
        "id": "yS75iTcllWmI",
        "outputId": "36e9d94e-a90f-4cb2-e859-6aa3b1d8157a"
      },
      "execution_count": null,
      "outputs": [
        {
          "output_type": "execute_result",
          "data": {
            "text/plain": [
              "200"
            ]
          },
          "metadata": {},
          "execution_count": 28
        }
      ]
    },
    {
      "cell_type": "code",
      "source": [
        "int('0b110',2) # 2진법 형변환 되어서 숫자가 출력됨"
      ],
      "metadata": {
        "colab": {
          "base_uri": "https://localhost:8080/"
        },
        "id": "mf0ccc6nllta",
        "outputId": "79d93dc3-4c29-4218-ccf9-15546489e6bb"
      },
      "execution_count": null,
      "outputs": [
        {
          "output_type": "execute_result",
          "data": {
            "text/plain": [
              "6"
            ]
          },
          "metadata": {},
          "execution_count": 31
        }
      ]
    },
    {
      "cell_type": "code",
      "source": [
        "int('110',2)"
      ],
      "metadata": {
        "id": "PWuujJu5l4n2",
        "outputId": "d628ba82-cc26-49b1-f8f3-a7d2c1fbf4db",
        "colab": {
          "base_uri": "https://localhost:8080/"
        }
      },
      "execution_count": null,
      "outputs": [
        {
          "output_type": "execute_result",
          "data": {
            "text/plain": [
              "6"
            ]
          },
          "metadata": {},
          "execution_count": 33
        }
      ]
    },
    {
      "cell_type": "code",
      "source": [
        "int('0o56',8) # 8진법 형변환 되어서 숫자가 출력됨 "
      ],
      "metadata": {
        "colab": {
          "base_uri": "https://localhost:8080/"
        },
        "id": "SsRZy7f5lvVv",
        "outputId": "f57eb206-b246-4b0e-807d-d83a07da29e8"
      },
      "execution_count": null,
      "outputs": [
        {
          "output_type": "execute_result",
          "data": {
            "text/plain": [
              "46"
            ]
          },
          "metadata": {},
          "execution_count": 30
        }
      ]
    },
    {
      "cell_type": "code",
      "source": [
        "int('0xac',16) "
      ],
      "metadata": {
        "colab": {
          "base_uri": "https://localhost:8080/"
        },
        "id": "KHKmuj54lz44",
        "outputId": "f0660e80-c722-4284-baa5-2df9da4a470e"
      },
      "execution_count": null,
      "outputs": [
        {
          "output_type": "execute_result",
          "data": {
            "text/plain": [
              "172"
            ]
          },
          "metadata": {},
          "execution_count": 32
        }
      ]
    },
    {
      "cell_type": "code",
      "source": [],
      "metadata": {
        "id": "s5hq8gXDcgj5"
      },
      "execution_count": null,
      "outputs": []
    },
    {
      "cell_type": "code",
      "source": [],
      "metadata": {
        "id": "X9ojkmyFcgz3"
      },
      "execution_count": null,
      "outputs": []
    },
    {
      "cell_type": "code",
      "source": [],
      "metadata": {
        "id": "AOIYVyjocg7t"
      },
      "execution_count": null,
      "outputs": []
    },
    {
      "cell_type": "code",
      "source": [],
      "metadata": {
        "id": "O241LymZchA_"
      },
      "execution_count": null,
      "outputs": []
    },
    {
      "cell_type": "code",
      "source": [],
      "metadata": {
        "id": "elO98Qp2chFQ"
      },
      "execution_count": null,
      "outputs": []
    },
    {
      "cell_type": "code",
      "source": [],
      "metadata": {
        "id": "pzoxjITggdbB"
      },
      "execution_count": null,
      "outputs": []
    },
    {
      "cell_type": "code",
      "source": [],
      "metadata": {
        "id": "U1dfN6wpgdea"
      },
      "execution_count": null,
      "outputs": []
    },
    {
      "cell_type": "code",
      "source": [],
      "metadata": {
        "id": "JIHIjgk7gdhY"
      },
      "execution_count": null,
      "outputs": []
    },
    {
      "cell_type": "code",
      "source": [],
      "metadata": {
        "id": "zK2eKpSYgdlD"
      },
      "execution_count": null,
      "outputs": []
    },
    {
      "cell_type": "code",
      "source": [],
      "metadata": {
        "id": "i2tvXFo3gdn2"
      },
      "execution_count": null,
      "outputs": []
    },
    {
      "cell_type": "code",
      "source": [],
      "metadata": {
        "id": "BeOABx7QBYZd"
      },
      "execution_count": null,
      "outputs": []
    },
    {
      "cell_type": "code",
      "source": [],
      "metadata": {
        "id": "7Pd9TSxeBYb8"
      },
      "execution_count": null,
      "outputs": []
    },
    {
      "cell_type": "code",
      "source": [],
      "metadata": {
        "id": "EYKTZGHsBYea"
      },
      "execution_count": null,
      "outputs": []
    },
    {
      "cell_type": "code",
      "source": [],
      "metadata": {
        "id": "FG9saN8rBYgv"
      },
      "execution_count": null,
      "outputs": []
    },
    {
      "cell_type": "code",
      "source": [],
      "metadata": {
        "id": "0dIyylVFBYjF"
      },
      "execution_count": null,
      "outputs": []
    },
    {
      "cell_type": "code",
      "source": [],
      "metadata": {
        "id": "dvGf_gaSBYlk"
      },
      "execution_count": null,
      "outputs": []
    },
    {
      "cell_type": "code",
      "source": [],
      "metadata": {
        "id": "qeZVpqPMBYoB"
      },
      "execution_count": null,
      "outputs": []
    },
    {
      "cell_type": "code",
      "source": [],
      "metadata": {
        "id": "95uSPPIPBYqE"
      },
      "execution_count": null,
      "outputs": []
    },
    {
      "cell_type": "code",
      "source": [],
      "metadata": {
        "id": "DD0PY3dUBYsn"
      },
      "execution_count": null,
      "outputs": []
    },
    {
      "cell_type": "code",
      "source": [],
      "metadata": {
        "id": "RxN4XJcyBYu3"
      },
      "execution_count": null,
      "outputs": []
    },
    {
      "cell_type": "code",
      "source": [],
      "metadata": {
        "id": "9Db_3ztyBYw4"
      },
      "execution_count": null,
      "outputs": []
    },
    {
      "cell_type": "code",
      "source": [],
      "metadata": {
        "id": "FStNiqBo6WEb"
      },
      "execution_count": null,
      "outputs": []
    },
    {
      "cell_type": "code",
      "source": [],
      "metadata": {
        "id": "zkhJw-KngdOY"
      },
      "execution_count": null,
      "outputs": []
    },
    {
      "cell_type": "code",
      "source": [
        "# f-string 용법 \n",
        "\n",
        "name = 'hojun'\n",
        "age = 11\n",
        "\n",
        "print(f'name:{name} and age: {age}')"
      ],
      "metadata": {
        "colab": {
          "base_uri": "https://localhost:8080/"
        },
        "id": "9-m-ALPRPavY",
        "outputId": "183e380c-79cc-436a-f1d3-33d51abdd593"
      },
      "execution_count": null,
      "outputs": [
        {
          "output_type": "stream",
          "name": "stdout",
          "text": [
            "name:hojun and age: 11\n"
          ]
        }
      ]
    },
    {
      "cell_type": "code",
      "source": [
        "# format 용법\n",
        "\n",
        "name = 'hojun'\n",
        "age = 11\n",
        "height = 179.99999\n",
        "\n",
        "print('name {} age {}'.format(name, age))\n",
        "print('name {0} age {1}'.format(name, age))\n",
        "print('name {1} age {1}'.format(name, age))"
      ],
      "metadata": {
        "colab": {
          "base_uri": "https://localhost:8080/"
        },
        "id": "itYdmKt6P8Sr",
        "outputId": "92c9839e-bd2a-4b07-d8dd-a4617acd6986"
      },
      "execution_count": null,
      "outputs": [
        {
          "output_type": "stream",
          "name": "stdout",
          "text": [
            "name hojun age 11\n",
            "name hojun age 11\n",
            "name 11 age 11\n"
          ]
        }
      ]
    },
    {
      "cell_type": "markdown",
      "source": [
        "## Float(실수) "
      ],
      "metadata": {
        "id": "TEwmNvphBAbx"
      }
    },
    {
      "cell_type": "code",
      "source": [
        "a = 10.1 \n",
        "\n",
        "type(a)"
      ],
      "metadata": {
        "id": "p3RxaibgBXsz",
        "colab": {
          "base_uri": "https://localhost:8080/"
        },
        "outputId": "3554d9cc-7ed0-48e4-adfe-e5c17f8139c4"
      },
      "execution_count": null,
      "outputs": [
        {
          "output_type": "execute_result",
          "data": {
            "text/plain": [
              "float"
            ]
          },
          "metadata": {},
          "execution_count": 1
        }
      ]
    },
    {
      "cell_type": "code",
      "source": [
        "dir(a)"
      ],
      "metadata": {
        "id": "Ry9DSJsuBYCH",
        "colab": {
          "base_uri": "https://localhost:8080/"
        },
        "outputId": "87f72110-87b2-429d-c1af-12b0ebaad8c6"
      },
      "execution_count": null,
      "outputs": [
        {
          "output_type": "execute_result",
          "data": {
            "text/plain": [
              "['__abs__',\n",
              " '__add__',\n",
              " '__bool__',\n",
              " '__ceil__',\n",
              " '__class__',\n",
              " '__delattr__',\n",
              " '__dir__',\n",
              " '__divmod__',\n",
              " '__doc__',\n",
              " '__eq__',\n",
              " '__float__',\n",
              " '__floor__',\n",
              " '__floordiv__',\n",
              " '__format__',\n",
              " '__ge__',\n",
              " '__getattribute__',\n",
              " '__getformat__',\n",
              " '__getnewargs__',\n",
              " '__gt__',\n",
              " '__hash__',\n",
              " '__init__',\n",
              " '__init_subclass__',\n",
              " '__int__',\n",
              " '__le__',\n",
              " '__lt__',\n",
              " '__mod__',\n",
              " '__mul__',\n",
              " '__ne__',\n",
              " '__neg__',\n",
              " '__new__',\n",
              " '__pos__',\n",
              " '__pow__',\n",
              " '__radd__',\n",
              " '__rdivmod__',\n",
              " '__reduce__',\n",
              " '__reduce_ex__',\n",
              " '__repr__',\n",
              " '__rfloordiv__',\n",
              " '__rmod__',\n",
              " '__rmul__',\n",
              " '__round__',\n",
              " '__rpow__',\n",
              " '__rsub__',\n",
              " '__rtruediv__',\n",
              " '__setattr__',\n",
              " '__setformat__',\n",
              " '__sizeof__',\n",
              " '__str__',\n",
              " '__sub__',\n",
              " '__subclasshook__',\n",
              " '__truediv__',\n",
              " '__trunc__',\n",
              " 'as_integer_ratio',\n",
              " 'conjugate',\n",
              " 'fromhex',\n",
              " 'hex',\n",
              " 'imag',\n",
              " 'is_integer',\n",
              " 'real']"
            ]
          },
          "metadata": {},
          "execution_count": 2
        }
      ]
    },
    {
      "cell_type": "code",
      "source": [
        "type(10 + 10.1)  # 다른 언어는 error가 발생됨 "
      ],
      "metadata": {
        "id": "iBEUo6g8BYMg",
        "colab": {
          "base_uri": "https://localhost:8080/"
        },
        "outputId": "4a7b9256-16d1-4801-9531-0b974d1962bb"
      },
      "execution_count": null,
      "outputs": [
        {
          "output_type": "execute_result",
          "data": {
            "text/plain": [
              "float"
            ]
          },
          "metadata": {},
          "execution_count": 4
        }
      ]
    },
    {
      "cell_type": "markdown",
      "source": [
        "## str(문자열) \n",
        "\n",
        "- 왜 문자'형'이 아니라 문자'열'일까요? "
      ],
      "metadata": {
        "id": "oxyzUeOUBYPo"
      }
    },
    {
      "cell_type": "code",
      "source": [
        "a = 'Hello World'\n",
        "\n",
        "type(a)"
      ],
      "metadata": {
        "colab": {
          "base_uri": "https://localhost:8080/"
        },
        "id": "s1FLUdxxGZxU",
        "outputId": "ade3266a-6573-4f21-874b-5a1a70163ac4"
      },
      "execution_count": null,
      "outputs": [
        {
          "output_type": "execute_result",
          "data": {
            "text/plain": [
              "str"
            ]
          },
          "metadata": {},
          "execution_count": 5
        }
      ]
    },
    {
      "cell_type": "code",
      "source": [
        "b = 'paullab CEO leehojun'\n",
        "\n",
        "b[0] # 대괄호 안에 들어가는 값을 index라 하고, 이렇게 index로 값을 호출하는 방법을 indexing이라고 합니다. "
      ],
      "metadata": {
        "colab": {
          "base_uri": "https://localhost:8080/",
          "height": 35
        },
        "id": "n_yXQXlzKPnN",
        "outputId": "034ad479-7770-4738-d572-48616c66e8da"
      },
      "execution_count": null,
      "outputs": [
        {
          "output_type": "execute_result",
          "data": {
            "text/plain": [
              "'p'"
            ],
            "application/vnd.google.colaboratory.intrinsic+json": {
              "type": "string"
            }
          },
          "metadata": {},
          "execution_count": 24
        }
      ]
    },
    {
      "cell_type": "code",
      "source": [
        "dir(a)"
      ],
      "metadata": {
        "colab": {
          "base_uri": "https://localhost:8080/"
        },
        "id": "TCP-uGfNGcGJ",
        "outputId": "e50d16cd-80e0-4dfd-ad68-5a09ba7e16f9"
      },
      "execution_count": null,
      "outputs": [
        {
          "output_type": "execute_result",
          "data": {
            "text/plain": [
              "['__add__',\n",
              " '__class__',\n",
              " '__contains__',\n",
              " '__delattr__',\n",
              " '__dir__',\n",
              " '__doc__',\n",
              " '__eq__',\n",
              " '__format__',\n",
              " '__ge__',\n",
              " '__getattribute__',\n",
              " '__getitem__',\n",
              " '__getnewargs__',\n",
              " '__gt__',\n",
              " '__hash__',\n",
              " '__init__',\n",
              " '__init_subclass__',\n",
              " '__iter__',\n",
              " '__le__',\n",
              " '__len__',\n",
              " '__lt__',\n",
              " '__mod__',\n",
              " '__mul__',\n",
              " '__ne__',\n",
              " '__new__',\n",
              " '__reduce__',\n",
              " '__reduce_ex__',\n",
              " '__repr__',\n",
              " '__rmod__',\n",
              " '__rmul__',\n",
              " '__setattr__',\n",
              " '__sizeof__',\n",
              " '__str__',\n",
              " '__subclasshook__',\n",
              " 'capitalize',\n",
              " 'casefold',\n",
              " 'center',\n",
              " 'count',\n",
              " 'encode',\n",
              " 'endswith',\n",
              " 'expandtabs',\n",
              " 'find',\n",
              " 'format',\n",
              " 'format_map',\n",
              " 'index',\n",
              " 'isalnum',\n",
              " 'isalpha',\n",
              " 'isascii',\n",
              " 'isdecimal',\n",
              " 'isdigit',\n",
              " 'isidentifier',\n",
              " 'islower',\n",
              " 'isnumeric',\n",
              " 'isprintable',\n",
              " 'isspace',\n",
              " 'istitle',\n",
              " 'isupper',\n",
              " 'join',\n",
              " 'ljust',\n",
              " 'lower',\n",
              " 'lstrip',\n",
              " 'maketrans',\n",
              " 'partition',\n",
              " 'removeprefix',\n",
              " 'removesuffix',\n",
              " 'replace',\n",
              " 'rfind',\n",
              " 'rindex',\n",
              " 'rjust',\n",
              " 'rpartition',\n",
              " 'rsplit',\n",
              " 'rstrip',\n",
              " 'split',\n",
              " 'splitlines',\n",
              " 'startswith',\n",
              " 'strip',\n",
              " 'swapcase',\n",
              " 'title',\n",
              " 'translate',\n",
              " 'upper',\n",
              " 'zfill']"
            ]
          },
          "metadata": {},
          "execution_count": 6
        }
      ]
    },
    {
      "cell_type": "code",
      "source": [
        " # 모든 Line은 79자(Characters)로 제한 -- pep8(Python Enhancement Proposal)과 pep20에 기술되어있다. \n",
        " # pep8 : Style Guide for Python Code \n",
        " # pep20 : The Zen of Python\n",
        " \n",
        "'capitalize', 'casefold','center','count','encode','endswith','expandtabs','find', \n",
        "'format','format_map','index','isalnum','isalpha','isascii','isdecimal','isdigit',\n",
        "'isidentifier', 'islower','isnumeric', 'isprintable', 'isspace', 'istitle', 'isupper',\n",
        "'join','ljust','lower', 'lstrip', 'maketrans', 'partition', 'removeprefix', 'removesuffix',\n",
        "'replace', 'rfind', 'rindex', 'rjust', 'rpartition', 'rsplit', 'rstrip', 'split', 'splitlines',\n",
        "'startswith', 'strip', 'swapcase', 'title', 'translate', 'upper', 'zfill'"
      ],
      "metadata": {
        "id": "e6G6CCSwGcue"
      },
      "execution_count": null,
      "outputs": []
    },
    {
      "cell_type": "code",
      "source": [
        "# 소문자로 변경\n",
        "a.lower()"
      ],
      "metadata": {
        "colab": {
          "base_uri": "https://localhost:8080/",
          "height": 35
        },
        "id": "sTn0dr34Ik5P",
        "outputId": "4d391108-395b-40c8-e821-1617618f82d6"
      },
      "execution_count": null,
      "outputs": [
        {
          "output_type": "execute_result",
          "data": {
            "text/plain": [
              "'hello world'"
            ],
            "application/vnd.google.colaboratory.intrinsic+json": {
              "type": "string"
            }
          },
          "metadata": {},
          "execution_count": 9
        }
      ]
    },
    {
      "cell_type": "code",
      "source": [
        "# 소문자로 이루어져 있는가?\n",
        "a.islower()"
      ],
      "metadata": {
        "colab": {
          "base_uri": "https://localhost:8080/"
        },
        "id": "gPGNteXoI2Wu",
        "outputId": "7c690cb6-6398-430f-ecdd-547148071faf"
      },
      "execution_count": null,
      "outputs": [
        {
          "output_type": "execute_result",
          "data": {
            "text/plain": [
              "False"
            ]
          },
          "metadata": {},
          "execution_count": 16
        }
      ]
    },
    {
      "cell_type": "code",
      "source": [
        "# 대문자로 변경\n",
        "a.upper()"
      ],
      "metadata": {
        "colab": {
          "base_uri": "https://localhost:8080/",
          "height": 35
        },
        "id": "NrF8DiEpIvYH",
        "outputId": "bacfaaad-e8d1-442e-91c4-4fcb3a20909f"
      },
      "execution_count": null,
      "outputs": [
        {
          "output_type": "execute_result",
          "data": {
            "text/plain": [
              "'HELLO WORLD'"
            ],
            "application/vnd.google.colaboratory.intrinsic+json": {
              "type": "string"
            }
          },
          "metadata": {},
          "execution_count": 10
        }
      ]
    },
    {
      "cell_type": "code",
      "source": [
        "# 대문자로 이루어져 있는가?\n",
        "a.isupper()"
      ],
      "metadata": {
        "colab": {
          "base_uri": "https://localhost:8080/"
        },
        "id": "hXjlptcwIx1-",
        "outputId": "c761769c-9786-450c-a3c0-f06d1a2e4f36"
      },
      "execution_count": null,
      "outputs": [
        {
          "output_type": "execute_result",
          "data": {
            "text/plain": [
              "False"
            ]
          },
          "metadata": {},
          "execution_count": 14
        }
      ]
    },
    {
      "cell_type": "code",
      "source": [
        "# 숫자로 이루어져 있는가? \n",
        "a.isdigit()"
      ],
      "metadata": {
        "colab": {
          "base_uri": "https://localhost:8080/"
        },
        "id": "o7Y6m_RDIx9l",
        "outputId": "71d757e1-5efb-4436-bba0-5150d3bf0f30"
      },
      "execution_count": null,
      "outputs": [
        {
          "output_type": "execute_result",
          "data": {
            "text/plain": [
              "False"
            ]
          },
          "metadata": {},
          "execution_count": 18
        }
      ]
    },
    {
      "cell_type": "code",
      "source": [
        "# 알파벳으로 이루어져 있는가?\n",
        "a.isalpha()"
      ],
      "metadata": {
        "colab": {
          "base_uri": "https://localhost:8080/"
        },
        "id": "09Sra_GrIyEj",
        "outputId": "8b0f607b-5020-4a98-acb7-d538f87747c7"
      },
      "execution_count": null,
      "outputs": [
        {
          "output_type": "execute_result",
          "data": {
            "text/plain": [
              "False"
            ]
          },
          "metadata": {},
          "execution_count": 20
        }
      ]
    },
    {
      "cell_type": "code",
      "source": [
        "# 사용 예시 : 문자열에서 숫자만 빼서 더하는 경우 \n",
        "\n",
        "s = 0 \n",
        "for i in '123abc7584739203lsdlfei123ndsdf':\n",
        "  if i.isdigit(): \n",
        "    s = s + int(i)\n",
        "\n",
        "s"
      ],
      "metadata": {
        "colab": {
          "base_uri": "https://localhost:8080/"
        },
        "id": "7mHPzIp9IySJ",
        "outputId": "3f03e317-e8aa-46e9-e207-000ab48aa80c"
      },
      "execution_count": null,
      "outputs": [
        {
          "output_type": "execute_result",
          "data": {
            "text/plain": [
              "60"
            ]
          },
          "metadata": {},
          "execution_count": 23
        }
      ]
    },
    {
      "cell_type": "code",
      "source": [
        "# 문자열의 갯수를 새주는 count \n",
        "'hello world'.count('l')"
      ],
      "metadata": {
        "colab": {
          "base_uri": "https://localhost:8080/"
        },
        "id": "QqCIu1RaL7Ez",
        "outputId": "92b41ae3-ce30-4fb3-de3e-a78a983f0c21"
      },
      "execution_count": null,
      "outputs": [
        {
          "output_type": "execute_result",
          "data": {
            "text/plain": [
              "3"
            ]
          },
          "metadata": {},
          "execution_count": 25
        }
      ]
    },
    {
      "cell_type": "code",
      "source": [
        "# 사용 예시 : 1부터 10000까지 8의 갯수를 모두 세어라 \n",
        "\n",
        "str(list(range(101))).count('8')"
      ],
      "metadata": {
        "colab": {
          "base_uri": "https://localhost:8080/"
        },
        "id": "102nCVVlL_2Z",
        "outputId": "6a91cf94-e8fe-43f0-9621-e037070a62ce"
      },
      "execution_count": null,
      "outputs": [
        {
          "output_type": "execute_result",
          "data": {
            "text/plain": [
              "20"
            ]
          },
          "metadata": {},
          "execution_count": 35
        }
      ]
    },
    {
      "cell_type": "code",
      "source": [
        "# 중앙에 글자를 맞춰주는 center\n",
        "'leehojun'.center(10), 'leehojun'.center(20,'!') ## 특정 문자로 채울 수도 있다. "
      ],
      "metadata": {
        "colab": {
          "base_uri": "https://localhost:8080/"
        },
        "id": "i3VisxpzPanQ",
        "outputId": "080ba695-7080-40f4-8be1-a880e47ba928"
      },
      "execution_count": null,
      "outputs": [
        {
          "output_type": "execute_result",
          "data": {
            "text/plain": [
              "(' leehojun ', '!!!!!!leehojun!!!!!!')"
            ]
          },
          "metadata": {},
          "execution_count": 41
        }
      ]
    },
    {
      "cell_type": "code",
      "source": [
        "# 특정 문자의 위치를 찾아주는 index \n",
        "'leehojun'.index('h')\n",
        "'leehojun'.index('z') # 못 찾으면 error 발생 | 코드의 의도에 맞게 index와 find를 선택해서 사용할 수 있다. "
      ],
      "metadata": {
        "colab": {
          "base_uri": "https://localhost:8080/",
          "height": 209
        },
        "id": "TrKs7FYJP77X",
        "outputId": "accfa56f-d2ff-44cd-a2a0-bdca05cd7f87"
      },
      "execution_count": null,
      "outputs": [
        {
          "output_type": "error",
          "ename": "ValueError",
          "evalue": "ignored",
          "traceback": [
            "\u001b[0;31m---------------------------------------------------------------------------\u001b[0m",
            "\u001b[0;31mValueError\u001b[0m                                Traceback (most recent call last)",
            "\u001b[0;32m<ipython-input-44-802b42d0a66e>\u001b[0m in \u001b[0;36m<cell line: 3>\u001b[0;34m()\u001b[0m\n\u001b[1;32m      1\u001b[0m \u001b[0;31m# 특정 문자의 위치를 찾아주는 index\u001b[0m\u001b[0;34m\u001b[0m\u001b[0;34m\u001b[0m\u001b[0m\n\u001b[1;32m      2\u001b[0m \u001b[0;34m'leehojun'\u001b[0m\u001b[0;34m.\u001b[0m\u001b[0mindex\u001b[0m\u001b[0;34m(\u001b[0m\u001b[0;34m'h'\u001b[0m\u001b[0;34m)\u001b[0m\u001b[0;34m\u001b[0m\u001b[0;34m\u001b[0m\u001b[0m\n\u001b[0;32m----> 3\u001b[0;31m \u001b[0;34m'leehojun'\u001b[0m\u001b[0;34m.\u001b[0m\u001b[0mindex\u001b[0m\u001b[0;34m(\u001b[0m\u001b[0;34m'z'\u001b[0m\u001b[0;34m)\u001b[0m \u001b[0;31m# 못 찾으면 error 발생\u001b[0m\u001b[0;34m\u001b[0m\u001b[0;34m\u001b[0m\u001b[0m\n\u001b[0m",
            "\u001b[0;31mValueError\u001b[0m: substring not found"
          ]
        }
      ]
    },
    {
      "cell_type": "code",
      "source": [
        "# 특정 문자의 위치를 찾아주는 find \n",
        "'leehojun'.find('h')\n",
        "'leehojun'.find('z') # 못 찾으면 -1 반환 "
      ],
      "metadata": {
        "colab": {
          "base_uri": "https://localhost:8080/"
        },
        "id": "zrcAyqd2P8Hj",
        "outputId": "89a6d681-8616-4e3e-833a-0240b3a1b699"
      },
      "execution_count": null,
      "outputs": [
        {
          "output_type": "execute_result",
          "data": {
            "text/plain": [
              "-1"
            ]
          },
          "metadata": {},
          "execution_count": 45
        }
      ]
    },
    {
      "cell_type": "code",
      "source": [
        "# 특정 문자로 문자열이 끝났는지 찾아보는 endswith \n",
        "'gyeongmi kim'.endswith('m')"
      ],
      "metadata": {
        "colab": {
          "base_uri": "https://localhost:8080/"
        },
        "id": "2UChAKeSP8Kz",
        "outputId": "a925c652-c49e-4b14-b894-53a00d9aff8a"
      },
      "execution_count": null,
      "outputs": [
        {
          "output_type": "execute_result",
          "data": {
            "text/plain": [
              "True"
            ]
          },
          "metadata": {},
          "execution_count": 47
        }
      ]
    },
    {
      "cell_type": "code",
      "source": [
        "# 리스트 내 문자열을 합쳐주는 join\n",
        "# join은 str형만 가능하다.\n",
        "\n",
        "' '.join(['hello','world','gyeongmi'])\n",
        "'-'.join(['010','8427','2902'])"
      ],
      "metadata": {
        "colab": {
          "base_uri": "https://localhost:8080/",
          "height": 35
        },
        "id": "pWF7kkRBP8Ni",
        "outputId": "20d5dbc1-c3c7-483c-bdbf-dcae5c0e8b8c"
      },
      "execution_count": null,
      "outputs": [
        {
          "output_type": "execute_result",
          "data": {
            "text/plain": [
              "'010-8427-2902'"
            ],
            "application/vnd.google.colaboratory.intrinsic+json": {
              "type": "string"
            }
          },
          "metadata": {},
          "execution_count": 51
        }
      ]
    },
    {
      "cell_type": "code",
      "source": [
        "# 공백을 제거하는 strip, rstrip, lstrip \n",
        "\n",
        "'    hello world    '.strip()"
      ],
      "metadata": {
        "colab": {
          "base_uri": "https://localhost:8080/",
          "height": 35
        },
        "id": "jZjGBICwWXo5",
        "outputId": "2370d6f3-f074-48ab-a6af-a231c5b8add9"
      },
      "execution_count": null,
      "outputs": [
        {
          "output_type": "execute_result",
          "data": {
            "text/plain": [
              "'hello    world'"
            ],
            "application/vnd.google.colaboratory.intrinsic+json": {
              "type": "string"
            }
          },
          "metadata": {},
          "execution_count": 61
        }
      ]
    },
    {
      "cell_type": "code",
      "source": [
        "# 왼쪽, 오른쪽, 가운데 정렬을 해주는 rjust, ljust, center \n",
        "\n",
        "'김경미 잠이온다'.rjust(30) # 가운데 정렬 \n",
        "'김경미 잠이온다'.ljust(30) # 가운데 정렬 \n",
        "'김경미 잠이온다'.center(30) # 가운데 정렬 "
      ],
      "metadata": {
        "colab": {
          "base_uri": "https://localhost:8080/",
          "height": 35
        },
        "id": "yc2AIOma8hIv",
        "outputId": "9fb8c0f3-ad33-4767-f0a7-8628550c0bf4"
      },
      "execution_count": null,
      "outputs": [
        {
          "output_type": "execute_result",
          "data": {
            "text/plain": [
              "'           김경미 잠이온다           '"
            ],
            "application/vnd.google.colaboratory.intrinsic+json": {
              "type": "string"
            }
          },
          "metadata": {},
          "execution_count": 3
        }
      ]
    },
    {
      "cell_type": "code",
      "source": [
        "# 남은 공백을 특정 문자로 채워주는 zfill\n",
        "\n",
        "'100'.zfill(10)"
      ],
      "metadata": {
        "colab": {
          "base_uri": "https://localhost:8080/",
          "height": 35
        },
        "id": "SPDXQ6x8WXxC",
        "outputId": "920fff59-4901-4843-f3a7-1275576a8dd7"
      },
      "execution_count": null,
      "outputs": [
        {
          "output_type": "execute_result",
          "data": {
            "text/plain": [
              "'0000000100'"
            ],
            "application/vnd.google.colaboratory.intrinsic+json": {
              "type": "string"
            }
          },
          "metadata": {},
          "execution_count": 63
        }
      ]
    },
    {
      "cell_type": "code",
      "source": [
        "# 특정 문자를 잘라내는 split\n"
      ],
      "metadata": {
        "id": "XSwCJvx7WX4c"
      },
      "execution_count": null,
      "outputs": []
    },
    {
      "cell_type": "code",
      "source": [
        "# 특정 문자로 변환해주는 replace "
      ],
      "metadata": {
        "id": "AGL4Oj9NWYAc"
      },
      "execution_count": null,
      "outputs": []
    },
    {
      "cell_type": "code",
      "source": [
        "암호 = '''  + +-+ -+-  \n",
        "            ++ -- +-+  \n",
        "            ++-+ -+ -  \n",
        "            + ++-+ -+  '''\n",
        "\n",
        "print(암호)\n",
        "암호.split('\\n')[0]"
      ],
      "metadata": {
        "colab": {
          "base_uri": "https://localhost:8080/",
          "height": 108
        },
        "id": "R9VNfq-MZ8Le",
        "outputId": "306d3779-9d4f-4961-ad65-7e567e977148"
      },
      "execution_count": null,
      "outputs": [
        {
          "output_type": "stream",
          "name": "stdout",
          "text": [
            "  + +-+ -+-  \n",
            "            ++ -- +-+  \n",
            "            ++-+ -+ -  \n",
            "            + ++-+ -+  \n"
          ]
        },
        {
          "output_type": "execute_result",
          "data": {
            "text/plain": [
              "'  + +-+ -+-  '"
            ],
            "application/vnd.google.colaboratory.intrinsic+json": {
              "type": "string"
            }
          },
          "metadata": {},
          "execution_count": 67
        }
      ]
    },
    {
      "cell_type": "code",
      "source": [
        "# 지금 이 코드에서는 strip을 할 이유가 없지만 앞 뒤 공백만 제거해야 할 때가 있습니다.\n",
        "이진수 = 암호.split('\\n')[0].strip().replace(' ', '').replace('+', '1').replace('-', '0')\n",
        "int(이진수, 2)"
      ],
      "metadata": {
        "id": "P5gNFWV_Z8UN"
      },
      "execution_count": null,
      "outputs": []
    },
    {
      "cell_type": "code",
      "source": [
        "chr(106) # 유니코드표에서 숫자로 문자 출력\n",
        "ord('j') # 유니코드표에서 문자를 숫자로 출력"
      ],
      "metadata": {
        "id": "cEBd0fkXZ8cV"
      },
      "execution_count": null,
      "outputs": []
    },
    {
      "cell_type": "code",
      "source": [
        "# '010-0000-0000'.split('-').zfill(10) # error 앞에서 진행한 split이 list를 반환하기 때문에 zfill을 사용할 수 없습니다.\n",
        "'010-0000-0000'.split('-').count('0000') # 이건 가능합니다. count는 str에도 있지만 list에도 있어요."
      ],
      "metadata": {
        "colab": {
          "base_uri": "https://localhost:8080/"
        },
        "id": "orldUPoQdizD",
        "outputId": "dac02354-d65b-4780-833d-955a2494e460"
      },
      "execution_count": null,
      "outputs": [
        {
          "output_type": "execute_result",
          "data": {
            "text/plain": [
              "2"
            ]
          },
          "metadata": {},
          "execution_count": 68
        }
      ]
    },
    {
      "cell_type": "code",
      "source": [
        "# 아래의 3개는 모두 string 입니다\n",
        "\n",
        "a= 10\n",
        "\n",
        "'hello world {}'.format(a)\n",
        "f'hello world {a}'\n",
        "r'hello world'"
      ],
      "metadata": {
        "colab": {
          "base_uri": "https://localhost:8080/",
          "height": 35
        },
        "id": "eNhZ3vEnd3yI",
        "outputId": "7d1560dd-8b57-430b-bfba-ed7097c3c203"
      },
      "execution_count": null,
      "outputs": [
        {
          "output_type": "execute_result",
          "data": {
            "text/plain": [
              "'hello world'"
            ],
            "application/vnd.google.colaboratory.intrinsic+json": {
              "type": "string"
            }
          },
          "metadata": {},
          "execution_count": 72
        }
      ]
    },
    {
      "cell_type": "code",
      "source": [
        "r'hello world' # raw : 날것의\n",
        "'hello world'"
      ],
      "metadata": {
        "colab": {
          "base_uri": "https://localhost:8080/",
          "height": 35
        },
        "id": "8-Dopzled31-",
        "outputId": "f990efeb-96b4-4805-d90c-be11f709cc0a"
      },
      "execution_count": null,
      "outputs": [
        {
          "output_type": "execute_result",
          "data": {
            "text/plain": [
              "'hello world'"
            ],
            "application/vnd.google.colaboratory.intrinsic+json": {
              "type": "string"
            }
          },
          "metadata": {},
          "execution_count": 73
        }
      ]
    },
    {
      "cell_type": "code",
      "source": [
        "print(r'hello \\n world')"
      ],
      "metadata": {
        "colab": {
          "base_uri": "https://localhost:8080/"
        },
        "id": "_Ht7TtvIeOzV",
        "outputId": "e7f7a159-59df-4bc9-b513-50c3df36ddfe"
      },
      "execution_count": null,
      "outputs": [
        {
          "output_type": "stream",
          "name": "stdout",
          "text": [
            "hello \\n world\n"
          ]
        }
      ]
    },
    {
      "cell_type": "code",
      "source": [
        "print('hell \\nworld') # 원래는 이스케이프 문자를 변환해서 출력해준다 "
      ],
      "metadata": {
        "colab": {
          "base_uri": "https://localhost:8080/"
        },
        "id": "b6jolJSleTgS",
        "outputId": "0f5eb91c-1877-4b9f-bbbd-61e27c26f70f"
      },
      "execution_count": null,
      "outputs": [
        {
          "output_type": "stream",
          "name": "stdout",
          "text": [
            "hell \n",
            "world\n"
          ]
        }
      ]
    },
    {
      "cell_type": "code",
      "source": [
        "# 슬라이싱 \n",
        "\n",
        "s = '위니브 월드 외각에 살고 있는 생선가게...'\n",
        "\n",
        "s[7:9]\n",
        "s[s.find('외각') : s.find('외각')+2]\n",
        "s[:-5]\n",
        "s[:-1] # 많이 사용한다 \n",
        "s[::2] # step 값을 지정해 줄 수 있다\n",
        "s[::-1]"
      ],
      "metadata": {
        "colab": {
          "base_uri": "https://localhost:8080/",
          "height": 35
        },
        "id": "rWhldxrv-fLX",
        "outputId": "1f3be1d3-efe0-46c9-ef4b-fef6998df78c"
      },
      "execution_count": 9,
      "outputs": [
        {
          "output_type": "execute_result",
          "data": {
            "text/plain": [
              "'...게가선생 는있 고살 에각외 드월 브니위'"
            ],
            "application/vnd.google.colaboratory.intrinsic+json": {
              "type": "string"
            }
          },
          "metadata": {},
          "execution_count": 9
        }
      ]
    },
    {
      "cell_type": "code",
      "source": [
        "# 문자열의 사칙연산 \n",
        "\n",
        "s = 'gyeongmi'\n",
        "\n",
        "s + s \n",
        "s * 3 # 세 번 반복함 \n",
        "\n",
        "# s/s -- error \n",
        "# s//s --error\n",
        "# s-s -- error "
      ],
      "metadata": {
        "colab": {
          "base_uri": "https://localhost:8080/",
          "height": 35
        },
        "id": "1lQevLjm_uTJ",
        "outputId": "b86c3728-2b8b-4bf4-be9c-bae58f6e270e"
      },
      "execution_count": 14,
      "outputs": [
        {
          "output_type": "execute_result",
          "data": {
            "text/plain": [
              "'gyeongmigyeongmigyeongmi'"
            ],
            "application/vnd.google.colaboratory.intrinsic+json": {
              "type": "string"
            }
          },
          "metadata": {},
          "execution_count": 14
        }
      ]
    },
    {
      "cell_type": "markdown",
      "source": [
        "### format과 f-string 용법"
      ],
      "metadata": {
        "id": "m2LqFZXcUnKD"
      }
    },
    {
      "cell_type": "markdown",
      "source": [
        "# 형변환"
      ],
      "metadata": {
        "id": "D7atrw7ZAlni"
      }
    },
    {
      "cell_type": "code",
      "source": [
        "print(type(int(3.5)))\n",
        "print(int(3.5))\n",
        "print(type(float(3)))\n",
        "print(float(3))\n",
        "print(type(str(3)))\n",
        "print(str(3))"
      ],
      "metadata": {
        "colab": {
          "base_uri": "https://localhost:8080/"
        },
        "id": "rjX7STgMAlSi",
        "outputId": "8e9c1ca8-3315-48c3-9a4b-d0b10e164532"
      },
      "execution_count": 17,
      "outputs": [
        {
          "output_type": "stream",
          "name": "stdout",
          "text": [
            "<class 'int'>\n",
            "3\n",
            "<class 'float'>\n",
            "3.0\n",
            "<class 'str'>\n",
            "3\n"
          ]
        }
      ]
    },
    {
      "cell_type": "code",
      "source": [
        "x = input('Insert the number.')\n",
        "y = input('Insert the number.')\n",
        "print(x + y)\n",
        "print(type(x))\n",
        "print(type(y))"
      ],
      "metadata": {
        "colab": {
          "base_uri": "https://localhost:8080/"
        },
        "id": "IfrPHk_eAyQ8",
        "outputId": "64f905b0-f604-4bf3-eba7-bc430f10e8d9"
      },
      "execution_count": 20,
      "outputs": [
        {
          "output_type": "stream",
          "name": "stdout",
          "text": [
            "Insert the number.1\n",
            "Insert the number.1\n",
            "11\n",
            "<class 'str'>\n",
            "<class 'str'>\n"
          ]
        }
      ]
    },
    {
      "cell_type": "markdown",
      "source": [
        "# Ch2. 연산"
      ],
      "metadata": {
        "id": "Hp_Z5rU7HX3p"
      }
    },
    {
      "cell_type": "markdown",
      "source": [
        "## 산술연산자와 비교연산\n"
      ],
      "metadata": {
        "id": "TFMtyhyXHbQr"
      }
    },
    {
      "cell_type": "code",
      "source": [
        "# 산술연산자\n",
        "\n",
        "a = 9\n",
        "b = 2\n",
        "\n",
        "print('a + b = ', a + b)\n",
        "print('a - b = ', a - b)\n",
        "print('a * b = ', a * b)\n",
        "print('a ** b = ', a ** b) # 승수 \n",
        "print('a / b = ', a / b) # 나누기 \n",
        "print('a // b = ', a // b) # 몫 \n",
        "print('a % b = ', a % b) # 나머지 "
      ],
      "metadata": {
        "colab": {
          "base_uri": "https://localhost:8080/"
        },
        "id": "4881oM2kHale",
        "outputId": "1e766062-841b-43d3-80bb-fc9e3934ab9d"
      },
      "execution_count": 24,
      "outputs": [
        {
          "output_type": "stream",
          "name": "stdout",
          "text": [
            "a + b =  11\n",
            "a - b =  7\n",
            "a * b =  18\n",
            "a ** b =  81\n",
            "a / b =  4.5\n",
            "a // b =  4\n",
            "a % b =  1\n"
          ]
        }
      ]
    },
    {
      "cell_type": "code",
      "source": [
        "# 비교연산자 \n",
        "\n",
        "a = 9\n",
        "b = 2\n",
        "\n",
        "print(a == b)\n",
        "print(a != b)\n",
        "print(a >= b)\n",
        "print(a <= b)\n",
        "print(a > b)\n",
        "print(a < b)"
      ],
      "metadata": {
        "colab": {
          "base_uri": "https://localhost:8080/"
        },
        "id": "GdVKyyFzHXLv",
        "outputId": "da0bf619-84dc-4d8c-933c-f8c5128cb506"
      },
      "execution_count": 25,
      "outputs": [
        {
          "output_type": "stream",
          "name": "stdout",
          "text": [
            "False\n",
            "True\n",
            "True\n",
            "False\n",
            "True\n",
            "False\n"
          ]
        }
      ]
    },
    {
      "cell_type": "markdown",
      "source": [
        "## 논리연산"
      ],
      "metadata": {
        "id": "10vCZkPYI0xg"
      }
    },
    {
      "cell_type": "code",
      "source": [
        "# and : 논리곱\n",
        "# or : 논리합\n",
        "# not : 부정 "
      ],
      "metadata": {
        "colab": {
          "base_uri": "https://localhost:8080/"
        },
        "id": "lww4LzWtI5Wc",
        "outputId": "f3ac84af-1087-4200-bec6-ea702ef4cf12"
      },
      "execution_count": 27,
      "outputs": [
        {
          "output_type": "execute_result",
          "data": {
            "text/plain": [
              "0"
            ]
          },
          "metadata": {},
          "execution_count": 27
        }
      ]
    },
    {
      "cell_type": "code",
      "source": [
        "## and \n",
        "# 둘 중 하나라도 False라면 False가 출력된다 \n",
        "# and는 위와 같은 속성 때문에 둘 다 만족해야하는 '조건'에 사용합니다.\n",
        "\n",
        "True and False \n",
        "\n",
        "# 사용 예시 \n",
        "for i in range(101):\n",
        "  if i % 3 == 0 and i % 5 == 0:\n",
        "    print(i)"
      ],
      "metadata": {
        "colab": {
          "base_uri": "https://localhost:8080/"
        },
        "id": "pTQh1QktI5ZS",
        "outputId": "e3d35d30-3343-47e0-d52c-88cfc37bb79e"
      },
      "execution_count": 29,
      "outputs": [
        {
          "output_type": "stream",
          "name": "stdout",
          "text": [
            "0\n",
            "15\n",
            "30\n",
            "45\n",
            "60\n",
            "75\n",
            "90\n"
          ]
        }
      ]
    },
    {
      "cell_type": "code",
      "source": [
        "## or \n",
        "# 둘 중 하나라도 True라면 True가 출력된다 \n",
        "# and는 위와 같은 속성 때문에 둘 다 만족해야하는 '조건'에 사용합니다.\n",
        "\n",
        "True or False \n",
        "\n",
        "# 사용 예시 \n",
        "for i in range(101):\n",
        "  if i % 3 == 0 or i % 5 == 0:\n",
        "    print(i)"
      ],
      "metadata": {
        "colab": {
          "base_uri": "https://localhost:8080/"
        },
        "id": "63yJ2AWRI5cC",
        "outputId": "b920de33-7d52-4b05-b25b-cf04ba1d7b78"
      },
      "execution_count": 30,
      "outputs": [
        {
          "output_type": "stream",
          "name": "stdout",
          "text": [
            "0\n",
            "3\n",
            "5\n",
            "6\n",
            "9\n",
            "10\n",
            "12\n",
            "15\n",
            "18\n",
            "20\n",
            "21\n",
            "24\n",
            "25\n",
            "27\n",
            "30\n",
            "33\n",
            "35\n",
            "36\n",
            "39\n",
            "40\n",
            "42\n",
            "45\n",
            "48\n",
            "50\n",
            "51\n",
            "54\n",
            "55\n",
            "57\n",
            "60\n",
            "63\n",
            "65\n",
            "66\n",
            "69\n",
            "70\n",
            "72\n",
            "75\n",
            "78\n",
            "80\n",
            "81\n",
            "84\n",
            "85\n",
            "87\n",
            "90\n",
            "93\n",
            "95\n",
            "96\n",
            "99\n",
            "100\n"
          ]
        }
      ]
    },
    {
      "cell_type": "code",
      "source": [
        "# 실무적인 코드\n",
        "\n",
        "username = 'jaehyeok'\n",
        "\n",
        "username = username or 'leehojun'\n",
        "username"
      ],
      "metadata": {
        "colab": {
          "base_uri": "https://localhost:8080/",
          "height": 35
        },
        "id": "w0jzcIUfP3-J",
        "outputId": "ca77fa06-22d7-4efb-a175-a766a018be2c"
      },
      "execution_count": 39,
      "outputs": [
        {
          "output_type": "execute_result",
          "data": {
            "text/plain": [
              "'jaehyeok'"
            ],
            "application/vnd.google.colaboratory.intrinsic+json": {
              "type": "string"
            }
          },
          "metadata": {},
          "execution_count": 39
        }
      ]
    },
    {
      "cell_type": "code",
      "source": [
        "# and와 or가 함께 있으면 and가 우선순위가 된다 "
      ],
      "metadata": {
        "id": "tcFh7VueI5ef"
      },
      "execution_count": null,
      "outputs": []
    },
    {
      "cell_type": "code",
      "source": [
        "for i in range(101):\n",
        "    if i % 3 == 0 and i % 5 == 0 or i % 2 == 0:\n",
        "        print(i)\n",
        "\n",
        "for i in range(101):\n",
        "    if (i % 3 == 0 and i % 5 == 0) or i % 2 == 0:\n",
        "        print(i)"
      ],
      "metadata": {
        "id": "9gDqsx4NI5hL"
      },
      "execution_count": 26,
      "outputs": []
    },
    {
      "cell_type": "code",
      "source": [
        "for i in range(101):\n",
        "    if i % 3 == 0 or (i % 5 == 0 and i % 2 == 0):\n",
        "        print(i)\n",
        "\n",
        "for i in range(101):\n",
        "    if i % 3 == 0 or i % 5 == 0 and i % 2 == 0:\n",
        "        print(i)"
      ],
      "metadata": {
        "id": "mUrTBgBtI5jv"
      },
      "execution_count": 26,
      "outputs": []
    },
    {
      "cell_type": "code",
      "source": [
        "## not \n",
        "\n",
        "not True"
      ],
      "metadata": {
        "colab": {
          "base_uri": "https://localhost:8080/"
        },
        "id": "crsyBEkUI5l2",
        "outputId": "f267482a-bf74-4863-f5a8-d91d8ed46a27"
      },
      "execution_count": 32,
      "outputs": [
        {
          "output_type": "execute_result",
          "data": {
            "text/plain": [
              "False"
            ]
          },
          "metadata": {},
          "execution_count": 32
        }
      ]
    },
    {
      "cell_type": "code",
      "source": [
        "not False"
      ],
      "metadata": {
        "colab": {
          "base_uri": "https://localhost:8080/"
        },
        "id": "cCQn6a1nI5op",
        "outputId": "e12270fb-446e-456c-9cd1-1516c8ea3d6e"
      },
      "execution_count": 33,
      "outputs": [
        {
          "output_type": "execute_result",
          "data": {
            "text/plain": [
              "True"
            ]
          },
          "metadata": {},
          "execution_count": 33
        }
      ]
    },
    {
      "cell_type": "code",
      "source": [
        "def err():\n",
        "  1/0\n",
        "\n",
        "test = 0 and error()\n",
        "print(test)"
      ],
      "metadata": {
        "colab": {
          "base_uri": "https://localhost:8080/"
        },
        "id": "s8w-DQzrI5rQ",
        "outputId": "c3fd6713-406f-43b0-973e-6dd7ca5d3e54"
      },
      "execution_count": 35,
      "outputs": [
        {
          "output_type": "stream",
          "name": "stdout",
          "text": [
            "0\n"
          ]
        }
      ]
    },
    {
      "cell_type": "code",
      "source": [
        "test = 10 or err()\n",
        "print(test)"
      ],
      "metadata": {
        "colab": {
          "base_uri": "https://localhost:8080/"
        },
        "id": "rrh4xHOaPGrw",
        "outputId": "ddb88078-4db2-4017-f6de-f40aca4d40b2"
      },
      "execution_count": 37,
      "outputs": [
        {
          "output_type": "stream",
          "name": "stdout",
          "text": [
            "10\n"
          ]
        }
      ]
    },
    {
      "cell_type": "code",
      "source": [
        "test = 10 and err()\n",
        "print(test)"
      ],
      "metadata": {
        "colab": {
          "base_uri": "https://localhost:8080/",
          "height": 318
        },
        "id": "Ayk4yRWHPP81",
        "outputId": "2d23f2c6-ec14-4672-e685-c0ddf3e31362"
      },
      "execution_count": 40,
      "outputs": [
        {
          "output_type": "error",
          "ename": "ZeroDivisionError",
          "evalue": "ignored",
          "traceback": [
            "\u001b[0;31m---------------------------------------------------------------------------\u001b[0m",
            "\u001b[0;31mZeroDivisionError\u001b[0m                         Traceback (most recent call last)",
            "\u001b[0;32m<ipython-input-40-187d2bc27dd4>\u001b[0m in \u001b[0;36m<cell line: 1>\u001b[0;34m()\u001b[0m\n\u001b[0;32m----> 1\u001b[0;31m \u001b[0mtest\u001b[0m \u001b[0;34m=\u001b[0m \u001b[0;36m10\u001b[0m \u001b[0;32mand\u001b[0m \u001b[0merr\u001b[0m\u001b[0;34m(\u001b[0m\u001b[0;34m)\u001b[0m\u001b[0;34m\u001b[0m\u001b[0;34m\u001b[0m\u001b[0m\n\u001b[0m\u001b[1;32m      2\u001b[0m \u001b[0mprint\u001b[0m\u001b[0;34m(\u001b[0m\u001b[0mtest\u001b[0m\u001b[0;34m)\u001b[0m\u001b[0;34m\u001b[0m\u001b[0;34m\u001b[0m\u001b[0m\n",
            "\u001b[0;32m<ipython-input-35-4b1db9cc941e>\u001b[0m in \u001b[0;36merr\u001b[0;34m()\u001b[0m\n\u001b[1;32m      1\u001b[0m \u001b[0;32mdef\u001b[0m \u001b[0merr\u001b[0m\u001b[0;34m(\u001b[0m\u001b[0;34m)\u001b[0m\u001b[0;34m:\u001b[0m\u001b[0;34m\u001b[0m\u001b[0;34m\u001b[0m\u001b[0m\n\u001b[0;32m----> 2\u001b[0;31m   \u001b[0;36m1\u001b[0m\u001b[0;34m/\u001b[0m\u001b[0;36m0\u001b[0m\u001b[0;34m\u001b[0m\u001b[0;34m\u001b[0m\u001b[0m\n\u001b[0m\u001b[1;32m      3\u001b[0m \u001b[0;34m\u001b[0m\u001b[0m\n\u001b[1;32m      4\u001b[0m \u001b[0mc\u001b[0m \u001b[0;34m=\u001b[0m \u001b[0;36m0\u001b[0m \u001b[0;32mand\u001b[0m \u001b[0merror\u001b[0m\u001b[0;34m(\u001b[0m\u001b[0;34m)\u001b[0m\u001b[0;34m\u001b[0m\u001b[0;34m\u001b[0m\u001b[0m\n\u001b[1;32m      5\u001b[0m \u001b[0mprint\u001b[0m\u001b[0;34m(\u001b[0m\u001b[0mc\u001b[0m\u001b[0;34m)\u001b[0m\u001b[0;34m\u001b[0m\u001b[0;34m\u001b[0m\u001b[0m\n",
            "\u001b[0;31mZeroDivisionError\u001b[0m: division by zero"
          ]
        }
      ]
    },
    {
      "cell_type": "markdown",
      "source": [
        "## 비트연산"
      ],
      "metadata": {
        "id": "HQUlpQUWQiqP"
      }
    },
    {
      "cell_type": "code",
      "source": [
        "# Tip\n",
        "## 가장 가까운 2에 승수를 구하고, 거기서 +- 하면 된다. \n",
        "7 & 5 \n",
        "\n",
        "# 111\n",
        "# 101 \n",
        "# ---\n",
        "# 101"
      ],
      "metadata": {
        "colab": {
          "base_uri": "https://localhost:8080/"
        },
        "id": "oKAohrZAQha1",
        "outputId": "0c060a38-745f-4472-d208-24c9d1e348a7"
      },
      "execution_count": 42,
      "outputs": [
        {
          "output_type": "execute_result",
          "data": {
            "text/plain": [
              "5"
            ]
          },
          "metadata": {},
          "execution_count": 42
        }
      ]
    },
    {
      "cell_type": "code",
      "source": [
        "7 | 5 \n",
        "\n",
        "# 111\n",
        "# 101\n",
        "# ---\n",
        "# 111 "
      ],
      "metadata": {
        "colab": {
          "base_uri": "https://localhost:8080/"
        },
        "id": "69neN3m7UnpQ",
        "outputId": "6c04006f-eceb-4f73-c430-a6516ea2f112"
      },
      "execution_count": 43,
      "outputs": [
        {
          "output_type": "execute_result",
          "data": {
            "text/plain": [
              "7"
            ]
          },
          "metadata": {},
          "execution_count": 43
        }
      ]
    },
    {
      "cell_type": "code",
      "source": [
        "14 | 7\n",
        "\n",
        "# 1110\n",
        "#  111\n",
        "# -----\n",
        "#  1111 = 15 "
      ],
      "metadata": {
        "colab": {
          "base_uri": "https://localhost:8080/"
        },
        "id": "Jm-CB8sEU8aF",
        "outputId": "3e766471-814f-473b-84cb-9078acf0f5e0"
      },
      "execution_count": 46,
      "outputs": [
        {
          "output_type": "execute_result",
          "data": {
            "text/plain": [
              "15"
            ]
          },
          "metadata": {},
          "execution_count": 46
        }
      ]
    },
    {
      "cell_type": "markdown",
      "source": [
        "## 할당연산"
      ],
      "metadata": {
        "id": "E7eyrltjZYY5"
      }
    },
    {
      "cell_type": "code",
      "source": [
        "a = 10 \n",
        "a = a + 10 \n",
        "\n",
        "a += 10\n",
        "\n",
        "a"
      ],
      "metadata": {
        "colab": {
          "base_uri": "https://localhost:8080/"
        },
        "id": "ndXskcsRZbir",
        "outputId": "f74e3cc9-5f48-4696-b050-c23505e984c7"
      },
      "execution_count": 54,
      "outputs": [
        {
          "output_type": "execute_result",
          "data": {
            "text/plain": [
              "30"
            ]
          },
          "metadata": {},
          "execution_count": 54
        }
      ]
    },
    {
      "cell_type": "markdown",
      "source": [
        "## 식별 연산"
      ],
      "metadata": {
        "id": "3L4xBtHfZb0Q"
      }
    },
    {
      "cell_type": "code",
      "source": [
        "a = 10 \n",
        "b = 10 \n",
        "\n",
        "a is b \n",
        "\n",
        "print(id(a),id(b))"
      ],
      "metadata": {
        "colab": {
          "base_uri": "https://localhost:8080/"
        },
        "id": "LlrT91R6ZcDw",
        "outputId": "1bca2a9e-1405-4087-a1d2-1da73334cdf0"
      },
      "execution_count": 59,
      "outputs": [
        {
          "output_type": "stream",
          "name": "stdout",
          "text": [
            "139665103903312 139665103903312\n"
          ]
        }
      ]
    },
    {
      "cell_type": "code",
      "source": [
        "a = 999\n",
        "b = 999\n",
        "\n",
        "print(id(a),id(b))"
      ],
      "metadata": {
        "colab": {
          "base_uri": "https://localhost:8080/"
        },
        "id": "uFQvVlOMZcb4",
        "outputId": "d0a02ced-e1c3-44b2-b0be-da62dc269a93"
      },
      "execution_count": 61,
      "outputs": [
        {
          "output_type": "stream",
          "name": "stdout",
          "text": [
            "139663837542864 139663837541904\n"
          ]
        }
      ]
    },
    {
      "cell_type": "code",
      "source": [
        "a = [1,2,3]\n",
        "b = [1,2,3]\n",
        "\n",
        "print(id(a),id(b))\n",
        "\n",
        "a is b "
      ],
      "metadata": {
        "colab": {
          "base_uri": "https://localhost:8080/"
        },
        "id": "HMv3VlX-cp54",
        "outputId": "dad4274f-e6fd-4038-9bf9-243b2400cc54"
      },
      "execution_count": 60,
      "outputs": [
        {
          "output_type": "stream",
          "name": "stdout",
          "text": [
            "139663837144384 139663837263744\n"
          ]
        },
        {
          "output_type": "execute_result",
          "data": {
            "text/plain": [
              "False"
            ]
          },
          "metadata": {},
          "execution_count": 60
        }
      ]
    },
    {
      "cell_type": "markdown",
      "source": [
        "## 멤버연산"
      ],
      "metadata": {
        "id": "-UXemyNmcqQr"
      }
    },
    {
      "cell_type": "code",
      "source": [
        "# 10이 1,2,3중에 있는가?\n",
        "\n",
        "10 in [1,2,3]"
      ],
      "metadata": {
        "colab": {
          "base_uri": "https://localhost:8080/"
        },
        "id": "cHMYwauOeKli",
        "outputId": "86ad4518-e6d0-4586-b5e8-e637ef7e9257"
      },
      "execution_count": 63,
      "outputs": [
        {
          "output_type": "execute_result",
          "data": {
            "text/plain": [
              "False"
            ]
          },
          "metadata": {},
          "execution_count": 63
        }
      ]
    },
    {
      "cell_type": "code",
      "source": [
        "10 in [1,2,3,10]"
      ],
      "metadata": {
        "colab": {
          "base_uri": "https://localhost:8080/"
        },
        "id": "Mjz9QFXkeKoU",
        "outputId": "303d9ab0-02a4-40ca-ffb1-cba8b3ea7280"
      },
      "execution_count": 62,
      "outputs": [
        {
          "output_type": "execute_result",
          "data": {
            "text/plain": [
              "True"
            ]
          },
          "metadata": {},
          "execution_count": 62
        }
      ]
    },
    {
      "cell_type": "code",
      "source": [
        "# key로는 찾을 수 있음 \n",
        "'one' in {'one' : 10, \n",
        "          'two' : 20}"
      ],
      "metadata": {
        "colab": {
          "base_uri": "https://localhost:8080/"
        },
        "id": "j891yIxbeKq7",
        "outputId": "e0cb0efc-1dfa-46c7-c3f1-aea905277cd3"
      },
      "execution_count": 64,
      "outputs": [
        {
          "output_type": "execute_result",
          "data": {
            "text/plain": [
              "True"
            ]
          },
          "metadata": {},
          "execution_count": 64
        }
      ]
    },
    {
      "cell_type": "code",
      "source": [
        "# value로는 찾을 수 없음\n",
        "\n",
        "20' in   {'one' : 10, \n",
        "          'two' : 20}"
      ],
      "metadata": {
        "colab": {
          "base_uri": "https://localhost:8080/",
          "height": 136
        },
        "id": "Y2NgbAj-eKtu",
        "outputId": "8f3bc019-58c0-4a98-bd12-f2d698a8beb2"
      },
      "execution_count": 65,
      "outputs": [
        {
          "output_type": "error",
          "ename": "SyntaxError",
          "evalue": "ignored",
          "traceback": [
            "\u001b[0;36m  File \u001b[0;32m\"<ipython-input-65-658d150dce28>\"\u001b[0;36m, line \u001b[0;32m1\u001b[0m\n\u001b[0;31m    20' in {'one' : 10,\u001b[0m\n\u001b[0m      ^\u001b[0m\n\u001b[0;31mSyntaxError\u001b[0m\u001b[0;31m:\u001b[0m invalid syntax\n"
          ]
        }
      ]
    },
    {
      "cell_type": "code",
      "source": [
        "'i' in 'index'"
      ],
      "metadata": {
        "colab": {
          "base_uri": "https://localhost:8080/"
        },
        "id": "nVEaB0nqeKwe",
        "outputId": "59f05b7f-80ca-4f8c-8ea2-95bf926e0fbc"
      },
      "execution_count": 66,
      "outputs": [
        {
          "output_type": "execute_result",
          "data": {
            "text/plain": [
              "True"
            ]
          },
          "metadata": {},
          "execution_count": 66
        }
      ]
    },
    {
      "cell_type": "code",
      "source": [
        "10 in {10,20,30}"
      ],
      "metadata": {
        "colab": {
          "base_uri": "https://localhost:8080/"
        },
        "id": "E1GaFe6keKzQ",
        "outputId": "320f4342-d58a-47de-db49-58a74243d192"
      },
      "execution_count": 67,
      "outputs": [
        {
          "output_type": "execute_result",
          "data": {
            "text/plain": [
              "True"
            ]
          },
          "metadata": {},
          "execution_count": 67
        }
      ]
    },
    {
      "cell_type": "code",
      "source": [
        "{10} in {10,20,30}"
      ],
      "metadata": {
        "colab": {
          "base_uri": "https://localhost:8080/"
        },
        "id": "UwfN92wmivHo",
        "outputId": "2d1d613a-cfbe-48f4-969c-95fc14c049a9"
      },
      "execution_count": 68,
      "outputs": [
        {
          "output_type": "execute_result",
          "data": {
            "text/plain": [
              "False"
            ]
          },
          "metadata": {},
          "execution_count": 68
        }
      ]
    },
    {
      "cell_type": "code",
      "source": [
        "{10,20} in {10,20,30}"
      ],
      "metadata": {
        "colab": {
          "base_uri": "https://localhost:8080/"
        },
        "id": "5bXDDw4ciwqh",
        "outputId": "6c3f2c99-16eb-4e72-af24-afb26f64a66e"
      },
      "execution_count": 70,
      "outputs": [
        {
          "output_type": "execute_result",
          "data": {
            "text/plain": [
              "False"
            ]
          },
          "metadata": {},
          "execution_count": 70
        }
      ]
    },
    {
      "cell_type": "code",
      "source": [
        "a = {'key' : 'value', 'key2' : 'value'}\n",
        "'key' in a"
      ],
      "metadata": {
        "colab": {
          "base_uri": "https://localhost:8080/"
        },
        "id": "_OkCvNUZizT-",
        "outputId": "0400438e-7533-4eea-a571-ca27f95a34b4"
      },
      "execution_count": 71,
      "outputs": [
        {
          "output_type": "execute_result",
          "data": {
            "text/plain": [
              "True"
            ]
          },
          "metadata": {},
          "execution_count": 71
        }
      ]
    },
    {
      "cell_type": "markdown",
      "source": [
        "## 그리디 알고리즘\n",
        "- 욕심쟁이 알고리즘이라고 불립니다.\n",
        "- 가장 최선을 선택한 것이 최종적으로도 가장 최선의 선택임 "
      ],
      "metadata": {
        "id": "2xiF0SCDjuDG"
      }
    },
    {
      "cell_type": "code",
      "source": [
        "# 10000원을 들고 가서 1200원짜리 아이스크림 먹었을 때 잔돈의 갯수가 가장 적은 경우를 구하라\n",
        "잔돈 = 8800\n",
        "\n",
        "오천원갯수 = 잔돈 // 5000\n",
        "잔돈 = 잔돈 - 오천원갯수 * 5000\n",
        "\n",
        "천원의갯수 = 잔돈 // 1000\n",
        "잔돈 = 잔돈 - 천원의갯수 * 1000\n",
        "\n",
        "오백원갯수 = 잔돈 // 500\n",
        "잔돈 = 잔돈 - 오백원갯수 * 500\n",
        "\n",
        "백원갯수 = 잔돈 // 100\n",
        "잔돈 = 잔돈 - 백원갯수 * 100\n",
        "\n",
        "print(f'오천원은 {오천원갯수}개, \\\n",
        "  천원은 {천원의갯수}개, \\\n",
        "  오백원은 {오백원갯수}개, \\\n",
        "  백원 {백원갯수}개를 거슬러 드립니다.')"
      ],
      "metadata": {
        "colab": {
          "base_uri": "https://localhost:8080/"
        },
        "id": "FFSNW0dkluJ-",
        "outputId": "c9308b88-1d47-4454-ebed-bbb1375402f2"
      },
      "execution_count": 74,
      "outputs": [
        {
          "output_type": "stream",
          "name": "stdout",
          "text": [
            "오천원은 1개,   천원은 3개,   오백원은 1개,   백원 3개를 거슬러 드립니다.\n"
          ]
        }
      ]
    },
    {
      "cell_type": "markdown",
      "source": [
        "#   Ch3. 함수 "
      ],
      "metadata": {
        "id": "0onS4QexmyIN"
      }
    },
    {
      "cell_type": "markdown",
      "source": [
        "- 코드를 재사용 할 수 있으며, 실수를 줄일 수 있다\n",
        "- 코드의 구조를 한 눈에 파악할 수 있다. "
      ],
      "metadata": {
        "id": "rCq2f8h5m3Yd"
      }
    },
    {
      "cell_type": "code",
      "source": [
        "def hello():\n",
        "  return "
      ],
      "metadata": {
        "id": "N-z3xTghmwCw"
      },
      "execution_count": null,
      "outputs": []
    },
    {
      "cell_type": "markdown",
      "source": [
        "# List\n"
      ],
      "metadata": {
        "id": "xpBOjlsQgZyp"
      }
    },
    {
      "cell_type": "markdown",
      "source": [
        "**특징**\n",
        "\n",
        "- 순서가 있습니다.\n",
        "- 수정이 가능하다. \n",
        "- 리스트 컴프리헨션이 일반 반복문 보다 속도 우위를 가지고 있습니다.\n",
        "- 슬라이싱도 일반 반복문 보다 속도 우위를 가지고 있습니다. \n"
      ],
      "metadata": {
        "id": "hZSKo_fJhYNo"
      }
    },
    {
      "cell_type": "code",
      "source": [],
      "metadata": {
        "id": "2bNN2gfjG2al"
      },
      "execution_count": 74,
      "outputs": []
    }
  ]
}
