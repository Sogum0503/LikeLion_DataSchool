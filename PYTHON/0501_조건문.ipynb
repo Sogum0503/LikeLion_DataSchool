{
  "nbformat": 4,
  "nbformat_minor": 0,
  "metadata": {
    "colab": {
      "provenance": [],
      "authorship_tag": "ABX9TyMUDTIVpCDAqDx0JFAPasih",
      "include_colab_link": true
    },
    "kernelspec": {
      "name": "python3",
      "display_name": "Python 3"
    },
    "language_info": {
      "name": "python"
    }
  },
  "cells": [
    {
      "cell_type": "markdown",
      "metadata": {
        "id": "view-in-github",
        "colab_type": "text"
      },
      "source": [
        "<a href=\"https://colab.research.google.com/github/Sogum0503/LikeLion_DataSchool/blob/main/PYTHON/0501_%EC%A1%B0%EA%B1%B4%EB%AC%B8.ipynb\" target=\"_parent\"><img src=\"https://colab.research.google.com/assets/colab-badge.svg\" alt=\"Open In Colab\"/></a>"
      ]
    },
    {
      "cell_type": "markdown",
      "source": [
        "# 1.1. 조건문을 만들 때 주의사항 \n",
        "- 어떤 조건을 설정할 것인가?\n",
        "- 어떤 예외가 발생할 것인가? (테스트, 검증) \n",
        "- 조건문이 작성된 뒤에는 최소 5~10번 정도는 테스트를 해보아야 한다. "
      ],
      "metadata": {
        "id": "SwvV20oy64LC"
      }
    },
    {
      "cell_type": "markdown",
      "source": [
        "## 1.2 조건문 복습\n",
        "\n",
        "조건문은 다음과 같이 복습하려고 합니다.\n",
        "\n",
        "1. 단일 조건문\n",
        "2. If - else 조건문\n",
        "3. If - elif - else 조건문\n",
        "4. 다중 중첩 조건문\n",
        "5. input과 함께 사용하는 조건문\n",
        "\n",
        "[기억해야할것]\n",
        "\n",
        "1. if 뒤에는 참과 거짓을 판단하는 조건이 와야함\n",
        "2. 조건문이 끝나면 반드시 콜론으로 끝나야함\n",
        "3. if 다음 문장은 들여쓰기를 사용해야함\n",
        "4. if 조건에 부합하지 않으면 elif나 else를 사용한다. 보통 조건에 모두 부합하지 않을때 else를 사용한다.\n",
        "\n",
        "[연산자]\n",
        "\n",
        "* x < x가 작다\n",
        "* x > x가 크다\n",
        "* x == y 같다\n",
        "* x != y 다르다\n",
        "* x >= y 크거나 같다\n",
        "* x <= y 작거나 같다\n",
        "\n",
        "[논리연산자]\n",
        "2개이상의 조건을 사용하고 싶을때 사용\n",
        "\n",
        "* and\n",
        "* or\n",
        "* not\n",
        "\n"
      ],
      "metadata": {
        "id": "LZ8r2siu-43l"
      }
    },
    {
      "cell_type": "code",
      "source": [
        "# if문 예제\n",
        "\n",
        "x = 2 \n",
        "if x > 1 and x < 10 :\n",
        "  print(\"True\")"
      ],
      "metadata": {
        "colab": {
          "base_uri": "https://localhost:8080/"
        },
        "id": "8ST2UTAa-x42",
        "outputId": "49eca175-ac4a-4867-f94a-848582adff21"
      },
      "execution_count": null,
      "outputs": [
        {
          "output_type": "stream",
          "name": "stdout",
          "text": [
            "True\n"
          ]
        }
      ]
    },
    {
      "cell_type": "code",
      "source": [
        "if True:\n",
        "  print('True')"
      ],
      "metadata": {
        "colab": {
          "base_uri": "https://localhost:8080/"
        },
        "id": "5Q1LT2bc_aoE",
        "outputId": "396d742d-4b42-4707-f794-20674e81959b"
      },
      "execution_count": null,
      "outputs": [
        {
          "output_type": "stream",
          "name": "stdout",
          "text": [
            "True\n"
          ]
        }
      ]
    },
    {
      "cell_type": "code",
      "source": [
        "if True:\n",
        "  print('hello')\n",
        "print('one')\n",
        "\n",
        "if False:\n",
        "  print('world') # false라서 출력이 안됨 \n",
        "print('two')"
      ],
      "metadata": {
        "colab": {
          "base_uri": "https://localhost:8080/"
        },
        "id": "QQTcJA-C_aqi",
        "outputId": "242c02e4-fa60-44a6-9bf3-157ab7b40492"
      },
      "execution_count": null,
      "outputs": [
        {
          "output_type": "stream",
          "name": "stdout",
          "text": [
            "hello\n",
            "one\n",
            "two\n"
          ]
        }
      ]
    },
    {
      "cell_type": "code",
      "source": [
        "# if, else 문\n",
        "\n",
        "x = int(input('비교할 수를 입력하세요 : '))\n",
        "y = int(input('비교할 수를 입력하세요 : '))\n",
        "\n",
        "if x > y: # False\n",
        "  print(\"x가 y보다 큽니다\")\n",
        "else: # True\n",
        "  print(\"x가 y보다 작거나 같습니다 \") "
      ],
      "metadata": {
        "id": "xN7gD2Tf_as_",
        "colab": {
          "base_uri": "https://localhost:8080/"
        },
        "outputId": "37334057-f495-4e69-8123-229d859c83e0"
      },
      "execution_count": 1,
      "outputs": [
        {
          "output_type": "stream",
          "name": "stdout",
          "text": [
            "비교할 수를 입력하세요 : 1\n",
            "비교할 수를 입력하세요 : 2\n",
            "x가 y보다 작거나 같습니다 \n"
          ]
        }
      ]
    },
    {
      "cell_type": "code",
      "source": [
        "# if, elif, else \n",
        "if 조건문:\n",
        "  수행문장1\n",
        "elif 조건문:\n",
        "  수행문장2\n",
        "else:\n",
        "  수행문장3"
      ],
      "metadata": {
        "id": "3up899SK_avc"
      },
      "execution_count": null,
      "outputs": []
    },
    {
      "cell_type": "code",
      "source": [
        "if x > y: # False\n",
        "  print(\"x가 y보다 큽니다\")\n",
        "elif x < y: #True\n",
        "  print(\"x가 y보다 작습니다.\")\n",
        "else: # 실행 x\n",
        "  print(\"같습니다\") "
      ],
      "metadata": {
        "id": "cpU-TE-t_ax4"
      },
      "execution_count": null,
      "outputs": []
    },
    {
      "cell_type": "code",
      "source": [
        "score = 81\n",
        "money = 0\n",
        "\n",
        "if score >= 90:\n",
        "    print('mom : i\\'m so happy!')\n",
        "    money += 1000000\n",
        "elif score >= 80:\n",
        "    print('mom : i\\'m happy!')\n",
        "    money += 100000\n",
        "elif score >= 70 and score < 80:\n",
        "    print('mom : i\\'m so...!')\n",
        "    money += 10000\n",
        "elif score >= 60 and score < 70:\n",
        "    print('mom : i\\'m so...!')\n",
        "    money += 1000\n",
        "else:\n",
        "    print('mom : i\\'m...!')\n",
        "print(money)"
      ],
      "metadata": {
        "id": "0RSmFiPq_az2"
      },
      "execution_count": null,
      "outputs": []
    },
    {
      "cell_type": "code",
      "source": [
        "# 중첩 조건문\n",
        "\n",
        "#if를 중첩해서 사용하기\n",
        "score = 98\n",
        "\n",
        "if score >= 90:\n",
        "    print('mom : i\\'m so happy!')\n",
        "    money += 1000000\n",
        "    \n",
        "    if score > 95:\n",
        "        print('hello world')\n",
        "\n",
        "        if score > 97:\n",
        "            print('hello!!!')\n",
        "            \n",
        "elif score >= 80:\n",
        "    print('mom : i\\'m happy!')\n",
        "    money += 100000"
      ],
      "metadata": {
        "id": "QmwieE4L_a5O"
      },
      "execution_count": null,
      "outputs": []
    }
  ]
}