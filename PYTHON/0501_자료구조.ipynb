{
  "nbformat": 4,
  "nbformat_minor": 0,
  "metadata": {
    "colab": {
      "provenance": [],
      "authorship_tag": "ABX9TyNZtUMKgNP+Ud62QrRonXiY",
      "include_colab_link": true
    },
    "kernelspec": {
      "name": "python3",
      "display_name": "Python 3"
    },
    "language_info": {
      "name": "python"
    }
  },
  "cells": [
    {
      "cell_type": "markdown",
      "metadata": {
        "id": "view-in-github",
        "colab_type": "text"
      },
      "source": [
        "<a href=\"https://colab.research.google.com/github/Sogum0503/LikeLion_DataSchool/blob/main/PYTHON/0501_%EC%9E%90%EB%A3%8C%EA%B5%AC%EC%A1%B0.ipynb\" target=\"_parent\"><img src=\"https://colab.research.google.com/assets/colab-badge.svg\" alt=\"Open In Colab\"/></a>"
      ]
    },
    {
      "cell_type": "markdown",
      "source": [
        "# 1. 리스트 "
      ],
      "metadata": {
        "id": "2EOme4YRfNbx"
      }
    },
    {
      "cell_type": "code",
      "source": [
        "# 1차원 리스트 \n",
        "\n",
        "a = [10000, 2, 1, 3]\n",
        "\n",
        "print(type(a))"
      ],
      "metadata": {
        "colab": {
          "base_uri": "https://localhost:8080/"
        },
        "id": "v2qX9ycCft5l",
        "outputId": "3a8c56f3-a87a-418b-e4a5-11f94f7ed52c"
      },
      "execution_count": null,
      "outputs": [
        {
          "output_type": "stream",
          "name": "stdout",
          "text": [
            "<class 'list'>\n"
          ]
        }
      ]
    },
    {
      "cell_type": "code",
      "source": [
        "b = list('leehojun') \n",
        "\n",
        "print(b)\n",
        "print(type(b))"
      ],
      "metadata": {
        "colab": {
          "base_uri": "https://localhost:8080/"
        },
        "id": "F7RpJIuafuEG",
        "outputId": "b43c033a-4d67-4e37-e914-7dfcd6a95750"
      },
      "execution_count": null,
      "outputs": [
        {
          "output_type": "stream",
          "name": "stdout",
          "text": [
            "['l', 'e', 'e', 'h', 'o', 'j', 'u', 'n']\n",
            "<class 'list'>\n"
          ]
        }
      ]
    },
    {
      "cell_type": "code",
      "source": [
        "# 다차원 리스트 \n",
        "\n",
        "c = [[1,2,'leehojun'],\n",
        "     [11,22,33],\n",
        "     [10,20,30]]\n",
        "\n",
        "print(c)"
      ],
      "metadata": {
        "colab": {
          "base_uri": "https://localhost:8080/"
        },
        "id": "HnCntRVAfuHO",
        "outputId": "1fde8275-6edf-4b31-af19-b8e058191a4e"
      },
      "execution_count": null,
      "outputs": [
        {
          "output_type": "stream",
          "name": "stdout",
          "text": [
            "[[1, 2, 'leehojun'], [11, 22, 33], [10, 20, 30]]\n"
          ]
        }
      ]
    },
    {
      "cell_type": "code",
      "source": [
        "# 다차원 리스트의 인덱싱 \n",
        "\n",
        "a[0][2][:3]"
      ],
      "metadata": {
        "colab": {
          "base_uri": "https://localhost:8080/",
          "height": 35
        },
        "id": "iVZxCA31fuJw",
        "outputId": "f9696155-5d4d-4952-c2a8-49d3eb7c8104"
      },
      "execution_count": null,
      "outputs": [
        {
          "output_type": "execute_result",
          "data": {
            "text/plain": [
              "'lee'"
            ],
            "application/vnd.google.colaboratory.intrinsic+json": {
              "type": "string"
            }
          },
          "metadata": {},
          "execution_count": 19
        }
      ]
    },
    {
      "cell_type": "markdown",
      "source": [
        "## 1.1. 리스트 복습 "
      ],
      "metadata": {
        "id": "DTgUVH1PZ5yL"
      }
    },
    {
      "cell_type": "code",
      "source": [
        "#1.1.1 리스트 생성\n",
        "\n",
        "List_01 = []\n",
        "print(f\"첫번째 리스트 예제의 값은 : {List_01}\")\n",
        "\n",
        "List_02 = list()\n",
        "print(f\"두번째 리스트 예제의 값은 : {List_02}\")"
      ],
      "metadata": {
        "colab": {
          "base_uri": "https://localhost:8080/"
        },
        "id": "Q_XyilcaZ8NL",
        "outputId": "058f2b20-3ac8-4267-8058-e5d845933739"
      },
      "execution_count": 1,
      "outputs": [
        {
          "output_type": "stream",
          "name": "stdout",
          "text": [
            "첫번째 리스트 예제의 값은 : []\n",
            "두번째 리스트 예제의 값은 : []\n"
          ]
        }
      ]
    },
    {
      "cell_type": "code",
      "source": [
        "# 1.1.2 리스트 생성 - 여러 형태의 리스트\n",
        "\n",
        "# 단일 자료형 리스트\n",
        "List_03 = [10, 55, 20, 75]\n",
        "print(\"세번째 리스트 예제의 값은 : \" , List_03)\n",
        "\n",
        "# 복합 자료형 리스트(문자, 숫자)\n",
        "List_04 = [1000, 10000,'Lion', 'Weniv', 'Coding'] # 숫자와 문자열이 같이 있다. \n",
        "print(\"네번째 리스트 예제의 값은 : \" , List_04)\n",
        "\n",
        "# 복합 리스트 - 리스트 안에 리스트\n",
        "List_05 = [1000, 10000, ['Lion', 'Weniv', 'Coding']]  \n",
        "print(\"다섯번째 리스트 예제의 값은 : \" , List_05)\n",
        "\n",
        "# 복합 자료형 리스트(3가지 이상)\n",
        "List_06 = [54.42, 'not', 3, 4, False, 3.14159] # 숫자, 실수, 문자, 부울형이 함께 있다 \n",
        "print(\"여섯번째 리스트 예제의 값은 : \" , List_06)"
      ],
      "metadata": {
        "colab": {
          "base_uri": "https://localhost:8080/"
        },
        "id": "o5fvtJSEZ8eY",
        "outputId": "57308032-e229-48ef-f4fa-ba76e1e0b047"
      },
      "execution_count": 2,
      "outputs": [
        {
          "output_type": "stream",
          "name": "stdout",
          "text": [
            "세번째 리스트 예제의 값은 :  [10, 55, 20, 75]\n",
            "네번째 리스트 예제의 값은 :  [1000, 10000, 'Lion', 'Weniv', 'Coding']\n",
            "다섯번째 리스트 예제의 값은 :  [1000, 10000, ['Lion', 'Weniv', 'Coding']]\n",
            "여섯번째 리스트 예제의 값은 :  [54.42, 'not', 3, 4, False, 3.14159]\n"
          ]
        }
      ]
    },
    {
      "cell_type": "code",
      "source": [
        "# 1.1.3 리스트 생성 - 이차원 리스트\n",
        "\n",
        "kor = [10, 20, 30]\n",
        "math = [30, 40, 50]\n",
        "eng = [60, 70, 80]\n",
        "\n",
        "score_all = [kor, math, eng]\n",
        "\n",
        "print(score_all)"
      ],
      "metadata": {
        "colab": {
          "base_uri": "https://localhost:8080/"
        },
        "id": "T3HuiF0rZ8zk",
        "outputId": "a0dfa0f5-c9a6-4fc1-c8bf-308b9d20ac49"
      },
      "execution_count": 3,
      "outputs": [
        {
          "output_type": "stream",
          "name": "stdout",
          "text": [
            "[[10, 20, 30], [30, 40, 50], [60, 70, 80]]\n"
          ]
        }
      ]
    },
    {
      "cell_type": "code",
      "source": [
        "# 1.1.4 리스트 생성 - range\n",
        "\n",
        "a = list(range(10))\n",
        "print(a)"
      ],
      "metadata": {
        "colab": {
          "base_uri": "https://localhost:8080/"
        },
        "id": "5gyDb18bZ9Bb",
        "outputId": "52738376-0cd5-4a30-9ea7-41d82d34edce"
      },
      "execution_count": 4,
      "outputs": [
        {
          "output_type": "stream",
          "name": "stdout",
          "text": [
            "[0, 1, 2, 3, 4, 5, 6, 7, 8, 9]\n"
          ]
        }
      ]
    },
    {
      "cell_type": "markdown",
      "source": [
        "### 1.1.2 리스트 인덱싱/슬라이싱\n",
        "\n",
        "리스트 인덱싱과 슬라이싱은 간단하지만 사용하다보면 헷갈릴 경우가 많습니다. 보통 데이터의 구조가 2차원 이상의 구조이고, 데이터를 정제하다보면 헷갈릴 경우가 많기 때문에 복습해보면서 잘 알아둡시다!\n",
        "\n",
        "* 리스트 인덱싱 - 휴대폰 단축번호를 생각하면 쉬움 - 1번은 어머니  2번은 아버지 3번은 선생님\n",
        "* 리스트 슬라이싱 - 휴대폰 그룹을 생각하면 쉬움 - 어머니,아버지는 가족 선생님,친구1은 학교"
      ],
      "metadata": {
        "id": "i3vrjpmJZ9OP"
      }
    },
    {
      "cell_type": "code",
      "source": [
        "# 리스트 인덱싱 예제\n",
        "\n",
        "# 휴대폰 번호 순서\n",
        "Phone_num = ['어머니', '아버지', '선생님','친구1']\n",
        "\n",
        "# 리스트 인덱싱\n",
        "print(Phone_num[0])\n",
        "print(Phone_num[2])\n",
        "\n",
        "# 리스트 슬라이싱\n",
        "# 리스트 슬라이싱때 맨 마지막 숫자 +1 주의\n",
        "family = Phone_num[0:2]\n",
        "school = Phone_num[2:4]\n",
        "\n",
        "print(family)\n",
        "print(school)"
      ],
      "metadata": {
        "colab": {
          "base_uri": "https://localhost:8080/"
        },
        "id": "V0SiSCe3Z9bG",
        "outputId": "0a1b3e27-01f8-4e1c-d716-0fa2469e3a83"
      },
      "execution_count": 5,
      "outputs": [
        {
          "output_type": "stream",
          "name": "stdout",
          "text": [
            "어머니\n",
            "선생님\n",
            "['어머니', '아버지']\n",
            "['선생님', '친구1']\n"
          ]
        }
      ]
    },
    {
      "cell_type": "code",
      "source": [
        "score_all = [kor, math, eng]\n",
        "\n",
        "print(score_all)"
      ],
      "metadata": {
        "colab": {
          "base_uri": "https://localhost:8080/"
        },
        "id": "8wW79BayZ9nY",
        "outputId": "c93368c8-307e-4cc7-e9a3-a724eee3326e"
      },
      "execution_count": 6,
      "outputs": [
        {
          "output_type": "stream",
          "name": "stdout",
          "text": [
            "[[10, 20, 30], [30, 40, 50], [60, 70, 80]]\n"
          ]
        }
      ]
    },
    {
      "cell_type": "code",
      "source": [
        "# 2차원 리스트 인덱싱/슬라이싱\n",
        "\n",
        "# 1.1.3 리스트 생성 - 이차원 리스트\n",
        "\n",
        "kor = [10, 20, 30]\n",
        "math = [30, 40, 50]\n",
        "eng = [60, 70, 80]\n",
        "\n",
        "score_all = [kor, math, eng]\n",
        "\n",
        "print(score_all)\n",
        "\n",
        "print(score_all[0][1]) # 국어 점수 / 2번째 학생\n",
        "print(score_all[1][2]) # 수학 점수 / 3번째 학생"
      ],
      "metadata": {
        "colab": {
          "base_uri": "https://localhost:8080/"
        },
        "id": "jWd0ACWNZ9zL",
        "outputId": "f725ef2f-ec36-4e88-fd83-2384a604aaf6"
      },
      "execution_count": 7,
      "outputs": [
        {
          "output_type": "stream",
          "name": "stdout",
          "text": [
            "[[10, 20, 30], [30, 40, 50], [60, 70, 80]]\n",
            "20\n",
            "50\n"
          ]
        }
      ]
    },
    {
      "cell_type": "code",
      "source": [
        "# 리스트 갱신하기\n",
        "\n",
        "# 휴대폰 번호 순서\n",
        "Phone_num = ['어머니', '아버지', '선생님','친구1']\n",
        "\n",
        "Phone_num[3] = '이모'\n",
        "\n",
        "print(Phone_num)"
      ],
      "metadata": {
        "colab": {
          "base_uri": "https://localhost:8080/"
        },
        "id": "4LUfUrwkbiOq",
        "outputId": "e6d8ffcc-cae1-4bac-8b48-f0697b3b9aaf"
      },
      "execution_count": 8,
      "outputs": [
        {
          "output_type": "stream",
          "name": "stdout",
          "text": [
            "['어머니', '아버지', '선생님', '이모']\n"
          ]
        }
      ]
    },
    {
      "cell_type": "code",
      "source": [
        "# 결측값을 대체\n",
        "\n",
        "# 숫자열\n",
        "['어머니', '아버지', '선생님', '', '.', '.']\n",
        "\n",
        "# 문자열\n",
        "['어머니', '아버지', '선생님', '', '', '']"
      ],
      "metadata": {
        "colab": {
          "base_uri": "https://localhost:8080/"
        },
        "id": "pRKsFVRIbind",
        "outputId": "38d50fb9-5cf5-42f9-a0f7-8fee9c8bb25e"
      },
      "execution_count": 9,
      "outputs": [
        {
          "output_type": "execute_result",
          "data": {
            "text/plain": [
              "['어머니', '아버지', '선생님', '', '', '']"
            ]
          },
          "metadata": {},
          "execution_count": 9
        }
      ]
    },
    {
      "cell_type": "code",
      "source": [
        "# 리스트 갯수 파악하기\n",
        "\n",
        "len(Phone_num)"
      ],
      "metadata": {
        "colab": {
          "base_uri": "https://localhost:8080/"
        },
        "id": "tbJP9M5Pbi5b",
        "outputId": "a7f8035d-a7f7-47dc-e528-8df6bd77dcb9"
      },
      "execution_count": 10,
      "outputs": [
        {
          "output_type": "execute_result",
          "data": {
            "text/plain": [
              "4"
            ]
          },
          "metadata": {},
          "execution_count": 10
        }
      ]
    },
    {
      "cell_type": "markdown",
      "source": [
        "#1.1.3 리스트 함수\n",
        "\n",
        "주로 사용하는 리스트 함수에 대해 복습해봅시다.\n",
        "\n",
        "[데이터 추가 함수]\n",
        "* append() 리스트 맨 마지막에 인덱스 추가\n",
        "* extend() 기존 리스트에 새로운 리스트를 합침\n",
        "* insert() 특정 위치에 값을 추가\n",
        "\n",
        "[데이터 제거 함수]\n",
        "* pop() 리스트 끝에서 부터 하나씩 꺼내어 반환한 뒤 삭제\n",
        "* remove() 리스트에 있는 특정값을 제거\n",
        "* del - 특정 인덱스 위치에 있는 값을 제거\n",
        "* clear() 리스트 안에 있는 원소를 다 비우는 함수\n",
        "\n",
        "[데이터 정렬 함수]\n",
        "* sort() 오름차순으로 정렬(내림차순의 경우 reverse = True)\n",
        "* reverse() 값의 순서를 거꾸로 뒤집어서 사용\n",
        "\n",
        "[데이터 중복 확인]\n",
        "* count(\"특정값\") 특정값이 몇개나 중복으로 있는지 체크 가능\n",
        "\n",
        "[데이터 위치 확인]\n",
        "* index()"
      ],
      "metadata": {
        "id": "X56Xhmlhbo9i"
      }
    },
    {
      "cell_type": "code",
      "source": [
        "# 리스트 함수 실습\n",
        "l = [1, 2, 3]\n",
        "dir(l) # dir을 통해 사용할 수 있는 함수(메서드) 확인 가능"
      ],
      "metadata": {
        "id": "VoH4UrSebjHU"
      },
      "execution_count": null,
      "outputs": []
    },
    {
      "cell_type": "code",
      "source": [
        "# 버스 승객 탑승 \n",
        "\n",
        "# 리스트 함수를 사용해서 실습할 것\n",
        "# 상황 1. 버스에 버스기사 아저씨가 탑승해서 운행가능 \n",
        "\n",
        "bus = []\n",
        "print(bus)\n"
      ],
      "metadata": {
        "id": "HX3gCnSbbjSD"
      },
      "execution_count": null,
      "outputs": []
    },
    {
      "cell_type": "code",
      "source": [
        "# 상황 1. 버스기사 아저씨가 탑승을 하려면\n",
        "bus.append('버스기사아저씨')\n",
        "print(f'버스에는 누가 타고 있을까요? {bus}가 타고 있어요')"
      ],
      "metadata": {
        "id": "pudW1DtXbsCg"
      },
      "execution_count": null,
      "outputs": []
    },
    {
      "cell_type": "code",
      "source": [
        "# 상황 2. 버스에 철수가 탑승을 했다.\n",
        "bus.append('철수')\n",
        "print(f'버스에는 누가 타고 있을까요? {bus}가 타고 있어요')"
      ],
      "metadata": {
        "id": "53OODv-RbjdC"
      },
      "execution_count": null,
      "outputs": []
    },
    {
      "cell_type": "code",
      "source": [
        "# 상황 3. 선생님이 아이 3명을 데리고 탑승했어요.\n",
        "kinder = ['선생님','아이1','아이2','아이3']\n",
        "bus.extend(kinder)\n",
        "\n",
        "print(f'버스에는 누가 타고 있을까요? {bus}가 타고 있어요')\n",
        "print(f'몇명이나 타고 있을까요? {len(bus)}명이 타고 있어요')"
      ],
      "metadata": {
        "id": "n7xKDb5lbusF"
      },
      "execution_count": null,
      "outputs": []
    },
    {
      "cell_type": "code",
      "source": [
        "# 상황 4. 노인 한분이 탑승하셨어요\n",
        "# insert()\n",
        "\n",
        "bus.insert(1, '노인')"
      ],
      "metadata": {
        "id": "kSIpJjJvbu51"
      },
      "execution_count": null,
      "outputs": []
    },
    {
      "cell_type": "code",
      "source": [
        "print(f'버스에는 누가 타고 있을까요? {bus}가 타고 있어요')\n",
        "print(f'몇명이나 타고 있을까요? {len(bus)}명이 타고 있어요')"
      ],
      "metadata": {
        "id": "E7a8rEW-bvE3"
      },
      "execution_count": null,
      "outputs": []
    },
    {
      "cell_type": "code",
      "source": [
        "# 아이의 위치 확인\n",
        "kid1 = bus.index('아이1')\n",
        "print(kid1)"
      ],
      "metadata": {
        "id": "hRUQ1l4zbvZL"
      },
      "execution_count": null,
      "outputs": []
    },
    {
      "cell_type": "code",
      "source": [
        "# 노인분이 내리고자 할때\n",
        "bus.remove('노인')\n",
        "\n",
        "print(f'버스에는 누가 타고 있을까요? {bus}가 타고 있어요')\n",
        "print(f'몇명이나 타고 있을까요? {len(bus)}명이 타고 있어요')"
      ],
      "metadata": {
        "id": "nrQuXZeSbxzP"
      },
      "execution_count": null,
      "outputs": []
    },
    {
      "cell_type": "code",
      "source": [
        "# 상황 6. 선생님이 아이들을 한명 한명 인원 체크를 하며 내리려고 하고 있어요.\n",
        "# 인원체크 후에 선생님이 마지막으로 내릴거에요\n",
        "\n",
        "bus.pop()"
      ],
      "metadata": {
        "id": "KIagUzLxbyB1"
      },
      "execution_count": null,
      "outputs": []
    },
    {
      "cell_type": "code",
      "source": [
        "print(f'버스에는 누가 타고 있을까요? {bus}가 타고 있어요')\n"
      ],
      "metadata": {
        "id": "A4I85-9rbyPb"
      },
      "execution_count": null,
      "outputs": []
    },
    {
      "cell_type": "code",
      "source": [
        "bus.pop()"
      ],
      "metadata": {
        "id": "VvjYgdO7bykJ"
      },
      "execution_count": null,
      "outputs": []
    },
    {
      "cell_type": "code",
      "source": [
        "print(f'버스에는 누가 타고 있을까요? {bus}가 타고 있어요')\n"
      ],
      "metadata": {
        "colab": {
          "base_uri": "https://localhost:8080/"
        },
        "id": "hdSGlyR_fuMK",
        "outputId": "f2fcc8f6-a228-43a9-94db-7d9ef4ecf808"
      },
      "execution_count": null,
      "outputs": [
        {
          "output_type": "execute_result",
          "data": {
            "text/plain": [
              "range(0, 10)"
            ]
          },
          "metadata": {},
          "execution_count": 20
        }
      ]
    },
    {
      "cell_type": "code",
      "source": [
        "bus.pop()\n",
        "print(f'버스에는 누가 타고 있을까요? {bus}가 타고 있어요')\n"
      ],
      "metadata": {
        "id": "87xNNMmwb4bF"
      },
      "execution_count": null,
      "outputs": []
    },
    {
      "cell_type": "code",
      "source": [
        "bus.clear()"
      ],
      "metadata": {
        "id": "Q59X6BFyb40V"
      },
      "execution_count": null,
      "outputs": []
    },
    {
      "cell_type": "markdown",
      "source": [
        "###1.1.4 리스트 연산\n",
        "\n",
        "[리스트 연산]\n",
        "\n",
        "* 리스트 덧셈\n",
        "* 리스트 곱셉\n",
        "* in 연산"
      ],
      "metadata": {
        "id": "OG7U62PTb4_X"
      }
    },
    {
      "cell_type": "code",
      "source": [
        "# 리스트 덧셈\n",
        "\n",
        "company1 = ['멋쟁이사자처럼']\n",
        "company2 = ['위니브']\n",
        "company3 = ['테킷']"
      ],
      "metadata": {
        "id": "WLvExWi3b5Mz"
      },
      "execution_count": null,
      "outputs": []
    },
    {
      "cell_type": "code",
      "source": [
        "company_all =[company1 + company2 + company3]"
      ],
      "metadata": {
        "id": "IK9FGpt5b5XE"
      },
      "execution_count": null,
      "outputs": []
    },
    {
      "cell_type": "code",
      "source": [
        "print(company_all)"
      ],
      "metadata": {
        "id": "i5d5tdh-b5go"
      },
      "execution_count": null,
      "outputs": []
    },
    {
      "cell_type": "code",
      "source": [
        "company_all_01 = company1 + company2 + company3"
      ],
      "metadata": {
        "id": "gSBcdBPUb5pa"
      },
      "execution_count": null,
      "outputs": []
    },
    {
      "cell_type": "code",
      "source": [
        "print(company_all_01)"
      ],
      "metadata": {
        "id": "Cvpv1DDMb5xZ"
      },
      "execution_count": null,
      "outputs": []
    },
    {
      "cell_type": "code",
      "source": [
        "# 리스트 곱셈\n",
        "\n",
        "company1 * 3"
      ],
      "metadata": {
        "id": "HaEjyMB-cBcL"
      },
      "execution_count": null,
      "outputs": []
    },
    {
      "cell_type": "code",
      "source": [
        "# 리스트내의 요소 찾기\n",
        "'멋쟁이사자처럼' in company_all_01"
      ],
      "metadata": {
        "id": "3uoQt7POcBth"
      },
      "execution_count": null,
      "outputs": []
    },
    {
      "cell_type": "code",
      "source": [
        "# 연습문제 1. 정수 5개를 Input으로 리스트형태로 입력받아서 평균을 내보기\n",
        "num_list = []\n",
        "\n",
        "# 1개 입력받을때마다 추가가 되어서\n",
        "# 5개를 받을때는 리스트안에 값이 5개가 있어야 함 \n",
        "\n",
        "# 5개 값 받기 \n",
        "for i in range(5):\n",
        "  num = int(input())\n",
        "  num_list.append(num)\n",
        "\n",
        "# 평균 구하기 \n",
        "num_avg = sum(num_list)/len(num_list)\n",
        "print(average)"
      ],
      "metadata": {
        "colab": {
          "base_uri": "https://localhost:8080/"
        },
        "id": "sQ7NsdeUoP45",
        "outputId": "09ff89fe-e1b7-409f-85f1-540059fb0d73"
      },
      "execution_count": null,
      "outputs": [
        {
          "output_type": "stream",
          "name": "stdout",
          "text": [
            "1\n",
            "2\n",
            "4\n",
            "4\n",
            "5\n",
            "3.2\n"
          ]
        }
      ]
    },
    {
      "cell_type": "markdown",
      "source": [
        "### 1.1.5. 패킹과 언패킹\n",
        "- 딥러닝, 머신러닝 때 많이 사용함"
      ],
      "metadata": {
        "id": "YX8iRum0tPLA"
      }
    },
    {
      "cell_type": "code",
      "source": [
        "t = [1, 2, 3] # 패킹 "
      ],
      "metadata": {
        "id": "A4dyg2_qtROx"
      },
      "execution_count": null,
      "outputs": []
    },
    {
      "cell_type": "code",
      "source": [
        "a, b, c = t # 언패킹 "
      ],
      "metadata": {
        "id": "Uw54pyN7tRhn"
      },
      "execution_count": null,
      "outputs": []
    },
    {
      "cell_type": "code",
      "source": [
        "print(t)\n",
        "print(a)\n",
        "print(b)\n",
        "print(c)"
      ],
      "metadata": {
        "colab": {
          "base_uri": "https://localhost:8080/"
        },
        "id": "X7XBP-pOtmu8",
        "outputId": "b46bf97c-79d6-46c2-d706-1bdaa2c194d6"
      },
      "execution_count": null,
      "outputs": [
        {
          "output_type": "stream",
          "name": "stdout",
          "text": [
            "[1, 2, 3]\n",
            "1\n",
            "2\n",
            "3\n"
          ]
        }
      ]
    },
    {
      "cell_type": "markdown",
      "source": [
        "### 1.1.6. 리스트 컴프리헨션"
      ],
      "metadata": {
        "id": "4KgcWFe8tm7C"
      }
    },
    {
      "cell_type": "code",
      "source": [
        "# 기본 리스트에 값 채워넣기 \n",
        "\n",
        "li = []\n",
        "\n",
        "for i in range(5):\n",
        "  li.append(i)\n",
        "\n",
        "print(li)"
      ],
      "metadata": {
        "colab": {
          "base_uri": "https://localhost:8080/"
        },
        "id": "e4T0-iYWtm9m",
        "outputId": "6467b141-70d5-485e-c97e-162f2d96a944"
      },
      "execution_count": 11,
      "outputs": [
        {
          "output_type": "stream",
          "name": "stdout",
          "text": [
            "[0, 1, 2, 3, 4]\n"
          ]
        }
      ]
    },
    {
      "cell_type": "code",
      "source": [
        "[i for i in range(5)]"
      ],
      "metadata": {
        "colab": {
          "base_uri": "https://localhost:8080/"
        },
        "id": "3CjcfS-QtnAH",
        "outputId": "16e778ae-3bbd-4e78-9eba-1b90891aea98"
      },
      "execution_count": null,
      "outputs": [
        {
          "output_type": "execute_result",
          "data": {
            "text/plain": [
              "[0, 1, 2, 3, 4]"
            ]
          },
          "metadata": {},
          "execution_count": 48
        }
      ]
    },
    {
      "cell_type": "code",
      "source": [
        "# 1) 수식 적용 \n",
        "\n",
        "[i * 10 for i in range(5)]"
      ],
      "metadata": {
        "colab": {
          "base_uri": "https://localhost:8080/"
        },
        "id": "D8Jm7GOOtnCd",
        "outputId": "5a4a3380-f940-4230-bb63-ee633197a092"
      },
      "execution_count": null,
      "outputs": [
        {
          "output_type": "execute_result",
          "data": {
            "text/plain": [
              "[0, 10, 20, 30, 40]"
            ]
          },
          "metadata": {},
          "execution_count": 49
        }
      ]
    },
    {
      "cell_type": "code",
      "source": [
        "# 2) 조건문 적용\n",
        "\n",
        "[i for i in range(5) if i%2 == 0]"
      ],
      "metadata": {
        "colab": {
          "base_uri": "https://localhost:8080/"
        },
        "id": "7f3zCWh1tnEd",
        "outputId": "43b799c5-3edc-4985-fa47-9d2bb1481f13"
      },
      "execution_count": null,
      "outputs": [
        {
          "output_type": "execute_result",
          "data": {
            "text/plain": [
              "[0, 2, 4]"
            ]
          },
          "metadata": {},
          "execution_count": 50
        }
      ]
    },
    {
      "cell_type": "markdown",
      "source": [
        "### 1.1.7 다양한 방식의 리스트 출력"
      ],
      "metadata": {
        "id": "4z8sAQ51cPPX"
      }
    },
    {
      "cell_type": "code",
      "source": [
        "# enumerate() 함수 \n",
        "# 데이터 법이 많이 개정됨 \n",
        "# 순서대로 값에 인덱싱을 해주는 함수 \n",
        "\n",
        "for i, v in enumerate(['가위','바위','보']):\n",
        "  print(i, v)"
      ],
      "metadata": {
        "colab": {
          "base_uri": "https://localhost:8080/"
        },
        "id": "so3ZzmMgvSxN",
        "outputId": "9f161422-847b-4a6e-a0fa-8672916a7950"
      },
      "execution_count": null,
      "outputs": [
        {
          "output_type": "stream",
          "name": "stdout",
          "text": [
            "0 가위\n",
            "1 바위\n",
            "2 보\n"
          ]
        }
      ]
    },
    {
      "cell_type": "code",
      "source": [
        "# zip 함수\n",
        "# a와 b를 결합하는데에 자주 사용된다. \n",
        "\n",
        "alist = ['가위','바위','보']\n",
        "blist = ['가위','바위','보']\n",
        "\n",
        "for a, b in zip(alist, blist):\n",
        "  print(a,b)"
      ],
      "metadata": {
        "colab": {
          "base_uri": "https://localhost:8080/"
        },
        "id": "IrIPGOGpv-9v",
        "outputId": "7c94cc17-e71d-4876-97c1-959267e1e780"
      },
      "execution_count": null,
      "outputs": [
        {
          "output_type": "stream",
          "name": "stdout",
          "text": [
            "가위 가위\n",
            "바위 바위\n",
            "보 보\n"
          ]
        }
      ]
    },
    {
      "cell_type": "code",
      "source": [
        "for x, y in zip(range(10), range(10)):\n",
        "  print(x, y)"
      ],
      "metadata": {
        "colab": {
          "base_uri": "https://localhost:8080/"
        },
        "id": "CxjvbJTIwSqu",
        "outputId": "99beba2a-1e4a-46bc-edc3-44cab1b3a09a"
      },
      "execution_count": null,
      "outputs": [
        {
          "output_type": "stream",
          "name": "stdout",
          "text": [
            "<class 'int'> <class 'int'>\n",
            "<class 'int'> <class 'int'>\n",
            "<class 'int'> <class 'int'>\n",
            "<class 'int'> <class 'int'>\n",
            "<class 'int'> <class 'int'>\n",
            "<class 'int'> <class 'int'>\n",
            "<class 'int'> <class 'int'>\n",
            "<class 'int'> <class 'int'>\n",
            "<class 'int'> <class 'int'>\n",
            "<class 'int'> <class 'int'>\n"
          ]
        }
      ]
    },
    {
      "cell_type": "code",
      "source": [
        "dict_num = {x:y for x, y in zip(range(10),range(10))}\n",
        "{0: 0, 1: 1, 2: 2, 3: 3, 4: 4, 5: 5, 6: 6, 7: 7, 8: 8, 9: 9}"
      ],
      "metadata": {
        "id": "M-KkhaQHwe7k",
        "colab": {
          "base_uri": "https://localhost:8080/"
        },
        "outputId": "e5976007-8db9-4bff-8426-3765971d3286"
      },
      "execution_count": 12,
      "outputs": [
        {
          "output_type": "execute_result",
          "data": {
            "text/plain": [
              "{0: 0, 1: 1, 2: 2, 3: 3, 4: 4, 5: 5, 6: 6, 7: 7, 8: 8, 9: 9}"
            ]
          },
          "metadata": {},
          "execution_count": 12
        }
      ]
    },
    {
      "cell_type": "code",
      "source": [
        "#enumerate & zip 함수\n",
        "\n",
        "alist = ['가위', '바위', '보']\n",
        "blist = ['보', '가위', '바위']\n",
        "for i, (a, b) in enumerate((zip(alist, blist))):\n",
        "  print(i, a, b)"
      ],
      "metadata": {
        "colab": {
          "base_uri": "https://localhost:8080/"
        },
        "id": "5_QuQjG5cUZE",
        "outputId": "6fdcd122-41e0-4396-d917-80f4be5502cd"
      },
      "execution_count": 13,
      "outputs": [
        {
          "output_type": "stream",
          "name": "stdout",
          "text": [
            "0 가위 보\n",
            "1 바위 가위\n",
            "2 보 바위\n"
          ]
        }
      ]
    },
    {
      "cell_type": "markdown",
      "source": [
        "# 2. tuple"
      ],
      "metadata": {
        "id": "sPm4YpoPwScC"
      }
    },
    {
      "cell_type": "code",
      "source": [
        "# 튜플 생성 예제\n",
        "\n",
        "tuple_sample = (1,2)\n",
        "\n",
        "type(tuple_sample)"
      ],
      "metadata": {
        "colab": {
          "base_uri": "https://localhost:8080/"
        },
        "id": "eLJC5MJMwwAE",
        "outputId": "073ed7aa-4a36-4305-faca-6f968cc956bc"
      },
      "execution_count": null,
      "outputs": [
        {
          "output_type": "execute_result",
          "data": {
            "text/plain": [
              "tuple"
            ]
          },
          "metadata": {},
          "execution_count": 59
        }
      ]
    },
    {
      "cell_type": "code",
      "source": [
        "# 값 하나만 넣고싶다면 꼭 콤마를 넣어야 한다\n",
        "\n",
        "tuple_sample2 = (\"뉴진스\",)"
      ],
      "metadata": {
        "id": "2I_CqU_nwwT2"
      },
      "execution_count": null,
      "outputs": []
    },
    {
      "cell_type": "code",
      "source": [
        "len(tuple_sample)"
      ],
      "metadata": {
        "colab": {
          "base_uri": "https://localhost:8080/"
        },
        "id": "NIbagswDwwlB",
        "outputId": "a7dd479d-500e-4d43-8a7b-b5026b4dc63a"
      },
      "execution_count": null,
      "outputs": [
        {
          "output_type": "execute_result",
          "data": {
            "text/plain": [
              "2"
            ]
          },
          "metadata": {},
          "execution_count": 60
        }
      ]
    },
    {
      "cell_type": "code",
      "source": [
        "# 수정이 불가하다 \n",
        "\n",
        "tuple_sample2[1] = \"블랙핑크\""
      ],
      "metadata": {
        "colab": {
          "base_uri": "https://localhost:8080/",
          "height": 209
        },
        "id": "PURmxvR4xZ87",
        "outputId": "45f1f6ec-4b62-4790-ce29-5497cf34de44"
      },
      "execution_count": null,
      "outputs": [
        {
          "output_type": "error",
          "ename": "TypeError",
          "evalue": "ignored",
          "traceback": [
            "\u001b[0;31m---------------------------------------------------------------------------\u001b[0m",
            "\u001b[0;31mTypeError\u001b[0m                                 Traceback (most recent call last)",
            "\u001b[0;32m<ipython-input-61-a15c1210633f>\u001b[0m in \u001b[0;36m<cell line: 3>\u001b[0;34m()\u001b[0m\n\u001b[1;32m      1\u001b[0m \u001b[0;31m# 수정이 불가하다\u001b[0m\u001b[0;34m\u001b[0m\u001b[0;34m\u001b[0m\u001b[0m\n\u001b[1;32m      2\u001b[0m \u001b[0;34m\u001b[0m\u001b[0m\n\u001b[0;32m----> 3\u001b[0;31m \u001b[0mtuple_sample2\u001b[0m\u001b[0;34m[\u001b[0m\u001b[0;36m1\u001b[0m\u001b[0;34m]\u001b[0m \u001b[0;34m=\u001b[0m \u001b[0;34m\"블랙핑크\"\u001b[0m\u001b[0;34m\u001b[0m\u001b[0;34m\u001b[0m\u001b[0m\n\u001b[0m",
            "\u001b[0;31mTypeError\u001b[0m: 'tuple' object does not support item assignment"
          ]
        }
      ]
    },
    {
      "cell_type": "code",
      "source": [
        "# 튜플 인덱싱 \n",
        "\n",
        "print(tuple_sample[0])\n",
        "print(tuple_sample[:]) # 슬라이싱도 가능하다 "
      ],
      "metadata": {
        "colab": {
          "base_uri": "https://localhost:8080/"
        },
        "id": "WuR4aW7AxiEi",
        "outputId": "08527008-444c-4185-df89-ca0ace1d8bea"
      },
      "execution_count": null,
      "outputs": [
        {
          "output_type": "stream",
          "name": "stdout",
          "text": [
            "1\n",
            "(1, 2)\n"
          ]
        }
      ]
    },
    {
      "cell_type": "code",
      "source": [
        "# 튜플에서 사용할 수 있는 함수 \n",
        "\n",
        "b = (5,2,1,3,4)\n",
        "\n",
        "print(b)\n",
        "print(b.index(3)) # index 사용 가능\n",
        "print(b.count(2)) # count 사용 가능 "
      ],
      "metadata": {
        "colab": {
          "base_uri": "https://localhost:8080/"
        },
        "id": "K4xy4ks8xvgQ",
        "outputId": "b3195bc9-46d6-4d81-d835-338be38d067b"
      },
      "execution_count": null,
      "outputs": [
        {
          "output_type": "stream",
          "name": "stdout",
          "text": [
            "(5, 2, 1, 3, 4)\n",
            "3\n",
            "1\n"
          ]
        }
      ]
    },
    {
      "cell_type": "code",
      "source": [
        "# 튜플 연산 \n",
        "\n",
        "c = (6,7,8,9,10)\n",
        "\n",
        "print('b + c', b + c )\n",
        "print('c * 3', c * 3 )"
      ],
      "metadata": {
        "colab": {
          "base_uri": "https://localhost:8080/",
          "height": 227
        },
        "id": "ArZULxXnxvuC",
        "outputId": "6db67528-d1e7-4162-e597-32be628b3018"
      },
      "execution_count": null,
      "outputs": [
        {
          "output_type": "error",
          "ename": "TypeError",
          "evalue": "ignored",
          "traceback": [
            "\u001b[0;31m---------------------------------------------------------------------------\u001b[0m",
            "\u001b[0;31mTypeError\u001b[0m                                 Traceback (most recent call last)",
            "\u001b[0;32m<ipython-input-65-00188c546278>\u001b[0m in \u001b[0;36m<cell line: 5>\u001b[0;34m()\u001b[0m\n\u001b[1;32m      3\u001b[0m \u001b[0mc\u001b[0m \u001b[0;34m=\u001b[0m \u001b[0;34m(\u001b[0m\u001b[0;36m6\u001b[0m\u001b[0;34m,\u001b[0m\u001b[0;36m7\u001b[0m\u001b[0;34m,\u001b[0m\u001b[0;36m8\u001b[0m\u001b[0;34m,\u001b[0m\u001b[0;36m9\u001b[0m\u001b[0;34m,\u001b[0m\u001b[0;36m10\u001b[0m\u001b[0;34m)\u001b[0m\u001b[0;34m\u001b[0m\u001b[0;34m\u001b[0m\u001b[0m\n\u001b[1;32m      4\u001b[0m \u001b[0;34m\u001b[0m\u001b[0m\n\u001b[0;32m----> 5\u001b[0;31m \u001b[0mprint\u001b[0m\u001b[0;34m(\u001b[0m\u001b[0;34m'b + c'\u001b[0m\u001b[0;34m,\u001b[0m \u001b[0mb\u001b[0m \u001b[0;34m+\u001b[0m \u001b[0mc\u001b[0m \u001b[0;34m)\u001b[0m\u001b[0;34m\u001b[0m\u001b[0;34m\u001b[0m\u001b[0m\n\u001b[0m\u001b[1;32m      6\u001b[0m \u001b[0mprint\u001b[0m\u001b[0;34m(\u001b[0m\u001b[0;34m'c * 3'\u001b[0m\u001b[0;34m,\u001b[0m \u001b[0mc\u001b[0m \u001b[0;34m*\u001b[0m \u001b[0;36m3\u001b[0m \u001b[0;34m)\u001b[0m\u001b[0;34m\u001b[0m\u001b[0;34m\u001b[0m\u001b[0m\n",
            "\u001b[0;31mTypeError\u001b[0m: can only concatenate str (not \"tuple\") to str"
          ]
        }
      ]
    },
    {
      "cell_type": "code",
      "source": [
        "# 튜플 또한 패킹과 언패킹이 가능하다 \n",
        "\n",
        "t = ('a','b','c','d')\n",
        "\n",
        "a,b,c,d = t\n",
        "\n",
        "print(t)\n",
        "print(a)\n",
        "print(b)\n",
        "print(c)\n",
        "print(d)"
      ],
      "metadata": {
        "colab": {
          "base_uri": "https://localhost:8080/"
        },
        "id": "DqvIk7fhxv6-",
        "outputId": "1e55ab77-6145-46a8-8d02-b384b816c7b3"
      },
      "execution_count": null,
      "outputs": [
        {
          "output_type": "stream",
          "name": "stdout",
          "text": [
            "('a', 'b', 'c', 'd')\n",
            "a\n",
            "b\n",
            "c\n",
            "d\n"
          ]
        }
      ]
    },
    {
      "cell_type": "markdown",
      "source": [
        "# 3. 딕셔너리 "
      ],
      "metadata": {
        "id": "JxXEwUx-xwKn"
      }
    },
    {
      "cell_type": "code",
      "source": [
        "# 김진환 : 데이터 분석 "
      ],
      "metadata": {
        "id": "6emLIl14zCkA"
      },
      "execution_count": null,
      "outputs": []
    },
    {
      "cell_type": "code",
      "source": [
        "# 딕셔너리 기초\n",
        "\n",
        "x = {}\n",
        "y = dict()\n",
        "\n",
        "print(x, type(x))\n",
        "print(y, type(y))"
      ],
      "metadata": {
        "colab": {
          "base_uri": "https://localhost:8080/"
        },
        "id": "AOkQfMZ2zCmo",
        "outputId": "31bb209e-65c3-488d-ff7e-1bbb3ecde0b9"
      },
      "execution_count": null,
      "outputs": [
        {
          "output_type": "stream",
          "name": "stdout",
          "text": [
            "{} <class 'dict'>\n",
            "{} <class 'dict'>\n"
          ]
        }
      ]
    },
    {
      "cell_type": "code",
      "source": [
        "# 딕셔너리 생성하기 \n",
        "\n",
        "a = {'name' : '김진환',\n",
        "     'job' : '데이터 분석'}\n",
        "\n",
        "print(a)"
      ],
      "metadata": {
        "colab": {
          "base_uri": "https://localhost:8080/"
        },
        "id": "swNB3d4BzCpV",
        "outputId": "5a8992b3-68c0-44cb-df80-fe52ef4f4ba3"
      },
      "execution_count": null,
      "outputs": [
        {
          "output_type": "stream",
          "name": "stdout",
          "text": [
            "{'name': '김진환', 'job': '데이터 분석'}\n"
          ]
        }
      ]
    },
    {
      "cell_type": "code",
      "source": [
        "# 딕셔너리에 값 추가 \n",
        "\n",
        "a['address'] = 'Seoul'\n",
        "\n",
        "print(a)"
      ],
      "metadata": {
        "colab": {
          "base_uri": "https://localhost:8080/"
        },
        "id": "gSKW1VTyzCrh",
        "outputId": "947d9d1a-aaec-4cb4-b854-50574a9120a3"
      },
      "execution_count": null,
      "outputs": [
        {
          "output_type": "stream",
          "name": "stdout",
          "text": [
            "{'name': '김진환', 'job': '데이터 분석', 'address': 'Seoul'}\n"
          ]
        }
      ]
    },
    {
      "cell_type": "code",
      "source": [
        "# 딕셔너리의 개수 \n",
        "\n",
        "print(a, \",\", len(a))"
      ],
      "metadata": {
        "colab": {
          "base_uri": "https://localhost:8080/"
        },
        "id": "9a3W03J1zCtz",
        "outputId": "d208eed9-17c6-4a1e-b04f-6cd27252d099"
      },
      "execution_count": null,
      "outputs": [
        {
          "output_type": "stream",
          "name": "stdout",
          "text": [
            "{'name': '김진환', 'job': '데이터 분석', 'address': 'Seoul'} , 3\n"
          ]
        }
      ]
    },
    {
      "cell_type": "markdown",
      "source": [
        "## 3.1. 딕셔너리 함수 "
      ],
      "metadata": {
        "id": "OVzjAy-AzCwF"
      }
    },
    {
      "cell_type": "code",
      "source": [
        "# key 값만 가져오는\n",
        "print(f'key 값은 {a.keys()} 입니다.')\n",
        "\n",
        "# Value 값만 가져오는\n",
        "print(f'value 값은 {a.values()} 입니다.')\n",
        "\n",
        "# 전체 다 가져오는 \n",
        "print(f'전체값은 {a.items()} 입니다.')\n"
      ],
      "metadata": {
        "colab": {
          "base_uri": "https://localhost:8080/"
        },
        "id": "TTEV6UKZzCyl",
        "outputId": "422e96c9-71de-4721-8b72-e7d60bff3307"
      },
      "execution_count": null,
      "outputs": [
        {
          "output_type": "stream",
          "name": "stdout",
          "text": [
            "key 값은 dict_keys(['name', 'job', 'address']) 입니다.\n",
            "value 값은 dict_values(['김진환', '데이터 분석', 'Seoul']) 입니다.\n",
            "전체값은 dict_items([('name', '김진환'), ('job', '데이터 분석'), ('address', 'Seoul')]) 입니다.\n"
          ]
        }
      ]
    },
    {
      "cell_type": "code",
      "source": [
        "'name' in a.keys()"
      ],
      "metadata": {
        "colab": {
          "base_uri": "https://localhost:8080/"
        },
        "id": "ojhbJblqzC0u",
        "outputId": "6704f956-7207-404e-9271-0b1d83233377"
      },
      "execution_count": null,
      "outputs": [
        {
          "output_type": "execute_result",
          "data": {
            "text/plain": [
              "True"
            ]
          },
          "metadata": {},
          "execution_count": 78
        }
      ]
    },
    {
      "cell_type": "code",
      "source": [
        "('job', '데이터 분석') in a.items()"
      ],
      "metadata": {
        "colab": {
          "base_uri": "https://localhost:8080/"
        },
        "id": "9x4a8tEVzC2i",
        "outputId": "5b7e25e5-0147-4f0a-95cc-f36c0da51f60"
      },
      "execution_count": null,
      "outputs": [
        {
          "output_type": "execute_result",
          "data": {
            "text/plain": [
              "True"
            ]
          },
          "metadata": {},
          "execution_count": 83
        }
      ]
    },
    {
      "cell_type": "code",
      "source": [
        "# 값 삭제 \n",
        "\n",
        "del a[\"name\"]\n",
        "\n",
        "print(a)"
      ],
      "metadata": {
        "colab": {
          "base_uri": "https://localhost:8080/"
        },
        "id": "bJVxQRUBzC4w",
        "outputId": "d10d78c4-cf87-4031-e5df-ec2087f0af0c"
      },
      "execution_count": null,
      "outputs": [
        {
          "output_type": "stream",
          "name": "stdout",
          "text": [
            "{'job': '데이터 분석', 'address': 'Seoul'}\n"
          ]
        }
      ]
    },
    {
      "cell_type": "markdown",
      "source": [
        "# 세트(set)"
      ],
      "metadata": {
        "id": "MA1sllQOv-s8"
      }
    },
    {
      "cell_type": "code",
      "source": [
        "empty_set = set()"
      ],
      "metadata": {
        "id": "pwdfKJsY1Khg"
      },
      "execution_count": null,
      "outputs": []
    },
    {
      "cell_type": "code",
      "source": [
        "# 세트에 값 추가\n",
        "\n",
        "python_set = set(['판다스','넘파이'])\n",
        "print(python_set)"
      ],
      "metadata": {
        "colab": {
          "base_uri": "https://localhost:8080/"
        },
        "id": "-MhoqNNM1Kpb",
        "outputId": "a3697294-7f0d-45dc-c4d4-0ece4aa373cc"
      },
      "execution_count": null,
      "outputs": [
        {
          "output_type": "stream",
          "name": "stdout",
          "text": [
            "{'넘파이', '판다스'}\n"
          ]
        }
      ]
    },
    {
      "cell_type": "code",
      "source": [
        "# 순서를 고려하지 않는 특징이 있다 \n",
        "\n",
        "test_set = set('python')\n",
        "test_set"
      ],
      "metadata": {
        "colab": {
          "base_uri": "https://localhost:8080/"
        },
        "id": "FHRXe6Nv1KsW",
        "outputId": "da4ecd0f-22c0-4118-8165-1dc5c5166426"
      },
      "execution_count": null,
      "outputs": [
        {
          "output_type": "execute_result",
          "data": {
            "text/plain": [
              "{'h', 'n', 'o', 'p', 't', 'y'}"
            ]
          },
          "metadata": {},
          "execution_count": 87
        }
      ]
    },
    {
      "cell_type": "code",
      "source": [
        "# 세트 생성\n",
        "\n",
        "Set_1 = {1,2,3}\n",
        "print(Set_1)\n",
        "\n",
        "# 요소 추가\n",
        "Set_1.add(4)\n",
        "print(Set_1)\n",
        "\n",
        "# 여러자료 추가\n",
        "Set_1.update([5,6,7,8,9,10])\n",
        "print(Set_1)\n",
        "\n",
        "# 요소 제거 - 특정 순서\n",
        "Set_1.remove(1)\n",
        "print(Set_1)\n",
        "\n",
        "# 요소 제거 - 특정 값 삭제\n",
        "Set_1.discard(10)\n",
        "print(Set_1)\n"
      ],
      "metadata": {
        "id": "9MjbSmth1KvR",
        "colab": {
          "base_uri": "https://localhost:8080/"
        },
        "outputId": "3952a33d-4e39-4e00-8461-70045ebdfb75"
      },
      "execution_count": 14,
      "outputs": [
        {
          "output_type": "stream",
          "name": "stdout",
          "text": [
            "{1, 2, 3}\n",
            "{1, 2, 3, 4}\n",
            "{1, 2, 3, 4, 5, 6, 7, 8, 9, 10}\n",
            "{2, 3, 4, 5, 6, 7, 8, 9, 10}\n",
            "{2, 3, 4, 5, 6, 7, 8, 9}\n"
          ]
        }
      ]
    },
    {
      "cell_type": "code",
      "source": [
        "# 세트 연산\n",
        "\n",
        "s1 = set(['파이썬', 'SAS', 'R', 'SQL'])\n",
        "s2 = set(['파이썬', '파이토치', '텐서플로', 'SQL'])\n",
        "\n",
        "print(s1.union(s2)) # 합집합 "
      ],
      "metadata": {
        "id": "i8U_4pMG1Kxg",
        "colab": {
          "base_uri": "https://localhost:8080/"
        },
        "outputId": "bcef41ef-219f-4082-ff64-55860e27d87c"
      },
      "execution_count": 15,
      "outputs": [
        {
          "output_type": "stream",
          "name": "stdout",
          "text": [
            "{'파이토치', 'SQL', '텐서플로', '파이썬', 'R', 'SAS'}\n"
          ]
        }
      ]
    },
    {
      "cell_type": "code",
      "source": [
        "print(s1.intersection(s2)) # 교집합 "
      ],
      "metadata": {
        "id": "k4b69ltk1Kzx",
        "colab": {
          "base_uri": "https://localhost:8080/"
        },
        "outputId": "03b38b43-3bed-4eff-da0c-6826ced7c2e8"
      },
      "execution_count": 16,
      "outputs": [
        {
          "output_type": "stream",
          "name": "stdout",
          "text": [
            "{'파이썬', 'SQL'}\n"
          ]
        }
      ]
    },
    {
      "cell_type": "code",
      "source": [
        "print(s1.difference(s2)) # 차집합 "
      ],
      "metadata": {
        "id": "fULHRUS81K2L"
      },
      "execution_count": null,
      "outputs": []
    },
    {
      "cell_type": "code",
      "source": [
        "# Set -> LIST\n",
        "\n",
        "s1 = set([\"파이썬\", \"SAS\", \"R\", \"SQL\"])\n",
        "\n",
        "s1_list = list(s1)\n",
        "\n",
        "print(s1, type(s1))\n",
        "print(s1_list,type(s1_list))"
      ],
      "metadata": {
        "id": "njuIQ9SS1K4P",
        "colab": {
          "base_uri": "https://localhost:8080/"
        },
        "outputId": "690957af-7593-4578-dd16-9c70141120c4"
      },
      "execution_count": 17,
      "outputs": [
        {
          "output_type": "stream",
          "name": "stdout",
          "text": [
            "{'파이썬', 'SAS', 'R', 'SQL'} <class 'set'>\n",
            "['파이썬', 'SAS', 'R', 'SQL'] <class 'list'>\n"
          ]
        }
      ]
    },
    {
      "cell_type": "code",
      "source": [
        "s1_list_tuple = tuple(s1_list)\n",
        "print(s1_list_tuple, type(s1_list_tuple))"
      ],
      "metadata": {
        "id": "YkEvSN871K6X",
        "colab": {
          "base_uri": "https://localhost:8080/"
        },
        "outputId": "7c1c099c-7924-46bb-8bed-1afcbb631ef0"
      },
      "execution_count": 18,
      "outputs": [
        {
          "output_type": "stream",
          "name": "stdout",
          "text": [
            "('파이썬', 'SAS', 'R', 'SQL') <class 'tuple'>\n"
          ]
        }
      ]
    },
    {
      "cell_type": "code",
      "source": [
        "s1_list_tuple_set = set(s1_list_tuple)\n",
        "print(s1_list_tuple_set, type(s1_list_tuple_set))"
      ],
      "metadata": {
        "id": "1-AcqrdD1K8b",
        "colab": {
          "base_uri": "https://localhost:8080/"
        },
        "outputId": "67bda294-d191-442b-d6f8-bec3ffc7aab6"
      },
      "execution_count": 19,
      "outputs": [
        {
          "output_type": "stream",
          "name": "stdout",
          "text": [
            "{'파이썬', 'SAS', 'R', 'SQL'} <class 'set'>\n"
          ]
        }
      ]
    }
  ]
}