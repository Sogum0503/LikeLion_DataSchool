{
  "nbformat": 4,
  "nbformat_minor": 0,
  "metadata": {
    "colab": {
      "provenance": [],
      "authorship_tag": "ABX9TyNX0zN0OP+l8mje34th6yK2",
      "include_colab_link": true
    },
    "kernelspec": {
      "name": "python3",
      "display_name": "Python 3"
    },
    "language_info": {
      "name": "python"
    }
  },
  "cells": [
    {
      "cell_type": "markdown",
      "metadata": {
        "id": "view-in-github",
        "colab_type": "text"
      },
      "source": [
        "<a href=\"https://colab.research.google.com/github/Sogum0503/LikeLion_DataSchool/blob/main/PYTHON/0428.ipynb\" target=\"_parent\"><img src=\"https://colab.research.google.com/assets/colab-badge.svg\" alt=\"Open In Colab\"/></a>"
      ]
    },
    {
      "cell_type": "markdown",
      "source": [
        "# 함수"
      ],
      "metadata": {
        "id": "OEozpVSn5i_u"
      }
    },
    {
      "cell_type": "code",
      "source": [
        "def 부지매입():\n",
        "  pass\n",
        "\n",
        "def 설계도면작성():\n",
        "  pass\n",
        "\n",
        "def 인력모집():\n",
        "  pass\n",
        "\n",
        "def 벽돌쌓기():\n",
        "  pass\n",
        "\n",
        "def 지붕올리기():\n",
        "  pass\n",
        "\n",
        "부지매입()\n",
        "설계도면작성()\n",
        "인력모집()\n",
        "벽돌쌓기()\n",
        "지붕올리기()"
      ],
      "metadata": {
        "id": "AheHebMy5hLZ"
      },
      "execution_count": 1,
      "outputs": []
    },
    {
      "cell_type": "code",
      "source": [
        "# 파선아실(파라미터는 선언, 아규먼트는 실제 값)\n",
        "def function(x,y):\n",
        "  z = x + y\n",
        "  return z \n",
        "\n",
        "print(f'function(5,7) = {function(5,7)}')"
      ],
      "metadata": {
        "colab": {
          "base_uri": "https://localhost:8080/"
        },
        "id": "llOyDNkN5ipr",
        "outputId": "2907e74b-8861-40a7-f7c3-1c2d8cf2c8e9"
      },
      "execution_count": 3,
      "outputs": [
        {
          "output_type": "stream",
          "name": "stdout",
          "text": [
            "function(5,7) = 12\n"
          ]
        }
      ]
    },
    {
      "cell_type": "code",
      "source": [
        "# 같은 코드 1\n",
        "def function(x, y):\n",
        "  z = x + y\n",
        "  # return None\n",
        "print(f'function(5,7) = {function(5,7)}')"
      ],
      "metadata": {
        "colab": {
          "base_uri": "https://localhost:8080/"
        },
        "id": "Z3wD7R8G6BuB",
        "outputId": "cbed3bb4-23be-48db-d3cf-9eb05a7de87f"
      },
      "execution_count": 5,
      "outputs": [
        {
          "output_type": "stream",
          "name": "stdout",
          "text": [
            "function(5,7) = None\n"
          ]
        }
      ]
    },
    {
      "cell_type": "code",
      "source": [
        "# 전혀 다른 코드\n",
        "# print와 return은 다릅니다!\n",
        "\n",
        "def function(x, y):\n",
        "    z = x + y\n",
        "print(f'function(5, 7) = {function(5, 7)}')"
      ],
      "metadata": {
        "colab": {
          "base_uri": "https://localhost:8080/"
        },
        "id": "GCniGOz56TK6",
        "outputId": "b87481c8-3484-434b-f526-eb55ba920b1b"
      },
      "execution_count": 9,
      "outputs": [
        {
          "output_type": "stream",
          "name": "stdout",
          "text": [
            "function(5, 7) = None\n"
          ]
        }
      ]
    },
    {
      "cell_type": "code",
      "source": [
        "def function():\n",
        "    print('hello')\n",
        "    print('hello')\n",
        "    print('hello')\n",
        "    print('hello')\n",
        "\n",
        "print(function())"
      ],
      "metadata": {
        "colab": {
          "base_uri": "https://localhost:8080/"
        },
        "id": "PX2ceo8v6gV_",
        "outputId": "89f993b2-3401-41a3-8e0f-b4f3bbcb6c31"
      },
      "execution_count": 10,
      "outputs": [
        {
          "output_type": "stream",
          "name": "stdout",
          "text": [
            "hello\n",
            "hello\n",
            "hello\n",
            "hello\n",
            "None\n"
          ]
        }
      ]
    },
    {
      "cell_type": "code",
      "source": [
        "'''\n",
        "[필수 문법]\n",
        "함수는 원래 return이라는 할당을 받아야 하는데, \n",
        "[원인]\n",
        "해당 function(x, y)에는 return이 없고 출력을 위한 print구문만 있는 상황입니다.\n",
        "[결과]\n",
        "1) 12가 출력된것은 def내에 있는 print(z)가 x +y의 값으로 인해 출력은 되었지만\n",
        "2) def function(x,y)의 결과인 return은 있지 않아 그 결과인 None이 출력된것 입니다. \n",
        "함수에서는 return의 유무를 주의하세요~\n",
        "'''\n",
        "\n",
        "def function(x, y): # Input\n",
        "    z = x + y       # Function\n",
        "    print(z)        # Output?\n",
        "    return None\n",
        "\n",
        "print(f'function(5, 7) = {function(5, 7)}')"
      ],
      "metadata": {
        "colab": {
          "base_uri": "https://localhost:8080/"
        },
        "id": "fTkUo7G-7cUk",
        "outputId": "bcbcdc5b-33bf-4abf-aeb3-6b1331a2cfa8"
      },
      "execution_count": 26,
      "outputs": [
        {
          "output_type": "stream",
          "name": "stdout",
          "text": [
            "12\n",
            "function(5, 7) = 12\n"
          ]
        }
      ]
    },
    {
      "cell_type": "code",
      "source": [
        "def function(x, y):\n",
        "    print('hello')\n",
        "    print('hello')\n",
        "    print('hello')\n",
        "    print('hello')\n",
        "    return x + y\n",
        "\n",
        "x = function(1, 1)\n",
        "print(x + x)"
      ],
      "metadata": {
        "colab": {
          "base_uri": "https://localhost:8080/"
        },
        "id": "x6yDsFZl7cwX",
        "outputId": "b89b684a-da19-4c09-bc4a-7a200189aa62"
      },
      "execution_count": 16,
      "outputs": [
        {
          "output_type": "stream",
          "name": "stdout",
          "text": [
            "hello\n",
            "hello\n",
            "hello\n",
            "hello\n",
            "4\n"
          ]
        }
      ]
    },
    {
      "cell_type": "code",
      "source": [
        "def function1(x):\n",
        "    print('world1')\n",
        "    print('world2')\n",
        "    print('world3')\n",
        "\n",
        "def function2(x, y):\n",
        "    print('hello1')\n",
        "    print('hello2')\n",
        "    return x + y\n",
        "\n",
        "a = function1(1)\n",
        "b = function2(3, 4)\n",
        "print(a, b)"
      ],
      "metadata": {
        "colab": {
          "base_uri": "https://localhost:8080/"
        },
        "id": "8nor-nOc7ofE",
        "outputId": "66d589bf-48fc-46c4-b7a6-e1bdf6e114f6"
      },
      "execution_count": 17,
      "outputs": [
        {
          "output_type": "stream",
          "name": "stdout",
          "text": [
            "world1\n",
            "world2\n",
            "world3\n",
            "hello1\n",
            "hello2\n",
            "None 7\n"
          ]
        }
      ]
    },
    {
      "cell_type": "code",
      "source": [
        "def function1(x):\n",
        "    print('world1')\n",
        "    print('world2')\n",
        "    print('world3')\n",
        "    return x + x\n",
        "\n",
        "def function2(x, y):\n",
        "    print('hello1')\n",
        "    print('hello2')\n",
        "    z = function1(10)\n",
        "    return x + y + z\n",
        "\n",
        "a = function1(1)\n",
        "b = function2(3, 4)\n",
        "print(a, b)"
      ],
      "metadata": {
        "colab": {
          "base_uri": "https://localhost:8080/"
        },
        "id": "JXbKt7gN7o6h",
        "outputId": "67d6825d-11cf-4715-f810-1637c848bcba"
      },
      "execution_count": 18,
      "outputs": [
        {
          "output_type": "stream",
          "name": "stdout",
          "text": [
            "world1\n",
            "world2\n",
            "world3\n",
            "hello1\n",
            "hello2\n",
            "world1\n",
            "world2\n",
            "world3\n",
            "2 27\n"
          ]
        }
      ]
    },
    {
      "cell_type": "code",
      "source": [
        "# 함수 안에 있는 변수나 함수는 함수가 끝나면 휘발됩니다. \n",
        "# 메모리에서 사라져요.\n",
        "def f2(x, y):\n",
        "    def f1(x):\n",
        "        print('world1')\n",
        "        return x + x\n",
        "    print('hello1')\n",
        "    z = f1(10)\n",
        "    return x + y + z\n",
        "\n",
        "# a = f1(1) # 함수 안에 있는 함수는 밖에서 호출할 수 있지 않습니다.\n",
        "b = f2(3, 4)\n",
        "print(b)\n",
        "\n",
        "# print(z) # 함수가 끝났기 때문에 x, y, z에 접근할 수 없습니다."
      ],
      "metadata": {
        "colab": {
          "base_uri": "https://localhost:8080/"
        },
        "id": "QeNu3ysm7yPY",
        "outputId": "6a01c7a3-a15a-4243-c389-aa0b19d2aba2"
      },
      "execution_count": 19,
      "outputs": [
        {
          "output_type": "stream",
          "name": "stdout",
          "text": [
            "hello1\n",
            "world1\n",
            "27\n"
          ]
        }
      ]
    },
    {
      "cell_type": "code",
      "source": [
        "# 1\n",
        "x = 100\n",
        "def plusX(x):\n",
        "    x = x + 100\n",
        "    return x\n",
        "\n",
        "print(plusX(10))"
      ],
      "metadata": {
        "id": "7QdOCqStoG2O"
      },
      "execution_count": null,
      "outputs": []
    },
    {
      "cell_type": "code",
      "source": [
        "# 2\n",
        "x = 100\n",
        "def plusX(z):\n",
        "    z = z + x\n",
        "    return z\n",
        "\n",
        "print(plusX(10))"
      ],
      "metadata": {
        "id": "G-L_B00BoGV5"
      },
      "execution_count": null,
      "outputs": []
    },
    {
      "cell_type": "code",
      "execution_count": null,
      "metadata": {
        "colab": {
          "base_uri": "https://localhost:8080/",
          "height": 336
        },
        "id": "dFM0uBPBmiaB",
        "outputId": "0068898f-7c1c-4a58-d6d6-4ba0938908ec"
      },
      "outputs": [
        {
          "output_type": "error",
          "ename": "UnboundLocalError",
          "evalue": "ignored",
          "traceback": [
            "\u001b[0;31m---------------------------------------------------------------------------\u001b[0m",
            "\u001b[0;31mUnboundLocalError\u001b[0m                         Traceback (most recent call last)",
            "\u001b[0;32m<ipython-input-1-d886d13724e2>\u001b[0m in \u001b[0;36m<cell line: 8>\u001b[0;34m()\u001b[0m\n\u001b[1;32m      6\u001b[0m   \u001b[0;32mreturn\u001b[0m \u001b[0mz\u001b[0m\u001b[0;34m\u001b[0m\u001b[0;34m\u001b[0m\u001b[0m\n\u001b[1;32m      7\u001b[0m \u001b[0;34m\u001b[0m\u001b[0m\n\u001b[0;32m----> 8\u001b[0;31m \u001b[0mprint\u001b[0m\u001b[0;34m(\u001b[0m\u001b[0mplusX\u001b[0m\u001b[0;34m(\u001b[0m\u001b[0;36m10\u001b[0m\u001b[0;34m)\u001b[0m\u001b[0;34m)\u001b[0m\u001b[0;34m\u001b[0m\u001b[0;34m\u001b[0m\u001b[0m\n\u001b[0m",
            "\u001b[0;32m<ipython-input-1-d886d13724e2>\u001b[0m in \u001b[0;36mplusX\u001b[0;34m(z)\u001b[0m\n\u001b[1;32m      3\u001b[0m \u001b[0mx\u001b[0m \u001b[0;34m=\u001b[0m \u001b[0;36m100\u001b[0m\u001b[0;34m\u001b[0m\u001b[0;34m\u001b[0m\u001b[0m\n\u001b[1;32m      4\u001b[0m \u001b[0;32mdef\u001b[0m \u001b[0mplusX\u001b[0m\u001b[0;34m(\u001b[0m\u001b[0mz\u001b[0m\u001b[0;34m)\u001b[0m\u001b[0;34m:\u001b[0m\u001b[0;34m\u001b[0m\u001b[0;34m\u001b[0m\u001b[0m\n\u001b[0;32m----> 5\u001b[0;31m   \u001b[0mx\u001b[0m \u001b[0;34m=\u001b[0m \u001b[0mz\u001b[0m \u001b[0;34m+\u001b[0m \u001b[0mx\u001b[0m\u001b[0;34m\u001b[0m\u001b[0;34m\u001b[0m\u001b[0m\n\u001b[0m\u001b[1;32m      6\u001b[0m   \u001b[0;32mreturn\u001b[0m \u001b[0mz\u001b[0m\u001b[0;34m\u001b[0m\u001b[0;34m\u001b[0m\u001b[0m\n\u001b[1;32m      7\u001b[0m \u001b[0;34m\u001b[0m\u001b[0m\n",
            "\u001b[0;31mUnboundLocalError\u001b[0m: local variable 'x' referenced before assignment"
          ]
        }
      ],
      "source": [
        "# 문제가 생기는 코드\n",
        "## 함수 안에서 생성된 변수는 밖에서 읽어올 수 없다 \n",
        "\n",
        "x = 100\n",
        "def plusX(z):\n",
        "  x = z + x \n",
        "  return z \n",
        "\n",
        "print(plusX(10))"
      ]
    },
    {
      "cell_type": "code",
      "source": [
        "# 문제를 해결하는 코드 but 권하지 않는 코드 \n",
        "\n",
        "x = 100\n",
        "def plusX(z):\n",
        "  global x # 권하지 않습니다. 타 함수에 있는 x 까지 변경될 수 있음 \n",
        "  x = z + x \n",
        "  return z \n",
        "\n",
        "print(plusX(10))\n",
        "x"
      ],
      "metadata": {
        "colab": {
          "base_uri": "https://localhost:8080/"
        },
        "id": "90IB1sk2muTR",
        "outputId": "9b86c089-e025-494b-b40e-a58dc6f5b75f"
      },
      "execution_count": null,
      "outputs": [
        {
          "output_type": "stream",
          "name": "stdout",
          "text": [
            "10\n"
          ]
        },
        {
          "output_type": "execute_result",
          "data": {
            "text/plain": [
              "110"
            ]
          },
          "metadata": {},
          "execution_count": 3
        }
      ]
    },
    {
      "cell_type": "code",
      "source": [
        "# 문제를 해결하는 코드 \n",
        "\n",
        "x = 100\n",
        "def plusX(x):\n",
        "  return x + 10\n",
        "\n",
        "x = plusX(x)\n",
        "x"
      ],
      "metadata": {
        "colab": {
          "base_uri": "https://localhost:8080/"
        },
        "id": "swQ_VnTCmuks",
        "outputId": "0e6a94bd-9df9-4c54-e3f1-71a4b349d5c4"
      },
      "execution_count": null,
      "outputs": [
        {
          "output_type": "execute_result",
          "data": {
            "text/plain": [
              "110"
            ]
          },
          "metadata": {},
          "execution_count": 5
        }
      ]
    },
    {
      "cell_type": "code",
      "source": [
        "x = 100\n",
        "\n",
        "def plusX(z):\n",
        "  # v가 x를 가리키게 되었기 때문에 수정할 수 있는 권한이 들어오지 않았을까?\n",
        "  # No\n",
        "  v = x\n",
        "  x = z + x\n",
        "  return z"
      ],
      "metadata": {
        "id": "uDj-Qhy-muuR"
      },
      "execution_count": null,
      "outputs": []
    },
    {
      "cell_type": "code",
      "source": [
        "def changePrint():\n",
        "  print = 100\n",
        "  return print\n",
        "\n",
        "changePrint()"
      ],
      "metadata": {
        "id": "u0GR96CPmuwu"
      },
      "execution_count": null,
      "outputs": []
    },
    {
      "cell_type": "markdown",
      "source": [
        "# 재귀함수"
      ],
      "metadata": {
        "id": "nXHMwx8WmuzI"
      }
    },
    {
      "cell_type": "code",
      "source": [
        "# 대부분의 코드는 for로 대체할 수 있습니다.\n",
        "# 효율도 매우 좋지 않습니다. 다만 메모라이징 기법을 사용하면 좋긴 합니다.\n",
        "# 다이나믹 프로그래밍 등 필수적으로 사용되는 곳이 있기도 합니다."
      ],
      "metadata": {
        "id": "sJCgV6DGmu1j"
      },
      "execution_count": null,
      "outputs": []
    },
    {
      "cell_type": "code",
      "source": [
        "def factorial(n):\n",
        "    if n == 1:\n",
        "        return n\n",
        "    return n * factorial(n-1)\n",
        "\n",
        "factorial(5)\n",
        "\n",
        "#                 return 값\n",
        "# factorial(5) == 5 * factorial(4) == 5 * 24\n",
        "# factorial(4) == 4 * factorial(3) == 4 * 6\n",
        "# factorial(3) == 3 * factorial(2) == 3 * 2\n",
        "# factorial(2) == 2 * factorial(1) == 2 * 1\n",
        "# factorial(1) == 1"
      ],
      "metadata": {
        "colab": {
          "base_uri": "https://localhost:8080/"
        },
        "id": "KZf6-C2bmu35",
        "outputId": "2b11394f-7d4e-4352-ff64-559237f70073"
      },
      "execution_count": null,
      "outputs": [
        {
          "output_type": "execute_result",
          "data": {
            "text/plain": [
              "120"
            ]
          },
          "metadata": {},
          "execution_count": 8
        }
      ]
    },
    {
      "cell_type": "code",
      "source": [
        "# for 문으로 구현해보기\n",
        "result = 1 \n",
        "\n",
        "for i in range(1,6):\n",
        "  result *= i \n",
        "\n",
        "print(result)"
      ],
      "metadata": {
        "colab": {
          "base_uri": "https://localhost:8080/"
        },
        "id": "d85KU7dFmu6O",
        "outputId": "c7d4db8a-bf9b-47b0-ec57-a5d8f58b002b"
      },
      "execution_count": null,
      "outputs": [
        {
          "output_type": "stream",
          "name": "stdout",
          "text": [
            "120\n"
          ]
        }
      ]
    },
    {
      "cell_type": "code",
      "source": [
        "# 재귀함수로 문자열 반대로 출력하기\n",
        "\n",
        "def string_reverse(s):\n",
        "  if len(s) == 1 : # 얼리리턴 : 빠르게 리턴할 것들은 위에 둬서 파이썬이 빨리 연산할 수 있도록 하기 \n",
        "    return s \n",
        "  return s[0] + string_reverse(s[1:])\n",
        "\n",
        "string_reverse('hello world')\n",
        "\n",
        "def string_reverse(s):\n",
        "    if len(s) == 1:\n",
        "        return s\n",
        "    return string_reverse(s[1:]) + s[0]\n",
        "\n",
        "string_reverse('hello')\n",
        "\n",
        "# string_reverse('hello') == string_reverse('ello') + 'h' == 'olle' + 'h' == 'olleh'\n",
        "# string_reverse('ello') == string_reverse('llo') + 'e' == 'oll' + 'e' == 'olle'\n",
        "# string_reverse('llo') == string_reverse('lo') + 'l' == 'ol' + 'l' == 'oll'\n",
        "# string_reverse('lo') == string_reverse('o') + 'l' == 'o' + 'l' == 'ol'\n",
        "# string_reverse('o') == 'o'"
      ],
      "metadata": {
        "colab": {
          "base_uri": "https://localhost:8080/",
          "height": 35
        },
        "id": "y9sLuhmAvUCX",
        "outputId": "1d7898d6-b772-49e3-c96f-1644c4f93da6"
      },
      "execution_count": null,
      "outputs": [
        {
          "output_type": "execute_result",
          "data": {
            "text/plain": [
              "'dlrow olleh'"
            ],
            "application/vnd.google.colaboratory.intrinsic+json": {
              "type": "string"
            }
          },
          "metadata": {},
          "execution_count": 19
        }
      ]
    },
    {
      "cell_type": "code",
      "source": [
        "# for문으로 문자열 반대로 출력하기 \n",
        "\n",
        "s = 'leehojun'\n",
        "result = ''\n",
        "\n",
        "for i in s:\n",
        "    print('----------')\n",
        "    print(i)\n",
        "    print(f'연산 전 result : {result}')\n",
        "    result = i + result\n",
        "    print(f'연산 후 result : {result}')\n",
        "\n",
        "result\n"
      ],
      "metadata": {
        "colab": {
          "base_uri": "https://localhost:8080/",
          "height": 616
        },
        "id": "cFFB0UpWrJnD",
        "outputId": "25b86324-b4c6-4a99-d13d-bb5f487a7e3d"
      },
      "execution_count": null,
      "outputs": [
        {
          "output_type": "stream",
          "name": "stdout",
          "text": [
            "----------\n",
            "l\n",
            "연산 전 result : \n",
            "연산 후 result : l\n",
            "----------\n",
            "e\n",
            "연산 전 result : l\n",
            "연산 후 result : el\n",
            "----------\n",
            "e\n",
            "연산 전 result : el\n",
            "연산 후 result : eel\n",
            "----------\n",
            "h\n",
            "연산 전 result : eel\n",
            "연산 후 result : heel\n",
            "----------\n",
            "o\n",
            "연산 전 result : heel\n",
            "연산 후 result : oheel\n",
            "----------\n",
            "j\n",
            "연산 전 result : oheel\n",
            "연산 후 result : joheel\n",
            "----------\n",
            "u\n",
            "연산 전 result : joheel\n",
            "연산 후 result : ujoheel\n",
            "----------\n",
            "n\n",
            "연산 전 result : ujoheel\n",
            "연산 후 result : nujoheel\n"
          ]
        },
        {
          "output_type": "execute_result",
          "data": {
            "text/plain": [
              "'nujoheel'"
            ],
            "application/vnd.google.colaboratory.intrinsic+json": {
              "type": "string"
            }
          },
          "metadata": {},
          "execution_count": 16
        }
      ]
    },
    {
      "cell_type": "code",
      "source": [
        "# 재귀가 얼마나 비효율 적인지 보여주는 사례 \n",
        "\n",
        "def fib(num):\n",
        "    if num == 0:\n",
        "        return 0\n",
        "    if num == 1 or num == 2:\n",
        "        return 1\n",
        "    else:\n",
        "        return fib(num-1) + fib(num-2) # 자기 자신을 두 번이나 부르게 됨 \n",
        "\n",
        "fib(35)"
      ],
      "metadata": {
        "colab": {
          "base_uri": "https://localhost:8080/"
        },
        "id": "JJ2U_AkZrJpp",
        "outputId": "80d8e5df-072b-48df-9c8e-b80d64bb2309"
      },
      "execution_count": null,
      "outputs": [
        {
          "output_type": "execute_result",
          "data": {
            "text/plain": [
              "9227465"
            ]
          },
          "metadata": {},
          "execution_count": 1
        }
      ]
    },
    {
      "cell_type": "markdown",
      "source": [
        "# 연습문제"
      ],
      "metadata": {
        "id": "wP4Zu0KyIJ2D"
      }
    },
    {
      "cell_type": "code",
      "source": [
        "# 연습문제 1. 다음 코드를 실행하면 출력되는 값을 순서대로 작성해보세요.\n",
        "\n",
        "a = 'pithon'\n",
        "\n",
        "def 함수1():\n",
        "\n",
        "    def 함수2():\n",
        "        print('love')  \n",
        "        \n",
        "    print('I') # 1\n",
        "\n",
        "    함수2() # 2 \n",
        "    return \"python\"\n",
        "\t\n",
        "\n",
        "a = 함수1()\n",
        "print(a) # 3\n",
        "\n",
        "# I \n",
        "# love\n",
        "# python "
      ],
      "metadata": {
        "id": "zyh0BXTTrJsP",
        "colab": {
          "base_uri": "https://localhost:8080/"
        },
        "outputId": "ab0bf30e-0878-4aa3-b125-53407a37274b"
      },
      "execution_count": null,
      "outputs": [
        {
          "output_type": "stream",
          "name": "stdout",
          "text": [
            "I\n",
            "love\n",
            "python\n"
          ]
        }
      ]
    },
    {
      "cell_type": "code",
      "source": [
        "# 연습문제 2 : 함수를 이용하여 계산기 프로그램을 만들어주세요.\n",
        "\n",
        "def plus(num1, num2):\n",
        "  return int(num1) + int(num2)\n",
        "\n",
        "def minus(num1, num2):\n",
        "  return int(num1) - int(num2)\n",
        "\n",
        "def multiply(num1, num2):\n",
        "  return int(num1) * int(num2)\n",
        "\n",
        "def divide(num1, num2):\n",
        "  return int(num1) / int(num2)\n",
        "\n",
        "print('plus : ',plus(10,5))\n",
        "print('minus : ',minus(10,5))\n",
        "print('multiply : ',multiply(10,5))\n",
        "print('divide : ',divide(10,5))"
      ],
      "metadata": {
        "id": "cE3zo6-1rJut",
        "colab": {
          "base_uri": "https://localhost:8080/"
        },
        "outputId": "af52a09e-05f2-4268-e81e-a5a01c26f4fb"
      },
      "execution_count": null,
      "outputs": [
        {
          "output_type": "stream",
          "name": "stdout",
          "text": [
            "plus :  15\n",
            "minus :  5\n",
            "multiply :  50\n",
            "divide :  2.0\n"
          ]
        }
      ]
    },
    {
      "cell_type": "code",
      "source": [
        "# lambda로 문제 풀어보기 \n",
        "\n",
        "plus = lambda x, y: x + y\n",
        "minus = lambda x, y: x - y\n",
        "multiply = lambda x, y: x * y\n",
        "divide = lambda x, y: x / y\n",
        "\n",
        "print(f'plus : {plus(10, 5)}')\n",
        "print(f'minus : {minus(10, 5)}')\n",
        "print(f'multiply : {multiply(10, 5)}')\n",
        "print(f'divide : {divide(10, 5)}')"
      ],
      "metadata": {
        "id": "WeeHdcN7LvbG"
      },
      "execution_count": null,
      "outputs": []
    },
    {
      "cell_type": "code",
      "source": [
        "# try, except 구문 \n",
        "\n",
        "def plus(num1, num2):\n",
        "    try:\n",
        "        result = int(num1) + int(num2)\n",
        "        return result\n",
        "    except:\n",
        "        return '연산할 수 없습니다.'\n",
        "\n",
        "# TDD\n",
        "print(f'plus : {plus(10, 5)}')\n",
        "print(f'plus : {plus(\"10\", \"5\")}')\n",
        "print(f'plus : {plus(\"10\", 5)}')\n",
        "print(f'plus : {plus(10, \"5\")}')\n",
        "print(f'plus : {plus(\"abc\", 5)}')\n",
        "print(f'plus : {plus(10, \"abc\")}')"
      ],
      "metadata": {
        "id": "g7xAcvy5rJzp"
      },
      "execution_count": null,
      "outputs": []
    },
    {
      "cell_type": "code",
      "source": [
        "# 혹은 무한수로 나타낼 수 있다.\n",
        "\n",
        "def plus(num1, num2):\n",
        "    try:\n",
        "        result = int(num1) + int(num2)\n",
        "        return result\n",
        "    except:\n",
        "        return float(\"inf\")\n",
        "\n",
        "print(f'plus : {plus(10, 5)}')\n",
        "print(f'plus : {plus(\"10\", \"5\")}')\n",
        "print(f'plus : {plus(\"10\", 5)}')\n",
        "print(f'plus : {plus(10, \"5\")}')\n",
        "print(f'plus : {plus(\"abc\", 5)}')\n",
        "print(f'plus : {plus(10, \"abc\")}')"
      ],
      "metadata": {
        "id": "YMug2wyXrJ12"
      },
      "execution_count": null,
      "outputs": []
    },
    {
      "cell_type": "code",
      "source": [
        "# 연습문제 3 : x의 n제곱을 구하는 함수를 만들어주세요. 재귀함수를 이용하여 만들어야하며, x는 0이 아닙니다.\n",
        "\n",
        "\n",
        "def 제곱(x,n):\n",
        "  if n == 0: # 승수가 0이면 1 리턴\n",
        "    return 1\n",
        "  return x * 제곱(x, n-1)\n",
        "\n",
        "제곱(2,2)"
      ],
      "metadata": {
        "colab": {
          "base_uri": "https://localhost:8080/"
        },
        "id": "-IvjbD-XRPz2",
        "outputId": "0c65723c-5f08-4e87-b4f6-5cbc48725d71"
      },
      "execution_count": null,
      "outputs": [
        {
          "output_type": "execute_result",
          "data": {
            "text/plain": [
              "4"
            ]
          },
          "metadata": {},
          "execution_count": 13
        }
      ]
    },
    {
      "cell_type": "code",
      "source": [
        "# factory 함수\n",
        "# 클로저\n",
        "\n",
        "def factory(x):\n",
        "    def 승수(n):\n",
        "        return x ** n\n",
        "    return 승수\n",
        "\n",
        "제곱3 = factory(3)\n",
        "\n",
        "# 실제 제곱3는 아래와 같습니다.\n",
        "# def 승수(n):\n",
        "#     return 3 ** n\n",
        "\n",
        "제곱4 = factory(4)\n",
        "\n",
        "제곱3(2)\n",
        "제곱3(3)\n",
        "제곱4(2)\n",
        "제곱4(3)"
      ],
      "metadata": {
        "id": "9KD_nDyNrJ4c",
        "colab": {
          "base_uri": "https://localhost:8080/"
        },
        "outputId": "12b86eb1-9b6f-4220-a27b-9339014eafa6"
      },
      "execution_count": null,
      "outputs": [
        {
          "output_type": "execute_result",
          "data": {
            "text/plain": [
              "27"
            ]
          },
          "metadata": {},
          "execution_count": 9
        }
      ]
    },
    {
      "cell_type": "markdown",
      "source": [
        "## List (리스트)\n",
        "\n",
        "- 순서가 있는 데이터입니다.\n",
        "- 값의 수정이 가능합니다."
      ],
      "metadata": {
        "id": "NUEiFhHwrJ6Q"
      }
    },
    {
      "cell_type": "code",
      "source": [
        "l = [10, 20, 30, 40]"
      ],
      "metadata": {
        "id": "XrhamPqHrJ8r"
      },
      "execution_count": null,
      "outputs": []
    },
    {
      "cell_type": "code",
      "source": [
        "l[0:]"
      ],
      "metadata": {
        "id": "5J_d08BCrJ_D",
        "colab": {
          "base_uri": "https://localhost:8080/"
        },
        "outputId": "b12e9a35-f5b6-47eb-bb5b-85ea31a07424"
      },
      "execution_count": null,
      "outputs": [
        {
          "output_type": "execute_result",
          "data": {
            "text/plain": [
              "[10, 20, 30, 40]"
            ]
          },
          "metadata": {},
          "execution_count": 15
        }
      ]
    },
    {
      "cell_type": "code",
      "source": [
        "# 수정이 가능하다 -- mutable한 객체다. <-> immutable한 객체다(문자열) \n",
        "\n",
        "l[0] = 1000"
      ],
      "metadata": {
        "id": "umc8sZMzrKBj"
      },
      "execution_count": null,
      "outputs": []
    },
    {
      "cell_type": "code",
      "source": [
        "# 행렬 모습 \n",
        "\n",
        "data = [[1,2,3],\n",
        "        [4,5,6],\n",
        "        [7,8,9]]"
      ],
      "metadata": {
        "id": "xQWFA4AgrKEG",
        "colab": {
          "base_uri": "https://localhost:8080/"
        },
        "outputId": "6f23e0f3-095a-4e8a-b8f2-9649103496db"
      },
      "execution_count": null,
      "outputs": [
        {
          "output_type": "execute_result",
          "data": {
            "text/plain": [
              "[[1, 2, 3], [4, 5, 6], [7, 8, 9], [1, 2, 3], [4, 5, 6], [7, 8, 9]]"
            ]
          },
          "metadata": {},
          "execution_count": 18
        }
      ]
    },
    {
      "cell_type": "code",
      "source": [
        "for i in range(len(data)):\n",
        "  for j in range(len(data[1])):\n",
        "    data[i][j] *= 2 \n",
        "\n",
        "data"
      ],
      "metadata": {
        "id": "tfhue1VXrKGd",
        "colab": {
          "base_uri": "https://localhost:8080/"
        },
        "outputId": "8640584a-a81c-4b82-a984-b27adf35779c"
      },
      "execution_count": null,
      "outputs": [
        {
          "output_type": "execute_result",
          "data": {
            "text/plain": [
              "[[2, 4, 6], [8, 10, 12], [14, 16, 18]]"
            ]
          },
          "metadata": {},
          "execution_count": 21
        }
      ]
    },
    {
      "cell_type": "code",
      "source": [
        "# data[start:stop:step]\n",
        "\n",
        "data = [10, 20, 30, 40, 50, 60, 70]\n",
        "data[1:] # 20부터\n",
        "data[1:-1] # 20부터 마지막까지\n",
        "data[::2]\n",
        "data[:] # 매우 중요 "
      ],
      "metadata": {
        "id": "RglAT8Z0rKIm",
        "colab": {
          "base_uri": "https://localhost:8080/"
        },
        "outputId": "e96afb00-dc4a-4bcd-ec50-7ea0bf904792"
      },
      "execution_count": null,
      "outputs": [
        {
          "output_type": "execute_result",
          "data": {
            "text/plain": [
              "[10, 20, 30, 40, 50, 60, 70]"
            ]
          },
          "metadata": {},
          "execution_count": 26
        }
      ]
    },
    {
      "cell_type": "code",
      "source": [
        "data = [10, 20, 30, 40, 50, 60, 70]\n",
        "data2 = data\n",
        "data2[0] = 100\n",
        "data2, data "
      ],
      "metadata": {
        "colab": {
          "base_uri": "https://localhost:8080/"
        },
        "id": "tpCbLCxPXpCp",
        "outputId": "c6f23e50-f090-48b8-8fe2-be7b640352c3"
      },
      "execution_count": null,
      "outputs": [
        {
          "output_type": "execute_result",
          "data": {
            "text/plain": [
              "([100, 20, 30, 40, 50, 60, 70], [100, 20, 30, 40, 50, 60, 70])"
            ]
          },
          "metadata": {},
          "execution_count": 29
        }
      ]
    },
    {
      "cell_type": "code",
      "source": [
        "data = [10, 20, 30, 40, 50, 60, 70]\n",
        "data2 = data[:] # 슬라이싱을 한 결과값을 가지기 때문에 원본 데이터에는 영향을 주지 않는다 \n",
        "data2[0] = 100\n",
        "data2, data "
      ],
      "metadata": {
        "colab": {
          "base_uri": "https://localhost:8080/"
        },
        "id": "3cDuUY44XZYg",
        "outputId": "56f243e4-14ac-4ae7-d874-3dddc75bba83"
      },
      "execution_count": null,
      "outputs": [
        {
          "output_type": "execute_result",
          "data": {
            "text/plain": [
              "([100, 20, 30, 40, 50, 60, 70], [10, 20, 30, 40, 50, 60, 70])"
            ]
          },
          "metadata": {},
          "execution_count": 30
        }
      ]
    },
    {
      "cell_type": "markdown",
      "source": [
        "## list의 사칙연산 "
      ],
      "metadata": {
        "id": "DAj9HL1JWCXT"
      }
    },
    {
      "cell_type": "code",
      "source": [
        "[1,2,3] + [1,2,3]"
      ],
      "metadata": {
        "id": "b2YYgv3rrKKg",
        "colab": {
          "base_uri": "https://localhost:8080/"
        },
        "outputId": "02f46d9b-db65-4100-9882-500c7d0dcc46"
      },
      "execution_count": null,
      "outputs": [
        {
          "output_type": "execute_result",
          "data": {
            "text/plain": [
              "[1, 2, 3, 1, 2, 3]"
            ]
          },
          "metadata": {},
          "execution_count": 31
        }
      ]
    },
    {
      "cell_type": "code",
      "source": [
        "[1,2,3] * 2"
      ],
      "metadata": {
        "id": "7HwewyL-rKMm",
        "colab": {
          "base_uri": "https://localhost:8080/"
        },
        "outputId": "25146885-eb22-49f9-8f98-d8f18bfbece7"
      },
      "execution_count": null,
      "outputs": [
        {
          "output_type": "execute_result",
          "data": {
            "text/plain": [
              "[1, 2, 3, 1, 2, 3]"
            ]
          },
          "metadata": {},
          "execution_count": 32
        }
      ]
    },
    {
      "cell_type": "code",
      "source": [
        "# 얕은 곱하기는 메모리를 복사하지 않습니다\n",
        "\n",
        "x = [1,2,3] * 2 \n",
        "x[0]\n",
        "x "
      ],
      "metadata": {
        "id": "vxzn3h9ZrKPB"
      },
      "execution_count": null,
      "outputs": []
    },
    {
      "cell_type": "code",
      "source": [
        "# depth가 깊어질 수록 메모리를 복사함\n",
        "x = [[1,2,3] * 2 ] * 2 \n",
        "x[0][0] = 1000\n",
        "x "
      ],
      "metadata": {
        "id": "5BA4dbJQrKRP",
        "colab": {
          "base_uri": "https://localhost:8080/"
        },
        "outputId": "d7d0e821-970e-43ca-e27e-e424ee56be4a"
      },
      "execution_count": null,
      "outputs": [
        {
          "output_type": "execute_result",
          "data": {
            "text/plain": [
              "[[1000, 2, 3, 1, 2, 3], [1000, 2, 3, 1, 2, 3]]"
            ]
          },
          "metadata": {},
          "execution_count": 33
        }
      ]
    },
    {
      "cell_type": "markdown",
      "source": [
        "## 메서드"
      ],
      "metadata": {
        "id": "YkY9PoZUrKTk"
      }
    },
    {
      "cell_type": "code",
      "source": [
        "l = [10, 20, 30, 40]\n",
        "type(l), dir(l)"
      ],
      "metadata": {
        "id": "Fn03c-y9rKWH",
        "colab": {
          "base_uri": "https://localhost:8080/"
        },
        "outputId": "5a3caee5-a84c-4bf9-a470-0941b4b4ddc7"
      },
      "execution_count": null,
      "outputs": [
        {
          "output_type": "execute_result",
          "data": {
            "text/plain": [
              "(list,\n",
              " ['__add__',\n",
              "  '__class__',\n",
              "  '__class_getitem__',\n",
              "  '__contains__',\n",
              "  '__delattr__',\n",
              "  '__delitem__',\n",
              "  '__dir__',\n",
              "  '__doc__',\n",
              "  '__eq__',\n",
              "  '__format__',\n",
              "  '__ge__',\n",
              "  '__getattribute__',\n",
              "  '__getitem__',\n",
              "  '__gt__',\n",
              "  '__hash__',\n",
              "  '__iadd__',\n",
              "  '__imul__',\n",
              "  '__init__',\n",
              "  '__init_subclass__',\n",
              "  '__iter__',\n",
              "  '__le__',\n",
              "  '__len__',\n",
              "  '__lt__',\n",
              "  '__mul__',\n",
              "  '__ne__',\n",
              "  '__new__',\n",
              "  '__reduce__',\n",
              "  '__reduce_ex__',\n",
              "  '__repr__',\n",
              "  '__reversed__',\n",
              "  '__rmul__',\n",
              "  '__setattr__',\n",
              "  '__setitem__',\n",
              "  '__sizeof__',\n",
              "  '__str__',\n",
              "  '__subclasshook__',\n",
              "  'append',\n",
              "  'clear',\n",
              "  'copy',\n",
              "  'count',\n",
              "  'extend',\n",
              "  'index',\n",
              "  'insert',\n",
              "  'pop',\n",
              "  'remove',\n",
              "  'reverse',\n",
              "  'sort'])"
            ]
          },
          "metadata": {},
          "execution_count": 34
        }
      ]
    },
    {
      "cell_type": "code",
      "source": [
        "# list에 값을 추가하고 싶을 때 : append \n",
        "\n",
        "l = [10, 20, 30, 40]\n",
        "\n",
        "l.append(50)\n",
        "\n",
        "print(l)"
      ],
      "metadata": {
        "id": "TI122nnDrKYT",
        "colab": {
          "base_uri": "https://localhost:8080/"
        },
        "outputId": "5ba46a91-bd12-47ea-b765-f48ed8909534"
      },
      "execution_count": null,
      "outputs": [
        {
          "output_type": "stream",
          "name": "stdout",
          "text": [
            "[10, 20, 30, 40, 50]\n"
          ]
        }
      ]
    },
    {
      "cell_type": "code",
      "source": [
        "# 특정 위치의 한 값을 삭제하고 싶을 때 : pop\n",
        "\n",
        "l = [10, 20, 30, 40, 50]\n",
        "\n",
        "l.pop() # 인덱스를 지정하지 않으면 맨 뒤 \n",
        "l.pop(0) # 가장 앞의 값을 삭제 \n",
        "l.pop(1) \n",
        "\n",
        "print(l)"
      ],
      "metadata": {
        "colab": {
          "base_uri": "https://localhost:8080/"
        },
        "id": "9AzBEWQdZoLn",
        "outputId": "58ac0b4e-86b4-4018-d681-16186a19ca3e"
      },
      "execution_count": null,
      "outputs": [
        {
          "output_type": "stream",
          "name": "stdout",
          "text": [
            "[20, 40]\n"
          ]
        }
      ]
    },
    {
      "cell_type": "code",
      "source": [
        "# 값을 복사할 때 \n",
        "# 그래도 copy는 method라서 슬라이싱이 더 빠름 \n",
        "\n",
        "l = [10, 20, 30, 40, 50]\n",
        "\n",
        "data = l.copy()\n",
        "data[0] = 1000\n",
        "\n",
        "print(l, data)"
      ],
      "metadata": {
        "colab": {
          "base_uri": "https://localhost:8080/"
        },
        "id": "M40Up6R3ZoOK",
        "outputId": "5a878577-2b5f-4f7f-bb91-9b27c0a9bc2c"
      },
      "execution_count": null,
      "outputs": [
        {
          "output_type": "stream",
          "name": "stdout",
          "text": [
            "[10, 20, 30, 40, 50] [1000, 20, 30, 40, 50]\n"
          ]
        }
      ]
    },
    {
      "cell_type": "code",
      "source": [
        "# 특정 위치에 내가 원하는 값을 삽입하는 insert \n",
        "\n",
        "l = [10, 20, 30, 40, 50]\n",
        "\n",
        "l.insert(2,10000)\n",
        "\n",
        "print(l)"
      ],
      "metadata": {
        "colab": {
          "base_uri": "https://localhost:8080/"
        },
        "id": "iZ2hi2o6ZoQp",
        "outputId": "0c9aa2aa-256d-4550-d7e1-abe824652406"
      },
      "execution_count": null,
      "outputs": [
        {
          "output_type": "stream",
          "name": "stdout",
          "text": [
            "[10, 20, 10000, 30, 40, 50]\n"
          ]
        }
      ]
    },
    {
      "cell_type": "code",
      "source": [
        "# 어떤 값의 위치를 알아내는 index \n",
        "\n",
        "l = [10, 20, 30, 40, 50]\n",
        "\n",
        "l.index(50)"
      ],
      "metadata": {
        "colab": {
          "base_uri": "https://localhost:8080/"
        },
        "id": "9dVfTbSmZoSr",
        "outputId": "b519e5f9-35e4-407b-f671-021babb9e1da"
      },
      "execution_count": null,
      "outputs": [
        {
          "output_type": "execute_result",
          "data": {
            "text/plain": [
              "4"
            ]
          },
          "metadata": {},
          "execution_count": 43
        }
      ]
    },
    {
      "cell_type": "code",
      "source": [
        "# 값을 지우는 remove, 하지만 첫번째 위치의 10만 지우게 된다. \n",
        "\n",
        "l = [10, 20, 30, 40, 50,10,10]\n",
        "\n",
        "l.remove(10)\n",
        "\n",
        "print(l)"
      ],
      "metadata": {
        "colab": {
          "base_uri": "https://localhost:8080/"
        },
        "id": "6QHRp8DeZoVE",
        "outputId": "df77b0f8-4726-4828-a052-b3fca2432d82"
      },
      "execution_count": null,
      "outputs": [
        {
          "output_type": "stream",
          "name": "stdout",
          "text": [
            "[20, 30, 40, 50, 10, 10]\n"
          ]
        }
      ]
    },
    {
      "cell_type": "code",
      "source": [
        "## 만약 전부 다 지우고 싶다면?\n",
        "\n",
        "l = [10, 20, 30, 40, 50,10,10]\n",
        "\n",
        "\n",
        "for i in range(l.count(10)):\n",
        "  l.remove(10)\n",
        "\n",
        "print(l)"
      ],
      "metadata": {
        "colab": {
          "base_uri": "https://localhost:8080/"
        },
        "id": "CxfUL3-VZoXF",
        "outputId": "d4c8351d-5174-401c-c50e-e676b67fa1a9"
      },
      "execution_count": null,
      "outputs": [
        {
          "output_type": "stream",
          "name": "stdout",
          "text": [
            "[20, 30, 40, 50]\n"
          ]
        }
      ]
    },
    {
      "cell_type": "code",
      "source": [
        "## filter 어떤 값을 찾아내거나, 조건에 맞는 코드를 추출할 때 사용 \n",
        "\n",
        "def 함수(x):\n",
        "  return x != 10 \n",
        "\n",
        "l = [10, 20, 30, 40, 50,10,10]\n",
        "\n",
        "list(filter(함수, l))"
      ],
      "metadata": {
        "colab": {
          "base_uri": "https://localhost:8080/"
        },
        "id": "guuJMBzuZoZA",
        "outputId": "76c4f41b-14fc-4d68-f8ee-db8a2b3c9c4f"
      },
      "execution_count": null,
      "outputs": [
        {
          "output_type": "execute_result",
          "data": {
            "text/plain": [
              "[20, 30, 40, 50]"
            ]
          },
          "metadata": {},
          "execution_count": 50
        }
      ]
    },
    {
      "cell_type": "code",
      "source": [
        "## 실무에서 많이 사용하는 코드\n",
        "\n",
        "l = [10, 20, 30, 40, 50,10,10]\n",
        "list(filter(lambda x : x != 10, l))"
      ],
      "metadata": {
        "colab": {
          "base_uri": "https://localhost:8080/"
        },
        "id": "DMImTyAuZoa_",
        "outputId": "7257c851-52cd-4783-d027-06f077a81bac"
      },
      "execution_count": null,
      "outputs": [
        {
          "output_type": "execute_result",
          "data": {
            "text/plain": [
              "[20, 30, 40, 50]"
            ]
          },
          "metadata": {},
          "execution_count": 51
        }
      ]
    },
    {
      "cell_type": "code",
      "source": [
        "# 값을 뒤집는 reverse \n",
        "# 하지만 원본 값을 만지게 된다 \n",
        "\n",
        "l = [10,20,30,10,20,30,1,2,55,11]\n",
        "\n",
        "l.reverse()\n",
        "\n",
        "l "
      ],
      "metadata": {
        "colab": {
          "base_uri": "https://localhost:8080/"
        },
        "id": "UkIyaH0xZocu",
        "outputId": "540eb63b-b763-4549-b12a-1f408e059811"
      },
      "execution_count": null,
      "outputs": [
        {
          "output_type": "execute_result",
          "data": {
            "text/plain": [
              "[11, 55, 2, 1, 30, 20, 10, 30, 20, 10]"
            ]
          },
          "metadata": {},
          "execution_count": 56
        }
      ]
    },
    {
      "cell_type": "code",
      "source": [
        "# 값을 뒤집는 reversed \n",
        "# 원본 값을 만지지 않는다\n",
        "\n",
        "l = [10,20,30,10,20,30,1,2,55,11]\n",
        "\n",
        "print(list(reversed(l)))\n",
        "print(l)"
      ],
      "metadata": {
        "colab": {
          "base_uri": "https://localhost:8080/"
        },
        "id": "-9gPj78HZoea",
        "outputId": "da805d1f-530b-445a-c15b-42feb3cdf685"
      },
      "execution_count": null,
      "outputs": [
        {
          "output_type": "stream",
          "name": "stdout",
          "text": [
            "[11, 55, 2, 1, 30, 20, 10, 30, 20, 10]\n",
            "[10, 20, 30, 10, 20, 30, 1, 2, 55, 11]\n"
          ]
        }
      ]
    },
    {
      "cell_type": "code",
      "source": [
        "# 값을 직접 만져서 정렬하는 sort \n",
        "\n",
        "l.sort()\n",
        "\n",
        "l"
      ],
      "metadata": {
        "colab": {
          "base_uri": "https://localhost:8080/"
        },
        "id": "y_NfwL7gZogR",
        "outputId": "732df549-a674-4837-b709-b097be7c90c5"
      },
      "execution_count": null,
      "outputs": [
        {
          "output_type": "execute_result",
          "data": {
            "text/plain": [
              "[1, 2, 10, 10, 11, 20, 20, 30, 30, 55]"
            ]
          },
          "metadata": {},
          "execution_count": 67
        }
      ]
    },
    {
      "cell_type": "code",
      "source": [
        "# 값을 직접 만지지 않고 정렬하는 sorted \n",
        "\n",
        "sorted(l,reverse = True) # 내림차순이 가능하다 "
      ],
      "metadata": {
        "colab": {
          "base_uri": "https://localhost:8080/"
        },
        "id": "zgec0t_yZoh-",
        "outputId": "de167919-0622-4431-ccd7-c57bc47cba95"
      },
      "execution_count": null,
      "outputs": [
        {
          "output_type": "execute_result",
          "data": {
            "text/plain": [
              "[55, 30, 30, 20, 20, 11, 10, 10, 2, 1]"
            ]
          },
          "metadata": {},
          "execution_count": 69
        }
      ]
    },
    {
      "cell_type": "code",
      "source": [
        "l = [[1, 10, 'leehojun'], \n",
        "     [20, 30, 'hojun'], \n",
        "     [10, 20, 'weniv'], \n",
        "     [1, 2, 'likelion'], \n",
        "     [55, 11, 'sun']]\n",
        "\n",
        "# 1. 글자 수 대로 정렬해주세요.\n",
        "def 함수(x):\n",
        "    return len(x[2])\n",
        "\n",
        "print(list(sorted(l, key=함수)))\n",
        "print(list(sorted(l, key=lambda x:len(x[2]))))\n",
        "\n",
        "# 2. 맨 앞에 위치한 숫자대로 정렬해주세요.\n",
        "def 함수2(x):\n",
        "    return x[0]\n",
        "\n",
        "print(list(sorted(l)))\n",
        "print(list(sorted(l, key=함수2)))\n",
        "print(list(sorted(l, key=lambda x:x[0])))\n",
        "\n",
        "# 3. 중앙에 위치한 값대로 정렬해주세요.\n",
        "def 함수3(x):\n",
        "    return x[1]\n",
        "\n",
        "print(list(sorted(l)))\n",
        "print(list(sorted(l, key=함수3)))\n",
        "print(list(sorted(l, key=lambda x:x[1])))"
      ],
      "metadata": {
        "colab": {
          "base_uri": "https://localhost:8080/"
        },
        "id": "rg43zAL3Zojw",
        "outputId": "6a4a2804-1e50-4ecf-e666-4f9bcf6b2e27"
      },
      "execution_count": null,
      "outputs": [
        {
          "output_type": "stream",
          "name": "stdout",
          "text": [
            "[[55, 11, 'sun'], [20, 30, 'hojun'], [10, 20, 'weniv'], [1, 10, 'leehojun'], [1, 2, 'likelion']]\n",
            "[[55, 11, 'sun'], [20, 30, 'hojun'], [10, 20, 'weniv'], [1, 10, 'leehojun'], [1, 2, 'likelion']]\n",
            "[[1, 2, 'likelion'], [1, 10, 'leehojun'], [10, 20, 'weniv'], [20, 30, 'hojun'], [55, 11, 'sun']]\n",
            "[[1, 10, 'leehojun'], [1, 2, 'likelion'], [10, 20, 'weniv'], [20, 30, 'hojun'], [55, 11, 'sun']]\n",
            "[[1, 10, 'leehojun'], [1, 2, 'likelion'], [10, 20, 'weniv'], [20, 30, 'hojun'], [55, 11, 'sun']]\n",
            "[[1, 2, 'likelion'], [1, 10, 'leehojun'], [10, 20, 'weniv'], [20, 30, 'hojun'], [55, 11, 'sun']]\n",
            "[[1, 2, 'likelion'], [1, 10, 'leehojun'], [55, 11, 'sun'], [10, 20, 'weniv'], [20, 30, 'hojun']]\n",
            "[[1, 2, 'likelion'], [1, 10, 'leehojun'], [55, 11, 'sun'], [10, 20, 'weniv'], [20, 30, 'hojun']]\n"
          ]
        }
      ]
    },
    {
      "cell_type": "code",
      "source": [
        "l = [[1, 10, 32], \n",
        "     [20, 30, 11], \n",
        "     [10, 20, 22], \n",
        "     [1, 2, 13], \n",
        "     [55, 11, 44]]\n",
        "\n",
        "\n",
        "# 4. 3개의 전체 합대로 출력해주세요.\n",
        "def 함수4(x):\n",
        "    return sum(x)\n",
        "\n",
        "print(list(sorted(l, key=함수4)))\n",
        "print(list(sorted(l, key=lambda x:sum(x))))\n",
        "print(list(sorted(l, key=sum))) # 각 배열이 sum 함수에 들어가게 되어서 sum만 해도 같은 값이 출력이 됨 "
      ],
      "metadata": {
        "colab": {
          "base_uri": "https://localhost:8080/"
        },
        "id": "ZEU8qUyIZolw",
        "outputId": "b8b2e52a-9995-4d4e-d96a-2a288f7c1104"
      },
      "execution_count": null,
      "outputs": [
        {
          "output_type": "stream",
          "name": "stdout",
          "text": [
            "[[1, 2, 13], [1, 10, 32], [10, 20, 22], [20, 30, 11], [55, 11, 44]]\n",
            "[[1, 2, 13], [1, 10, 32], [10, 20, 22], [20, 30, 11], [55, 11, 44]]\n",
            "[[1, 2, 13], [1, 10, 32], [10, 20, 22], [20, 30, 11], [55, 11, 44]]\n"
          ]
        }
      ]
    }
  ]
}