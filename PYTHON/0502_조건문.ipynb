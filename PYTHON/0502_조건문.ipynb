{
  "nbformat": 4,
  "nbformat_minor": 0,
  "metadata": {
    "colab": {
      "provenance": [],
      "authorship_tag": "ABX9TyOPkKnKAC2zdIpIfOEqVcbB",
      "include_colab_link": true
    },
    "kernelspec": {
      "name": "python3",
      "display_name": "Python 3"
    },
    "language_info": {
      "name": "python"
    }
  },
  "cells": [
    {
      "cell_type": "markdown",
      "metadata": {
        "id": "view-in-github",
        "colab_type": "text"
      },
      "source": [
        "<a href=\"https://colab.research.google.com/github/Sogum0503/LikeLion_DataSchool/blob/main/PYTHON/0502_%EC%A1%B0%EA%B1%B4%EB%AC%B8.ipynb\" target=\"_parent\"><img src=\"https://colab.research.google.com/assets/colab-badge.svg\" alt=\"Open In Colab\"/></a>"
      ]
    },
    {
      "cell_type": "markdown",
      "source": [
        "# 1. 조건문 "
      ],
      "metadata": {
        "id": "ZE6KMfBpzJ12"
      }
    },
    {
      "cell_type": "markdown",
      "source": [
        "## 1.1. 조건문을 만들 때 고려사항 \n",
        "\n",
        "* 어떤 조건을 설정할것인가?\n",
        "* 어떤 예외가 발생할것인가?(테스트, 검증)\n",
        "* (조건문이 작성된 뒤에는) 최소 5~10번정도는 테스트 해봐라\n"
      ],
      "metadata": {
        "id": "YKQXOzl_0DKW"
      }
    },
    {
      "cell_type": "markdown",
      "source": [
        "### 1.1.1. 단일 조건문\n",
        "\n",
        "- 조건이 하나일 때 사용하는 조건문 "
      ],
      "metadata": {
        "id": "XjDKf9lW0CsQ"
      }
    },
    {
      "cell_type": "code",
      "source": [
        "# 예제 1 : 숫자열을 입력할 경우 \n",
        "\n",
        "total = 5\n",
        "\n",
        "if total > 0:\n",
        "  print(f'{total} 인이 입장하였습니다.')"
      ],
      "metadata": {
        "colab": {
          "base_uri": "https://localhost:8080/"
        },
        "id": "pHoL5Viu0cYn",
        "outputId": "9c717883-598c-41bf-e675-149b4788cdb3"
      },
      "execution_count": null,
      "outputs": [
        {
          "output_type": "stream",
          "name": "stdout",
          "text": [
            "5 인이 입장하였습니다.\n"
          ]
        }
      ]
    },
    {
      "cell_type": "code",
      "source": [
        "# 예제 2 : 숫자열 입력시 오류 \n",
        "\n",
        "total = input('몇명이 들어왔나요?')\n",
        "\n",
        "if total > 0: # 문자열이 들어와서 Type Error가 발생하게 됨 \n",
        "  print(f'{total} 인이 입장하였습니다.')"
      ],
      "metadata": {
        "colab": {
          "base_uri": "https://localhost:8080/",
          "height": 245
        },
        "id": "rlDhQtis0z8F",
        "outputId": "8573e3ec-24ec-4727-9f29-f69f4a3b8711"
      },
      "execution_count": null,
      "outputs": [
        {
          "name": "stdout",
          "output_type": "stream",
          "text": [
            "몇명이 들어왔나요?10\n"
          ]
        },
        {
          "output_type": "error",
          "ename": "TypeError",
          "evalue": "ignored",
          "traceback": [
            "\u001b[0;31m---------------------------------------------------------------------------\u001b[0m",
            "\u001b[0;31mTypeError\u001b[0m                                 Traceback (most recent call last)",
            "\u001b[0;32m<ipython-input-2-a4bac1b03f36>\u001b[0m in \u001b[0;36m<cell line: 5>\u001b[0;34m()\u001b[0m\n\u001b[1;32m      3\u001b[0m \u001b[0mtotal\u001b[0m \u001b[0;34m=\u001b[0m \u001b[0minput\u001b[0m\u001b[0;34m(\u001b[0m\u001b[0;34m'몇명이 들어왔나요?'\u001b[0m\u001b[0;34m)\u001b[0m\u001b[0;34m\u001b[0m\u001b[0;34m\u001b[0m\u001b[0m\n\u001b[1;32m      4\u001b[0m \u001b[0;34m\u001b[0m\u001b[0m\n\u001b[0;32m----> 5\u001b[0;31m \u001b[0;32mif\u001b[0m \u001b[0mtotal\u001b[0m \u001b[0;34m>\u001b[0m \u001b[0;36m0\u001b[0m\u001b[0;34m:\u001b[0m\u001b[0;34m\u001b[0m\u001b[0;34m\u001b[0m\u001b[0m\n\u001b[0m\u001b[1;32m      6\u001b[0m   \u001b[0mprint\u001b[0m\u001b[0;34m(\u001b[0m\u001b[0;34mf'{total} 인이 입장하였습니다.'\u001b[0m\u001b[0;34m)\u001b[0m\u001b[0;34m\u001b[0m\u001b[0;34m\u001b[0m\u001b[0m\n",
            "\u001b[0;31mTypeError\u001b[0m: '>' not supported between instances of 'str' and 'int'"
          ]
        }
      ]
    },
    {
      "cell_type": "code",
      "source": [
        "# 예제 3 : 문자열 입력할 때 \n",
        "\n",
        "whether = input(\"오늘 날씨는 어떤가요?\")\n",
        "\n",
        "if whether != \"\":\n",
        "  print(f\"오늘 날씨는 {whether}입니다.\")"
      ],
      "metadata": {
        "colab": {
          "base_uri": "https://localhost:8080/"
        },
        "id": "CZih_LLH00NS",
        "outputId": "c1e7832a-5522-4780-8457-ce4afa7c24c3"
      },
      "execution_count": null,
      "outputs": [
        {
          "output_type": "stream",
          "name": "stdout",
          "text": [
            "오늘 날씨는 어떤가요?맑음\n",
            "오늘 날씨는 맑음입니다.\n"
          ]
        }
      ]
    },
    {
      "cell_type": "code",
      "source": [
        "# 예제 4 : 2개 이상 조건일 때 and문 \n",
        "# 1. 오늘 날씨가 어떤가요? \"\"이 아닐 때 \n",
        "# 2. 오늘 기온이 어떤가요? 0도 이상일 때 따뜻합니다. \n",
        "\n",
        "whether = input(\"오늘의 날씨는 어떤가요? : \")\n",
        "temp = int(input(\"오늘 기온이 어떤가요? : \"))\n",
        "\n",
        "if whether != \"\" and temp > 0:\n",
        "  print(f\"오늘의 날씨는 {whether}이고, \\n오늘의 기온은 {temp}도 입니다.\")"
      ],
      "metadata": {
        "colab": {
          "base_uri": "https://localhost:8080/"
        },
        "id": "IOUaO_o200aI",
        "outputId": "bd636866-bfd0-4009-a9ee-9345fa33b43a"
      },
      "execution_count": null,
      "outputs": [
        {
          "output_type": "stream",
          "name": "stdout",
          "text": [
            "오늘의 날씨는 어떤가요? : 맑음\n",
            "오늘 기온이 어떤가요? : 21\n",
            "오늘의 날씨는 맑음이고, \n",
            "오늘의 기온은 21도 입니다.\n"
          ]
        }
      ]
    },
    {
      "cell_type": "code",
      "source": [
        "# 예제 5 : if문을 쓸 때 헷갈리는 것 \n",
        "\n",
        "job = input(\"직업이 있나요?\")\n",
        "\n",
        "if job == \"예\": # job = \"예\"로 하지 않기를! \n",
        "  print(\"직업이 있습니다.\")"
      ],
      "metadata": {
        "colab": {
          "base_uri": "https://localhost:8080/"
        },
        "id": "IyLgctSR00qK",
        "outputId": "efbebf05-97c1-4e06-a779-379d155e9e2a"
      },
      "execution_count": null,
      "outputs": [
        {
          "output_type": "stream",
          "name": "stdout",
          "text": [
            "직업이 있나요?예\n",
            "직업이 있습니다.\n"
          ]
        }
      ]
    },
    {
      "cell_type": "code",
      "source": [
        "# 연습문제 1 \n",
        "# 몇번이 답일까요? \n"
      ],
      "metadata": {
        "colab": {
          "base_uri": "https://localhost:8080/",
          "height": 136
        },
        "id": "u5i9ppL8004m",
        "outputId": "b4cc4df9-3d5d-481a-b1aa-bb50b561b6ed"
      },
      "execution_count": null,
      "outputs": [
        {
          "output_type": "error",
          "ename": "SyntaxError",
          "evalue": "ignored",
          "traceback": [
            "\u001b[0;36m  File \u001b[0;32m\"<ipython-input-18-599af3a027bd>\"\u001b[0;36m, line \u001b[0;32m5\u001b[0m\n\u001b[0;31m    if x = 10:\u001b[0m\n\u001b[0m       ^\u001b[0m\n\u001b[0;31mSyntaxError\u001b[0m\u001b[0;31m:\u001b[0m invalid syntax. Maybe you meant '==' or ':=' instead of '='?\n"
          ]
        }
      ]
    },
    {
      "cell_type": "markdown",
      "source": [
        "### 1.1.2. 다중 조건문 - if else문\n",
        "\n",
        "- 조건이 2개인 경우에는 보통 if else를 사용하지만, if elif를 사용하기도 합니다. \n",
        "\n",
        "[주의] \n",
        "-  else 사용할 때는 누락되는 조건이 없는지 확인해봐야 한다 "
      ],
      "metadata": {
        "id": "d1wrr4Gn4KtE"
      }
    },
    {
      "cell_type": "code",
      "source": [
        "# if 조건 1 :\n",
        "#   실행 문장 1 \n",
        "# else:\n",
        "#   실행 문장 2  \n",
        "\n",
        "total = int(input(\"몇명이 들어왔나요?\"))\n",
        "\n",
        "if total > 0:\n",
        "  print(f\"{total}명이 들어왔습니다\")\n",
        "else:\n",
        "  print(f\"잘못된 정보를 입력하였습니다\")"
      ],
      "metadata": {
        "colab": {
          "base_uri": "https://localhost:8080/"
        },
        "id": "c63AuK3O4KPJ",
        "outputId": "9b400d1a-24b6-427a-f075-c041ed5de1a8"
      },
      "execution_count": null,
      "outputs": [
        {
          "output_type": "stream",
          "name": "stdout",
          "text": [
            "몇명이 들어왔나요?0\n",
            "잘못된 정보를 입력하였습니다\n"
          ]
        }
      ]
    },
    {
      "cell_type": "code",
      "source": [
        "# 예제2 : 문자열 입력시 \n",
        "\n",
        "whether = input(\"오늘 날씨는 어떤가요?\")\n",
        "\n",
        "if whether != \"\":\n",
        "  print(f\"오늘의 날씨는 {whether}입니다.\")\n",
        "else:\n",
        "  print(\"날씨가 입력되지 않았습니다\")"
      ],
      "metadata": {
        "colab": {
          "base_uri": "https://localhost:8080/"
        },
        "id": "7c0yrX-K4YiP",
        "outputId": "8500b157-2ff3-4fbd-ab0e-ee172998db25"
      },
      "execution_count": null,
      "outputs": [
        {
          "output_type": "stream",
          "name": "stdout",
          "text": [
            "오늘 날씨는 어떤가요?\n",
            "날씨가 입력되지 않았습니다\n"
          ]
        }
      ]
    },
    {
      "cell_type": "markdown",
      "source": [
        "### 1.1.3. 다중 조건문 - if elif else문 \n",
        "\n",
        "- 조건이 3개 이상인 경우 사용이 되고, else 대신에 elif를 사용할 수 있지만, 마무리는 else로 하는 것을 추천한다. "
      ],
      "metadata": {
        "id": "ym1e5J_E4YzO"
      }
    },
    {
      "cell_type": "code",
      "source": [
        "# if 조건 1 :\n",
        "#   실행 문장 1 \n",
        "# elif 조건 2:\n",
        "#   실행 문장 2\n",
        "# else:\n",
        "#   실행 문장 3  \n",
        "\n",
        "total = int(input(\"몇명이 들어왔나요?\"))\n",
        "\n",
        "if total > 5:\n",
        "  print(f\"{total}명이 들어왔습니다. 많이 들어왔어요\")\n",
        "elif total > 0 and total <= 5:\n",
        "  print(f\"{total}명이 들어왔습니다. 적게 들어왔어요\")\n",
        "else:\n",
        "  print(f\"잘못된 정보를 입력하였습니다\")"
      ],
      "metadata": {
        "colab": {
          "base_uri": "https://localhost:8080/"
        },
        "id": "COKNs8cy5gs_",
        "outputId": "4ed7f71c-0049-47f7-d115-35e5782869fa"
      },
      "execution_count": null,
      "outputs": [
        {
          "output_type": "stream",
          "name": "stdout",
          "text": [
            "몇명이 들어왔나요?3\n",
            "3명이 들어왔습니다. 적게 들어왔어요\n"
          ]
        }
      ]
    },
    {
      "cell_type": "code",
      "source": [
        "# 예제2 : 문자열 입력시 \n",
        "\n",
        "whether = input(\"오늘 날씨는 어떤가요?\")\n",
        "\n",
        "if whether == \"맑음\":\n",
        "  print(f\"오늘의 날씨는 {whether}입니다. 옷을 얇게 입고 가세요\")\n",
        "elif whether == \"미세먼지\":\n",
        "  print(f\"오늘의 날씨는 {whether} 입니다. 마스크를 쓰고 가세요.\")\n",
        "else:\n",
        "  print(\"날씨가 입력되지 않았습니다\")"
      ],
      "metadata": {
        "colab": {
          "base_uri": "https://localhost:8080/"
        },
        "id": "Lr6f09iM5hB0",
        "outputId": "d75d9333-7c43-414a-fe02-bb105ee136e1"
      },
      "execution_count": null,
      "outputs": [
        {
          "output_type": "stream",
          "name": "stdout",
          "text": [
            "오늘 날씨는 어떤가요?미세먼지\n",
            "오늘의 날씨는 미세먼지 입니다. 마스크를 쓰고 가세요.\n"
          ]
        }
      ]
    },
    {
      "cell_type": "code",
      "source": [
        "# 예제 3. 코드를 짜다가 생각이 나지 않아서.. 중지를 해야할 때 pass를 사용할 수 있다. \n",
        "\n",
        "number = 0 \n",
        "\n",
        "if number > 0:\n",
        "  pass \n",
        "else:\n",
        "  pass "
      ],
      "metadata": {
        "id": "V84fDCEh5hSr"
      },
      "execution_count": null,
      "outputs": []
    },
    {
      "cell_type": "code",
      "source": [
        "number = 0 \n",
        "\n",
        "if number > 0:\n",
        "  raise NotImplementedError \n",
        "else:\n",
        "  raise NotImplementedError"
      ],
      "metadata": {
        "colab": {
          "base_uri": "https://localhost:8080/",
          "height": 209
        },
        "id": "6IZ6B2kb5hnG",
        "outputId": "771aae84-ccd3-4a67-a52a-14d629cb018a"
      },
      "execution_count": null,
      "outputs": [
        {
          "output_type": "error",
          "ename": "NotImplementedError",
          "evalue": "ignored",
          "traceback": [
            "\u001b[0;31m---------------------------------------------------------------------------\u001b[0m",
            "\u001b[0;31mNotImplementedError\u001b[0m                       Traceback (most recent call last)",
            "\u001b[0;32m<ipython-input-28-2ef91dcd5c81>\u001b[0m in \u001b[0;36m<cell line: 3>\u001b[0;34m()\u001b[0m\n\u001b[1;32m      4\u001b[0m   \u001b[0;32mraise\u001b[0m \u001b[0mNotImplementedError\u001b[0m\u001b[0;34m\u001b[0m\u001b[0;34m\u001b[0m\u001b[0m\n\u001b[1;32m      5\u001b[0m \u001b[0;32melse\u001b[0m\u001b[0;34m:\u001b[0m\u001b[0;34m\u001b[0m\u001b[0;34m\u001b[0m\u001b[0m\n\u001b[0;32m----> 6\u001b[0;31m   \u001b[0;32mraise\u001b[0m \u001b[0mNotImplementedError\u001b[0m\u001b[0;34m\u001b[0m\u001b[0;34m\u001b[0m\u001b[0m\n\u001b[0m",
            "\u001b[0;31mNotImplementedError\u001b[0m: "
          ]
        }
      ]
    },
    {
      "cell_type": "markdown",
      "source": [
        "### 1.1.4. 삼향 연산자 \n",
        "\n",
        "[사용방법] \n",
        "- 참일때의 값 / if / 조건식 / else/ 거짓일때 값 \n",
        "- 변수로 바로 할당할 수 있음 \n"
      ],
      "metadata": {
        "id": "iplku0n95iMT"
      }
    },
    {
      "cell_type": "code",
      "source": [
        "# 삼향 연산자 예시 \n",
        "\n",
        "age = 19 \n",
        "\n",
        "# 참일 때의 값 / if / 조건식 / else / 거짓일 때 값 \n",
        "\n",
        "is_audult = \"성인입니다.\" if age > 20 else \"미성년자입니다\"\n",
        "\n",
        "print(is_adult)"
      ],
      "metadata": {
        "id": "IfcInsP75ibH"
      },
      "execution_count": null,
      "outputs": []
    },
    {
      "cell_type": "markdown",
      "source": [
        "# 2.1. 중첩 조건문 \n",
        "\n",
        "* if안에 또 다른 if를 넣어서 다양한 Case를 만족 시키는 방법"
      ],
      "metadata": {
        "id": "qf8Fh3-JBL1T"
      }
    },
    {
      "cell_type": "code",
      "source": [
        "# 중첩 조건문 예시 \n",
        "\n",
        "apple = input(\"사과의 상태를 입력하세요(좋음, 나쁨)\")\n",
        "\n",
        "if apple == \"좋음\":\n",
        "  appleprice = int(input(\"사과 한개당 가격 입력\"))\n",
        "  if appleprice < 1000:\n",
        "    print(\"10개를 산다.\")\n",
        "    print(f\"사과의 가격은 {appleprice * 10}원 입니다.\")\n",
        "  else:\n",
        "    print(\"5개를 산다\")\n",
        "    print(f\"사과 가격은 {appleprice * 5} 원 입니다\")\n",
        "else:\n",
        "  print(\"사과를 안산다\")"
      ],
      "metadata": {
        "colab": {
          "base_uri": "https://localhost:8080/"
        },
        "id": "taNyTlSLCCJo",
        "outputId": "0f202376-93cb-438f-c304-7bd8d05e1e70"
      },
      "execution_count": null,
      "outputs": [
        {
          "output_type": "stream",
          "name": "stdout",
          "text": [
            "사과의 상태를 입력하세요(좋음, 나쁨)나쁨\n",
            "사과를 안산다\n"
          ]
        }
      ]
    },
    {
      "cell_type": "code",
      "source": [
        "# True = 1 False = 0\n",
        "\n",
        "if 0:\n",
        "  print(\"0은 True로 변환합니다.\")\n",
        "else:\n",
        "  print(\"0은 False로 변환합니다.\")"
      ],
      "metadata": {
        "colab": {
          "base_uri": "https://localhost:8080/"
        },
        "id": "B5AGS8tdClfL",
        "outputId": "bc298aa2-7e8b-4279-8dde-48b2ebe20be5"
      },
      "execution_count": null,
      "outputs": [
        {
          "output_type": "stream",
          "name": "stdout",
          "text": [
            "0은 False로 변환합니다.\n"
          ]
        }
      ]
    },
    {
      "cell_type": "code",
      "source": [
        "# 실습문제 1 \n",
        "\n",
        "score = int(input(\"점수를 입력하세요 : \"))\n",
        "absent = int(input(\"결석 횟수를 입력하세요 : \"))\n",
        "\n",
        "if absent >= 3:\n",
        "  print(\"F\")\n",
        "else:\n",
        "  if score >= 90:\n",
        "    print(\"A\")\n",
        "  elif score >= 80:\n",
        "    print(\"B\")\n",
        "  elif score >= 60:\n",
        "    print(\"C\")\n",
        "  elif score >= 40:\n",
        "    print(\"D\")\n",
        "  else:\n",
        "    print(\"F\")\n"
      ],
      "metadata": {
        "colab": {
          "base_uri": "https://localhost:8080/"
        },
        "id": "i4Sqh41lCl7f",
        "outputId": "b4edb56d-b063-4567-bc05-da186e77b7c8"
      },
      "execution_count": null,
      "outputs": [
        {
          "output_type": "stream",
          "name": "stdout",
          "text": [
            "점수를 입력하세요 : 22\n",
            "결석 횟수를 입력하세요 : 1\n",
            "F\n"
          ]
        }
      ]
    },
    {
      "cell_type": "code",
      "source": [
        "# 실습문제 2 \n",
        "\n",
        "num = int(input(\"숫자를 입력하세요 : \"))\n",
        "\n",
        "if num % 2 == 0:\n",
        "  print(\"짝수입니다\")\n",
        "else: \n",
        "  print(\"홀수입니다\")\n"
      ],
      "metadata": {
        "colab": {
          "base_uri": "https://localhost:8080/"
        },
        "id": "xAoFIClnCmPH",
        "outputId": "4b097c26-2eea-4df3-81b1-62d4a53f80de"
      },
      "execution_count": null,
      "outputs": [
        {
          "output_type": "stream",
          "name": "stdout",
          "text": [
            "숫자를 입력하세요 : 11\n",
            "홀수입니다\n"
          ]
        }
      ]
    },
    {
      "cell_type": "code",
      "source": [
        "num_str = input(\"숫자를 입력하세요 : \")\n",
        "\n",
        "if type(num_str) == str:\n",
        "  print(\"문자가 아닌 숫자를 입력하세요\")\n",
        "else:\n",
        "  num = int(num_str)\n",
        "  if num % 2 == 0:\n",
        "    print(\"짝수입니다\")\n",
        "  else: \n",
        "    print(\"홀수입니다\")"
      ],
      "metadata": {
        "colab": {
          "base_uri": "https://localhost:8080/"
        },
        "id": "O0hQMTDKCmpW",
        "outputId": "368db87d-27f7-47fc-efc9-e1969b9d46cf"
      },
      "execution_count": null,
      "outputs": [
        {
          "output_type": "stream",
          "name": "stdout",
          "text": [
            "숫자를 입력하세요 : 안녕하세요\n",
            "문자가 아닌 숫자를 입력하세요\n"
          ]
        }
      ]
    },
    {
      "cell_type": "code",
      "source": [
        "# 실습문제3 \n",
        "\n",
        "money = int(input(\"현재 돈이 얼마나 있는가요? : \"))\n",
        "coffee = int(input(\"커피의 가격을 입력하세요 : \"))\n",
        "\n",
        "if coffee not in [600, 1000, 1500]:\n",
        "  print(\"해당 가격의 커피는 존재하지 않습니다\")\n",
        "else:\n",
        "  if money - coffee < 0 :\n",
        "    print(\"돈이 부족합니다\")\n",
        "  elif money - coffee >= 0 :\n",
        "    print(f\"거스름돈은 {money - coffee}입니다.\")"
      ],
      "metadata": {
        "colab": {
          "base_uri": "https://localhost:8080/"
        },
        "id": "laq4OJDLCmyp",
        "outputId": "a3e4a4a8-8734-4a00-d1db-3ef5d577e1d5"
      },
      "execution_count": null,
      "outputs": [
        {
          "output_type": "stream",
          "name": "stdout",
          "text": [
            "현재 돈이 얼마나 있는가요? : 15000\n",
            "커피의 가격을 입력하세요 : 2000\n",
            "해당 가격의 커피는 존재하지 않습니다\n"
          ]
        }
      ]
    },
    {
      "cell_type": "code",
      "source": [
        "import datetime\n",
        "from datetime import datetime\n",
        "import pytz\n",
        "\n",
        "# 생년 월일 입력 받기 \n",
        "birth_year = int(input(\"태어난 연도를 입력하시오: \"))\n",
        "\n",
        "# 현재 시각을 구하기 \n",
        "kor_now = datetime.now(pytz.timezone('Asia/Seoul'))\n",
        "\n",
        "# 만 나이 계산하기 \n",
        "\n",
        "age = kor_now.year - birth_year + 1 \n",
        "\n",
        "# 만 나이 구간 계산하기 \n",
        "\n",
        "if age <= 5:\n",
        "  print(\"영유아 입니다\")\n",
        "elif age <= 12:\n",
        "  print(\"아동 입니다\")\n",
        "elif age <= 18:\n",
        "  print(\"청소년 입니다\")\n",
        "elif age <= 29:\n",
        "  print(\"청년 입니다\")\n",
        "elif age <=49:\n",
        "  print(\"중년 입니다\")\n",
        "elif age <= 64:\n",
        "  print(\"장년 입니다\")\n",
        "else:\n",
        "  print(\"노년 입니다\")"
      ],
      "metadata": {
        "colab": {
          "base_uri": "https://localhost:8080/"
        },
        "id": "qD5agCaeCnAh",
        "outputId": "f25534d0-49e6-44ac-ec73-0436afa43ff0"
      },
      "execution_count": null,
      "outputs": [
        {
          "output_type": "stream",
          "name": "stdout",
          "text": [
            "태어난 연도를 입력하시오: 1964\n",
            "장년 입니다\n"
          ]
        }
      ]
    },
    {
      "cell_type": "code",
      "source": [],
      "metadata": {
        "id": "bl27psROoklP"
      },
      "execution_count": null,
      "outputs": []
    }
  ]
}